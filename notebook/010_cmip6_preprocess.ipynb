{
 "cells": [
  {
   "cell_type": "markdown",
   "metadata": {},
   "source": [
    "# CMIP6 data normalization"
   ]
  },
  {
   "cell_type": "code",
   "execution_count": 1,
   "metadata": {},
   "outputs": [],
   "source": [
    "import numpy as np\n",
    "import pandas as pd\n",
    "import h5py"
   ]
  },
  {
   "cell_type": "markdown",
   "metadata": {},
   "source": [
    "## Qualified datasets"
   ]
  },
  {
   "cell_type": "code",
   "execution_count": 2,
   "metadata": {},
   "outputs": [],
   "source": [
    "dataset_mce = [\n",
    "    # originally used for MCE calibration\n",
    "    'ACCESS-CM2',\n",
    "    'ACCESS-ESM1-5',\n",
    "    'AWI-CM-1-1-MR',\n",
    "    'BCC-CSM2-MR',\n",
    "    'BCC-ESM1',\n",
    "    'CAMS-CSM1-0',\n",
    "    'CanESM5',\n",
    "    'CESM2',\n",
    "    'CESM2-FV2',\n",
    "    'CESM2-WACCM',\n",
    "    'CESM2-WACCM-FV2',\n",
    "    'CNRM-CM6-1',\n",
    "    'CNRM-CM6-1-HR',\n",
    "    'CNRM-ESM2-1',\n",
    "    'E3SM-1-0',\n",
    "    'EC-Earth3',\n",
    "    'EC-Earth3-Veg',\n",
    "    'FGOALS-f3-L',\n",
    "    'FGOALS-g3',\n",
    "    'GFDL-CM4',\n",
    "    'GFDL-ESM4',\n",
    "    'GISS-E2-1-G', # partly replaced with 1pctCO2-4xext\n",
    "    'GISS-E2-1-H',\n",
    "    'GISS-E2-2-G',\n",
    "    'HadGEM3-GC31-LL',\n",
    "    'HadGEM3-GC31-MM',\n",
    "    'INM-CM4-8',\n",
    "    'IPSL-CM6A-LR',\n",
    "    'MIROC-ES2L',\n",
    "    'MIROC6',\n",
    "    'MPI-ESM1-2-HR',\n",
    "    'MPI-ESM1-2-LR',\n",
    "    'MRI-ESM2-0',\n",
    "    'NESM3',\n",
    "    'NorESM2-LM',\n",
    "    'NorESM2-MM',\n",
    "    'SAM0-UNICON',\n",
    "    'UKESM1-0-LL',\n",
    "]\n",
    "dataset_add = [\n",
    "    # from RCMIP\n",
    "    'CIESM',\n",
    "    'CMCC-CM2-SR5',\n",
    "    'IITM-ESM',\n",
    "    'NorCPM1',\n",
    "    'TaiESM1',\n",
    "    # from Chapter-7 repository\n",
    "    'CAS-ESM2-0', # 1pctCO2 not available\n",
    "    'INM-CM5-0', # 1pctCO2 not available\n",
    "    # TLM parameters available, but currently no CMIP6 data\n",
    "    'MCM-UA-1-0',\n",
    "]"
   ]
  },
  {
   "cell_type": "markdown",
   "metadata": {},
   "source": [
    "## Normalization\n",
    "\n",
    "Anomalies are defined as deviations from a linear fit of piControl."
   ]
  },
  {
   "cell_type": "code",
   "execution_count": 3,
   "metadata": {},
   "outputs": [],
   "source": [
    "# Pre-processed CMIP6 global mean data\n",
    "# abrupt-4xCO2 and 1pctCO2 series are stitched to piControl series\n",
    "# using the piControl time coordinates in common\n",
    "f1 = h5py.File('./datain/cmip6_global_mean.h5', 'r')"
   ]
  },
  {
   "cell_type": "code",
   "execution_count": 4,
   "metadata": {},
   "outputs": [],
   "source": [
    "# Read rtnt and tas time series over 150-year and 140-year periods\n",
    "# of abrupt-4xCO2 and 1pctCO2, respectively,\n",
    "# and corresponding piControl series\n",
    "dfset = {}\n",
    "\n",
    "map_slice = {\n",
    "    'abrupt-4xCO2': slice(None, 150),\n",
    "    '1pctCO2': slice(None, 140),\n",
    "    'piControl': slice(None, None),\n",
    "}\n",
    "\n",
    "for k, v in f1.items():\n",
    "    df = {}\n",
    "    for k1, v1 in v.items():\n",
    "        dlen = min([len(v2) for v2 in v1.values()])\n",
    "        df[k1] = (\n",
    "            pd.DataFrame({\n",
    "                k2: v2[:dlen][map_slice[k1]] for k2, v2 in v1.items()\n",
    "            })\n",
    "            .set_index('year')\n",
    "        )\n",
    "\n",
    "    df = pd.concat(df, axis=1)\n",
    "    # Truncate the period to keep the range covering abrupt-4xCO2 and 1pctCO2.\n",
    "    # The length of truncated periods is mostly 150 years, but can be longer\n",
    "    # when the branch time is different between abrupt-4xCO2 and 1pctCO2\n",
    "    if df.shape[1] == 4:\n",
    "        df = df.dropna()\n",
    "    else:\n",
    "        d1 = df.apply(lambda d1: len(d1.dropna()), axis=1) < 4\n",
    "        (i0, i1) = (d1.idxmin(), d1.iloc[::-1].idxmin())\n",
    "        df = df.loc[i0:i1]\n",
    "\n",
    "    dfset[k] = df.T"
   ]
  },
  {
   "cell_type": "code",
   "execution_count": 5,
   "metadata": {},
   "outputs": [],
   "source": [
    "f1.close()"
   ]
  },
  {
   "cell_type": "code",
   "execution_count": 6,
   "metadata": {},
   "outputs": [],
   "source": [
    "def linear_trend(d1):\n",
    "    \"\"\"Return linear trend of a given time series\n",
    "\n",
    "    Parameters\n",
    "    ----------\n",
    "    d1\n",
    "        Input time series\n",
    "\n",
    "    Returns\n",
    "    -------\n",
    "        Linear trend time series\n",
    "    \"\"\"\n",
    "    p = np.polyfit(d1.index, d1, 1)\n",
    "    return pd.Series(p[0] * d1.index.values + p[1], index=d1.index)"
   ]
  },
  {
   "cell_type": "code",
   "execution_count": 7,
   "metadata": {},
   "outputs": [],
   "source": [
    "df_norm1 = {}\n",
    "\n",
    "for k, df in dfset.items():\n",
    "    for k1, df1 in df.groupby(level=1):\n",
    "        df1n = df1.sub(linear_trend(df1.loc[('piControl', k1)]))\n",
    "        df1n.columns = np.arange(df1.shape[1]) + 0.5\n",
    "        df_norm1[(k, k1)] = df1n.droplevel(1)\n",
    "\n",
    "df_norm1 = pd.concat(df_norm1)"
   ]
  },
  {
   "cell_type": "code",
   "execution_count": 8,
   "metadata": {},
   "outputs": [],
   "source": [
    "df_norm1.to_csv('./dataout/cmip6_normalized_1.csv')"
   ]
  }
 ],
 "metadata": {
  "kernelspec": {
   "display_name": "Python 3",
   "language": "python",
   "name": "python3"
  },
  "language_info": {
   "codemirror_mode": {
    "name": "ipython",
    "version": 3
   },
   "file_extension": ".py",
   "mimetype": "text/x-python",
   "name": "python",
   "nbconvert_exporter": "python",
   "pygments_lexer": "ipython3",
   "version": "3.7.10"
  }
 },
 "nbformat": 4,
 "nbformat_minor": 2
}

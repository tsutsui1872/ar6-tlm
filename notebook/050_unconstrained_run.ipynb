{
 "cells": [
  {
   "cell_type": "markdown",
   "metadata": {},
   "source": [
    "# Perform unconstrained runs\n",
    "\n",
    "Input\n",
    "- `dataout/fair_samples_forcing.nc`\n",
    "    Uncertainty factors and coefficients of categorized forcing agents\n",
    "    from `040_forcing_unc.ipynb`\n",
    "- `dataout/parms_sample.nc`\n",
    "    Sampled parameters (N=50,000) from `030_parms_sampling.ipynb`\n",
    "\n",
    "Output\n",
    "- `dataout/unconstrained_run.nc`\n",
    "    Results from unconstrained runs over the historical period of 1750–2019"
   ]
  },
  {
   "cell_type": "code",
   "execution_count": 1,
   "metadata": {},
   "outputs": [],
   "source": [
    "import sys\n",
    "import yaml\n",
    "import numpy as np\n",
    "import pandas as pd\n",
    "from netCDF4 import Dataset\n",
    "from tqdm.notebook import tqdm"
   ]
  },
  {
   "cell_type": "code",
   "execution_count": 2,
   "metadata": {},
   "outputs": [],
   "source": [
    "# mce is available in https://github.com/tsutsui1872/mce \n",
    "sys.path.append('../mce')"
   ]
  },
  {
   "cell_type": "code",
   "execution_count": 3,
   "metadata": {},
   "outputs": [],
   "source": [
    "from src.util import RetrieveGitHub, df2nc\n",
    "from src.tlm import DriverMCE"
   ]
  },
  {
   "cell_type": "code",
   "execution_count": 4,
   "metadata": {},
   "outputs": [],
   "source": [
    "owner = 'IPCC-WG1'\n",
    "repo = 'Chapter-7'\n",
    "repo_ch7 = RetrieveGitHub(owner, repo, './datain')"
   ]
  },
  {
   "cell_type": "markdown",
   "metadata": {},
   "source": [
    "## Forcing input with uncertainties"
   ]
  },
  {
   "cell_type": "code",
   "execution_count": 5,
   "metadata": {},
   "outputs": [
    {
     "name": "stderr",
     "output_type": "stream",
     "text": [
      "[2024-07-21 16:19:28 src.util] INFO:Use local file datain/IPCC-WG1/Chapter-7/data_output/AR6_ERF_1750-2019.csv retrieved from https://github.com/IPCC-WG1/Chapter-7/raw/main/data_output/AR6_ERF_1750-2019.csv on 2024-06-13\n"
     ]
    }
   ],
   "source": [
    "path = repo_ch7.retrieve('data_output/AR6_ERF_1750-2019.csv')\n",
    "df_erf_hist = pd.read_csv(path).set_index('year')"
   ]
  },
  {
   "cell_type": "code",
   "execution_count": 6,
   "metadata": {},
   "outputs": [
    {
     "name": "stderr",
     "output_type": "stream",
     "text": [
      "[2024-07-21 16:19:31 src.util] INFO:Use local file datain/IPCC-WG1/Chapter-7/data_output/emissions_ceds_update_plus_bb.csv retrieved from https://github.com/IPCC-WG1/Chapter-7/raw/main/data_output/emissions_ceds_update_plus_bb.csv on 2024-06-13\n"
     ]
    }
   ],
   "source": [
    "path = repo_ch7.retrieve('data_output/emissions_ceds_update_plus_bb.csv')\n",
    "df_emis = pd.read_csv(path, index_col=0)"
   ]
  },
  {
   "cell_type": "code",
   "execution_count": 7,
   "metadata": {},
   "outputs": [],
   "source": [
    "nsize = 50000\n",
    "\n",
    "ncf = Dataset('./dataout/fair_samples_forcing.nc')\n",
    "\n",
    "df_erf_scale = pd.DataFrame({\n",
    "    k: ncf.variables[f'scale_normals__{k}'][:nsize]\n",
    "    for k in [\n",
    "        'co2', 'ch4', 'n2o', 'other_wmghg', 'o3', 'h2o_stratospheric',\n",
    "        'contrails', 'bc_on_snow', 'land_use', 'volcanic', 'solar',\n",
    "    ]\n",
    "})\n",
    "\n",
    "trend_solar = ncf.variables['trend_solar'][:nsize].filled()\n",
    "\n",
    "aer_coeff = {\n",
    "    k: ncf.variables[k][:nsize].filled()\n",
    "    for k in ['beta_so2', 'beta_bc', 'beta_oc', 'beta_nh3', 'beta']\n",
    "}\n",
    "aer_coeff['aci_coeffs'] = np.array([\n",
    "    ncf.variables['aci_coeffs__0'][:nsize].filled(),\n",
    "    ncf.variables['aci_coeffs__1'][:nsize].filled(),\n",
    "]).T\n",
    "\n",
    "ncf.close()"
   ]
  },
  {
   "cell_type": "markdown",
   "metadata": {},
   "source": [
    "## TLM parameter ensemble"
   ]
  },
  {
   "cell_type": "code",
   "execution_count": 8,
   "metadata": {},
   "outputs": [],
   "source": [
    "ncf = Dataset('./dataout/parms_sample.nc')\n",
    "\n",
    "method_order = [x for x in ncf.variables['Method'][:]]\n",
    "names = ['q4x', 'q2x', 'lamg', 'cmix', 'cdeep', 'gamma_2l', 'eff', 'co2_beta']\n",
    "\n",
    "df = [ncf.variables[k][:].filled(np.nan) for k in names]\n",
    "df_parms_sample = pd.DataFrame(\n",
    "    np.hstack(df),\n",
    "    columns=pd.MultiIndex.from_product([names, method_order]),\n",
    ")\n",
    "\n",
    "ncf.close()"
   ]
  },
  {
   "cell_type": "code",
   "execution_count": 9,
   "metadata": {},
   "outputs": [
    {
     "data": {
      "text/plain": [
       "True"
      ]
     },
     "execution_count": 9,
     "metadata": {},
     "output_type": "execute_result"
    }
   ],
   "source": [
    "len(df_parms_sample) == nsize"
   ]
  },
  {
   "cell_type": "markdown",
   "metadata": {},
   "source": [
    "## CO2 forcing scales"
   ]
  },
  {
   "cell_type": "code",
   "execution_count": 10,
   "metadata": {},
   "outputs": [],
   "source": [
    "driver = DriverMCE()"
   ]
  },
  {
   "cell_type": "code",
   "execution_count": 11,
   "metadata": {},
   "outputs": [
    {
     "data": {
      "text/plain": [
       "8.259783657536742"
      ]
     },
     "execution_count": 11,
     "metadata": {},
     "output_type": "execute_result"
    }
   ],
   "source": [
    "q4x_ref = driver.q4x_ref\n",
    "q4x_ref"
   ]
  },
  {
   "cell_type": "code",
   "execution_count": 12,
   "metadata": {},
   "outputs": [],
   "source": [
    "df_scale_co2 = pd.concat([\n",
    "    df_parms_sample.loc[:, ('q4x', method)].div(q4x_ref).rename(method)\n",
    "    for method in ['ar6', 's21']\n",
    "], axis=1)"
   ]
  },
  {
   "cell_type": "code",
   "execution_count": 13,
   "metadata": {},
   "outputs": [
    {
     "data": {
      "text/html": [
       "<div>\n",
       "<style scoped>\n",
       "    .dataframe tbody tr th:only-of-type {\n",
       "        vertical-align: middle;\n",
       "    }\n",
       "\n",
       "    .dataframe tbody tr th {\n",
       "        vertical-align: top;\n",
       "    }\n",
       "\n",
       "    .dataframe thead th {\n",
       "        text-align: right;\n",
       "    }\n",
       "</style>\n",
       "<table border=\"1\" class=\"dataframe\">\n",
       "  <thead>\n",
       "    <tr style=\"text-align: right;\">\n",
       "      <th></th>\n",
       "      <th>ar6</th>\n",
       "      <th>s21</th>\n",
       "    </tr>\n",
       "  </thead>\n",
       "  <tbody>\n",
       "    <tr>\n",
       "      <th>mean</th>\n",
       "      <td>0.943026</td>\n",
       "      <td>0.953481</td>\n",
       "    </tr>\n",
       "    <tr>\n",
       "      <th>std</th>\n",
       "      <td>0.128072</td>\n",
       "      <td>0.134166</td>\n",
       "    </tr>\n",
       "  </tbody>\n",
       "</table>\n",
       "</div>"
      ],
      "text/plain": [
       "           ar6       s21\n",
       "mean  0.943026  0.953481\n",
       "std   0.128072  0.134166"
      ]
     },
     "execution_count": 13,
     "metadata": {},
     "output_type": "execute_result"
    }
   ],
   "source": [
    "df_scale_co2.apply(['mean', 'std'])"
   ]
  },
  {
   "cell_type": "markdown",
   "metadata": {},
   "source": [
    "## Ensemble member loop"
   ]
  },
  {
   "cell_type": "code",
   "execution_count": 14,
   "metadata": {},
   "outputs": [],
   "source": [
    "cats = [\n",
    "    'co2', 'ch4', 'n2o', 'other_wmghg', 'o3',\n",
    "    'h2o_stratospheric', 'contrails', 'bc_on_snow', 'land_use',\n",
    "    'volcanic', 'solar',\n",
    "]\n",
    "cats_aerosol = [\n",
    "    'aerosol-radiation_interactions',\n",
    "    'aerosol-cloud_interactions',\n",
    "]\n",
    "cats_nonco2 = cats[1:] + cats_aerosol"
   ]
  },
  {
   "cell_type": "code",
   "execution_count": 15,
   "metadata": {},
   "outputs": [],
   "source": [
    "df_emis_a = df_emis.sub(df_emis.loc[1750])"
   ]
  },
  {
   "cell_type": "code",
   "execution_count": 16,
   "metadata": {},
   "outputs": [],
   "source": [
    "with open('./src/variables.yml') as f1:\n",
    "    var_atts = yaml.safe_load(f1)"
   ]
  },
  {
   "cell_type": "code",
   "execution_count": 17,
   "metadata": {},
   "outputs": [
    {
     "name": "stderr",
     "output_type": "stream",
     "text": [
      "[2024-07-21 16:20:15 src.util] INFO:dataout/unconstrained_run.nc is created\n"
     ]
    }
   ],
   "source": [
    "variable_order = ['tg', 'ohc']\n",
    "\n",
    "df = pd.DataFrame(\n",
    "    0.,\n",
    "    index=pd.Index([0], name='Member'),\n",
    "    columns=pd.MultiIndex.from_product([\n",
    "        variable_order,\n",
    "        method_order,\n",
    "        df_erf_hist.index,\n",
    "    ], names=['Variable', 'Method', 'Year'])\n",
    ")\n",
    "path_out = './dataout/unconstrained_run.nc'\n",
    "df2nc(path_out, df, var_atts)\n",
    "\n",
    "ncf = Dataset(path_out, 'r+')"
   ]
  },
  {
   "cell_type": "code",
   "execution_count": 18,
   "metadata": {},
   "outputs": [],
   "source": [
    "# Requirements for the MCE forcing scheme\n",
    "\n",
    "# object to get an equivalent CO2 concentration to a given forcing level\n",
    "# based on the AR6 CO2 formula\n",
    "driver.mk_interp_cco2()\n",
    "interp_cco2 = driver.interp_cco2\n",
    "\n",
    "# pre-industrial CO2 concentration\n",
    "driver.forcing.parms.ccref = driver.cco2_pi_1750"
   ]
  },
  {
   "cell_type": "code",
   "execution_count": 19,
   "metadata": {},
   "outputs": [
    {
     "data": {
      "application/vnd.jupyter.widget-view+json": {
       "model_id": "dd8906ad43694706b80b0bfd086720a2",
       "version_major": 2,
       "version_minor": 0
      },
      "text/plain": [
       "  0%|          | 0/50000 [00:00<?, ?it/s]"
      ]
     },
     "metadata": {},
     "output_type": "display_data"
    }
   ],
   "source": [
    "for im in tqdm(range(nsize)):\n",
    "    dfin = df_erf_hist.loc[:, cats].mul(df_erf_scale.loc[im, cats])\n",
    "\n",
    "    dfin['solar'] += np.linspace(0, trend_solar[im], dfin.shape[0])\n",
    "\n",
    "    dfin['aerosol-radiation_interactions'] = (\n",
    "        df_emis_a['SO2'] * aer_coeff['beta_so2'][im] * 32./64.\n",
    "        + df_emis_a['BC'] * aer_coeff['beta_bc'][im]\n",
    "        + df_emis_a['OC'] * aer_coeff['beta_oc'][im]\n",
    "        + df_emis_a['NH3'] * aer_coeff['beta_nh3'][im]\n",
    "    )\n",
    "\n",
    "    d1 = -aer_coeff['beta'][im] * np.log(\n",
    "        1.\n",
    "        + df_emis['SO2'].mul(32./64.) / aer_coeff['aci_coeffs'][im, 0]\n",
    "        + df_emis[['BC', 'OC']].sum(axis=1) / aer_coeff['aci_coeffs'][im, 1]\n",
    "    )\n",
    "    dfin['aerosol-cloud_interactions'] = d1.sub(d1.loc[1750])\n",
    "\n",
    "    df_parms = df_parms_sample.loc[im].unstack(0)\n",
    "\n",
    "    ncf.variables['Member'][im] = im\n",
    "\n",
    "    for jm, method in enumerate(method_order):\n",
    "        p1 = df_parms.loc[method].dropna()\n",
    "        driver.calib(p1)\n",
    "\n",
    "        if method == 'ar6_orig':\n",
    "            din_co2 = dfin['co2']\n",
    "        elif method in ['ar6', 's21']:\n",
    "            # Perturbed CO2 forcing is further scaled\n",
    "            din_co2 = dfin['co2'] * df_scale_co2.loc[im, method]\n",
    "        elif method == 'mce-2l':\n",
    "            # Convert CO2 forcing to equivalent CO2 concentrations\n",
    "            # and calculate forcing with the MCE CO2 scheme\n",
    "            din_co2 = driver.forcing.c2erf(interp_cco2(dfin['co2'].values))\n",
    "        else:\n",
    "            raise ValueError(f'unexpected method {method}')\n",
    "\n",
    "        din = din_co2 + dfin[cats_nonco2].sum(axis=1)\n",
    "        dfout = driver.run(din)\n",
    "\n",
    "        for vn, d1 in dfout.items():\n",
    "            if vn not in variable_order:\n",
    "                continue\n",
    "            ncf.variables[vn][im, jm, :] = d1.values\n",
    "\n",
    "ncf.close()"
   ]
  }
 ],
 "metadata": {
  "kernelspec": {
   "display_name": "Python 3",
   "language": "python",
   "name": "python3"
  },
  "language_info": {
   "codemirror_mode": {
    "name": "ipython",
    "version": 3
   },
   "file_extension": ".py",
   "mimetype": "text/x-python",
   "name": "python",
   "nbconvert_exporter": "python",
   "pygments_lexer": "ipython3",
   "version": "3.7.10"
  }
 },
 "nbformat": 4,
 "nbformat_minor": 2
}

{
 "cells": [
  {
   "cell_type": "markdown",
   "metadata": {},
   "source": [
    "# Constraining FaIR\n",
    "\n",
    "Replicated based on notebooks/160_WG3_constrain_fair_samples.ipynb\n",
    "at https://github.com/IPCC-WG1/Chapter-7\n",
    "\n",
    "The results from the Chapter 7 code need to be prepared\n",
    "and here assumed to be available as the following NetCDF files.\n",
    "```\n",
    "./datain/fair_samples_unconstrained.nc\n",
    "./datain/fair_samples_unconstrained_1pctCO2.nc\n",
    "```"
   ]
  },
  {
   "cell_type": "code",
   "execution_count": 1,
   "metadata": {},
   "outputs": [],
   "source": [
    "import json\n",
    "import numpy as np\n",
    "import pandas as pd\n",
    "import scipy.stats as stats\n",
    "import openpyxl\n",
    "from netCDF4 import Dataset"
   ]
  },
  {
   "cell_type": "code",
   "execution_count": 3,
   "metadata": {},
   "outputs": [],
   "source": [
    "from src.util import RetrieveGitHub, retrieve_url, dffilter, df2nc"
   ]
  },
  {
   "cell_type": "code",
   "execution_count": 4,
   "metadata": {},
   "outputs": [],
   "source": [
    "owner = 'IPCC-WG1'\n",
    "repo = 'Chapter-7'\n",
    "repo_ch7 = RetrieveGitHub(owner, repo, './datain')"
   ]
  },
  {
   "cell_type": "markdown",
   "metadata": {},
   "source": [
    "## Reference data"
   ]
  },
  {
   "cell_type": "code",
   "execution_count": 5,
   "metadata": {},
   "outputs": [
    {
     "name": "stderr",
     "output_type": "stream",
     "text": [
      "[2024-06-23 14:23:33 mce.util] INFO:Use local file datain/IPCC-WG1/Chapter-7/data_input/observations/AR6 FGD assessment time series - GMST and GSAT.xlsx retrieved from https://github.com/IPCC-WG1/Chapter-7/raw/main/data_input/observations/AR6%20FGD%20assessment%20time%20series%20-%20GMST%20and%20GSAT.xlsx on 2024-06-20\n"
     ]
    }
   ],
   "source": [
    "path = 'data_input/observations/AR6 FGD assessment time series - GMST and GSAT.xlsx'\n",
    "path = repo_ch7.retrieve(path)"
   ]
  },
  {
   "cell_type": "code",
   "execution_count": 6,
   "metadata": {},
   "outputs": [],
   "source": [
    "wb = openpyxl.load_workbook(path, read_only=True, data_only=True)\n",
    "ws = wb['GMST data sets and changes']\n",
    "rows = ws.iter_rows(\n",
    "    min_row=2, # 1-based index\n",
    "    max_row=2+(2020 - 1850 + 1),\n",
    "    min_col=12,\n",
    "    max_col=20,\n",
    "    values_only=True,\n",
    ")\n",
    "columns = next(rows)\n",
    "df_gmst_obs = (\n",
    "    pd.DataFrame(list(rows), columns=('Year',) + columns[1:])\n",
    "    .dropna(axis=1)\n",
    "    .set_index('Year')\n",
    ")\n",
    "wb.close()"
   ]
  },
  {
   "cell_type": "code",
   "execution_count": 7,
   "metadata": {},
   "outputs": [
    {
     "name": "stderr",
     "output_type": "stream",
     "text": [
      "[2024-06-23 14:23:45 mce.util] INFO:Use local file datain/IPCC-WG1/Chapter-7/data_input/observations/AR6_OHC_ensemble_FGDprelim.csv retrieved from https://github.com/IPCC-WG1/Chapter-7/raw/main/data_input/observations/AR6_OHC_ensemble_FGDprelim.csv on 2024-06-20\n"
     ]
    }
   ],
   "source": [
    "path = 'data_input/observations/AR6_OHC_ensemble_FGDprelim.csv'\n",
    "path = repo_ch7.retrieve(path)"
   ]
  },
  {
   "cell_type": "code",
   "execution_count": 8,
   "metadata": {},
   "outputs": [],
   "source": [
    "df_ohc_obs = pd.read_csv(path, skiprows=1, index_col=0)"
   ]
  },
  {
   "cell_type": "markdown",
   "metadata": {},
   "source": [
    "## Constraining process"
   ]
  },
  {
   "cell_type": "markdown",
   "metadata": {},
   "source": [
    "### 1. GSAT 1995-2014"
   ]
  },
  {
   "cell_type": "code",
   "execution_count": 9,
   "metadata": {},
   "outputs": [],
   "source": [
    "ncf_in = Dataset('./datain/fair_samples_unconstrained.nc')"
   ]
  },
  {
   "cell_type": "code",
   "execution_count": 10,
   "metadata": {},
   "outputs": [],
   "source": [
    "idx_year = pd.Index(ncf_in.variables['Year'][:])"
   ]
  },
  {
   "cell_type": "code",
   "execution_count": 11,
   "metadata": {},
   "outputs": [],
   "source": [
    "slc = slice(\n",
    "    idx_year.get_loc(1850),\n",
    "    idx_year.get_loc(2014) + 1,\n",
    ")\n",
    "df = pd.DataFrame(ncf_in.variables['T'][:, slc], columns=idx_year[slc])\n",
    "df_gsat = df.sub(df.loc[:, 1850:1900].mean(axis=1), axis=0)"
   ]
  },
  {
   "cell_type": "code",
   "execution_count": 12,
   "metadata": {},
   "outputs": [],
   "source": [
    "df = df_gsat.sub(df_gmst_obs.loc[1850:2014, '4-set mean'])\n",
    "d_rmse_temp = np.sqrt((df**2).sum(axis=1).div(df.shape[1]))"
   ]
  },
  {
   "cell_type": "code",
   "execution_count": 13,
   "metadata": {},
   "outputs": [
    {
     "data": {
      "text/plain": [
       "311968"
      ]
     },
     "execution_count": 13,
     "metadata": {},
     "output_type": "execute_result"
    }
   ],
   "source": [
    "rmse_temp_crit = 0.135\n",
    "accept_temp = d_rmse_temp < rmse_temp_crit\n",
    "accept_temp.sum()"
   ]
  },
  {
   "cell_type": "code",
   "execution_count": 14,
   "metadata": {},
   "outputs": [],
   "source": [
    "df_ind = pd.DataFrame({'temp': d_rmse_temp})\n",
    "df_accept = pd.DataFrame({'temp': accept_temp})\n",
    "gatts = {'rmse_temp_crit': rmse_temp_crit}"
   ]
  },
  {
   "cell_type": "markdown",
   "metadata": {},
   "source": [
    "### 2. Ocean heat uptake from 1971 to 2018"
   ]
  },
  {
   "cell_type": "code",
   "execution_count": 15,
   "metadata": {},
   "outputs": [],
   "source": [
    "d_ohu = pd.Series(\n",
    "    ncf_in.variables['OHU'][:, idx_year.get_loc(2018)]\n",
    "    - ncf_in.variables['OHU'][:, idx_year.get_loc(1971)]\n",
    ") * 1e-21"
   ]
  },
  {
   "cell_type": "code",
   "execution_count": 16,
   "metadata": {},
   "outputs": [],
   "source": [
    "name_central = 'Central Estimate Full-depth'\n",
    "name_unc = 'Full-depth Uncertainty (1-sigma)'\n",
    "d_ohu_obs = (df_ohc_obs.loc[2018.5, name_central] - df_ohc_obs.loc[1971.5, name_central])\n",
    "d_ohu_obs_unc = np.sqrt(\n",
    "    df_ohc_obs.loc[1971.5, name_unc]**2 + df_ohc_obs.loc[2018.5, name_unc]**2\n",
    ")"
   ]
  },
  {
   "cell_type": "code",
   "execution_count": 17,
   "metadata": {},
   "outputs": [
    {
     "data": {
      "text/plain": [
       "322738"
      ]
     },
     "execution_count": 17,
     "metadata": {},
     "output_type": "execute_result"
    }
   ],
   "source": [
    "ohu_rate = 0.90 # Use an assumed factor of 0.90\n",
    "accept_ohu = np.logical_and(\n",
    "    ohu_rate * d_ohu > (d_ohu_obs - d_ohu_obs_unc),\n",
    "    ohu_rate * d_ohu < (d_ohu_obs + d_ohu_obs_unc),\n",
    ")\n",
    "accept_ohu.sum()"
   ]
  },
  {
   "cell_type": "code",
   "execution_count": 18,
   "metadata": {},
   "outputs": [],
   "source": [
    "df_ind['ohu'] = d_ohu\n",
    "df_accept['ohu'] = accept_ohu\n",
    "gatts.update({\n",
    "    'ohu_rate': ohu_rate,\n",
    "    'ohu_obs': d_ohu_obs,\n",
    "    'ohu_obs_unc': d_ohu_obs_unc,\n",
    "})"
   ]
  },
  {
   "cell_type": "markdown",
   "metadata": {},
   "source": [
    "### 3. CO2 concentrations in 2014"
   ]
  },
  {
   "cell_type": "code",
   "execution_count": 19,
   "metadata": {},
   "outputs": [
    {
     "name": "stderr",
     "output_type": "stream",
     "text": [
      "[2024-06-23 14:27:47 mce.util] INFO:Use local file datain/rcmip/rcmip-concentrations-annual-means-v5-1-0.csv retrieved from https://rcmip-protocols-au.s3-ap-southeast-2.amazonaws.com/v5.1.0/rcmip-concentrations-annual-means-v5-1-0.csv on 2024-06-20\n"
     ]
    }
   ],
   "source": [
    "fn = 'rcmip-concentrations-annual-means-v5-1-0.csv'\n",
    "path = retrieve_url(\n",
    "    f'./datain/rcmip/{fn}',\n",
    "    f'https://rcmip-protocols-au.s3-ap-southeast-2.amazonaws.com/v5.1.0/{fn}',\n",
    ")"
   ]
  },
  {
   "cell_type": "code",
   "execution_count": 20,
   "metadata": {},
   "outputs": [],
   "source": [
    "df = pd.read_csv(path)"
   ]
  },
  {
   "cell_type": "code",
   "execution_count": 21,
   "metadata": {},
   "outputs": [],
   "source": [
    "id_vars = df.columns[:7].to_list()\n",
    "df = df.set_index(id_vars).rename(columns=int)"
   ]
  },
  {
   "cell_type": "code",
   "execution_count": 22,
   "metadata": {},
   "outputs": [
    {
     "data": {
      "text/plain": [
       "397.5469792683919"
      ]
     },
     "execution_count": 22,
     "metadata": {},
     "output_type": "execute_result"
    }
   ],
   "source": [
    "co2_obs_2014 = dffilter(\n",
    "    df,\n",
    "    Scenario='ssp245',\n",
    "    Region='World',\n",
    "    Variable=lambda x: x.endswith('CO2'),\n",
    ").loc[:, 2014].squeeze()\n",
    "co2_obs_2014"
   ]
  },
  {
   "cell_type": "code",
   "execution_count": 23,
   "metadata": {},
   "outputs": [],
   "source": [
    "d_co2_2014 = pd.Series(\n",
    "    ncf_in.variables['C_CO2'][:, idx_year.get_loc(2014)]\n",
    ")"
   ]
  },
  {
   "cell_type": "code",
   "execution_count": 24,
   "metadata": {},
   "outputs": [
    {
     "data": {
      "text/plain": [
       "21560"
      ]
     },
     "execution_count": 24,
     "metadata": {},
     "output_type": "execute_result"
    }
   ],
   "source": [
    "co2_obs_2014_unc = 0.36\n",
    "accept_co2 = np.logical_and(\n",
    "    d_co2_2014 > co2_obs_2014 - co2_obs_2014_unc,\n",
    "    d_co2_2014 < co2_obs_2014 + co2_obs_2014_unc,\n",
    ")\n",
    "accept_co2.sum()"
   ]
  },
  {
   "cell_type": "code",
   "execution_count": 25,
   "metadata": {},
   "outputs": [],
   "source": [
    "df_ind['co2'] = d_co2_2014\n",
    "df_accept['co2'] = accept_co2\n",
    "gatts.update({\n",
    "    'co2_obs': co2_obs_2014,\n",
    "    'co2_obs_unc': co2_obs_2014_unc,\n",
    "})"
   ]
  },
  {
   "cell_type": "code",
   "execution_count": 26,
   "metadata": {},
   "outputs": [],
   "source": [
    "ncf_in.close()"
   ]
  },
  {
   "cell_type": "markdown",
   "metadata": {},
   "source": [
    "### 4. Airborne fraction"
   ]
  },
  {
   "cell_type": "code",
   "execution_count": 32,
   "metadata": {},
   "outputs": [],
   "source": [
    "df_accept['temp_ohu_co2'] = pd.Series(\n",
    "    df_accept['temp'].values\n",
    "    * df_accept['ohu'].values\n",
    "    * df_accept['co2'].values\n",
    ")"
   ]
  },
  {
   "cell_type": "code",
   "execution_count": 33,
   "metadata": {},
   "outputs": [
    {
     "data": {
      "text/plain": [
       "3751"
      ]
     },
     "execution_count": 33,
     "metadata": {},
     "output_type": "execute_result"
    }
   ],
   "source": [
    "df_accept['temp_ohu_co2'].sum()"
   ]
  },
  {
   "cell_type": "code",
   "execution_count": 34,
   "metadata": {},
   "outputs": [
    {
     "data": {
      "text/plain": [
       "3751"
      ]
     },
     "execution_count": 34,
     "metadata": {},
     "output_type": "execute_result"
    }
   ],
   "source": [
    "d1 = df_accept['temp_ohu_co2']\n",
    "accept_inds = d1.loc[d1].index.values\n",
    "len(accept_inds)"
   ]
  },
  {
   "cell_type": "code",
   "execution_count": 35,
   "metadata": {},
   "outputs": [
    {
     "name": "stderr",
     "output_type": "stream",
     "text": [
      "[2024-06-23 14:32:54 mce.util] INFO:Use local file datain/IPCC-WG1/Chapter-7/data_input/random_seeds.json retrieved from https://github.com/IPCC-WG1/Chapter-7/raw/main/data_input/random_seeds.json on 2024-06-12\n"
     ]
    }
   ],
   "source": [
    "path = repo_ch7.retrieve('data_input/random_seeds.json')"
   ]
  },
  {
   "cell_type": "code",
   "execution_count": 36,
   "metadata": {},
   "outputs": [],
   "source": [
    "with path.open() as f1:\n",
    "    SEEDS = json.load(f1)"
   ]
  },
  {
   "cell_type": "code",
   "execution_count": 37,
   "metadata": {},
   "outputs": [],
   "source": [
    "ncf_in = Dataset('./datain/fair_samples_unconstrained_1pctCO2.nc')\n",
    "d_af140 = pd.Series(ncf_in.variables['af140'][:])\n",
    "ncf_in.close()"
   ]
  },
  {
   "cell_type": "code",
   "execution_count": 38,
   "metadata": {},
   "outputs": [
    {
     "data": {
      "text/plain": [
       "1000000"
      ]
     },
     "execution_count": 38,
     "metadata": {},
     "output_type": "execute_result"
    }
   ],
   "source": [
    "SAMPLES = len(d_af140)\n",
    "SAMPLES"
   ]
  },
  {
   "cell_type": "code",
   "execution_count": 39,
   "metadata": {},
   "outputs": [],
   "source": [
    "accept_prob = stats.uniform.rvs(loc=0, scale=1, size=SAMPLES, random_state=SEEDS[79])\n",
    "norm_af140 = stats.norm(loc=.597, scale=.049)\n",
    "pdf_ref = norm_af140.pdf(0.597)\n",
    "\n",
    "accept_af = (\n",
    "    norm_af140.pdf(d_af140.loc[accept_inds].values) / pdf_ref\n",
    "    >= accept_prob[:len(accept_inds)]\n",
    ")"
   ]
  },
  {
   "cell_type": "code",
   "execution_count": 40,
   "metadata": {},
   "outputs": [
    {
     "data": {
      "text/plain": [
       "2237"
      ]
     },
     "execution_count": 40,
     "metadata": {},
     "output_type": "execute_result"
    }
   ],
   "source": [
    "accept_af.sum()"
   ]
  },
  {
   "cell_type": "code",
   "execution_count": 42,
   "metadata": {},
   "outputs": [
    {
     "data": {
      "text/plain": [
       "2237"
      ]
     },
     "execution_count": 42,
     "metadata": {},
     "output_type": "execute_result"
    }
   ],
   "source": [
    "d1 = df_accept['temp_ohu_co2'].copy()\n",
    "d1.loc[d1] = accept_af\n",
    "d1.sum()"
   ]
  },
  {
   "cell_type": "code",
   "execution_count": 44,
   "metadata": {},
   "outputs": [],
   "source": [
    "df_ind['af'] = d_af140\n",
    "df_ind['accept_prob'] = accept_prob\n",
    "df_accept['af_combined'] = d1"
   ]
  },
  {
   "cell_type": "markdown",
   "metadata": {},
   "source": [
    "The following is not in the Chapter 7 approach, but included for consistency."
   ]
  },
  {
   "cell_type": "code",
   "execution_count": 45,
   "metadata": {},
   "outputs": [],
   "source": [
    "df_accept['af_single'] = pd.Series(norm_af140.pdf(d_af140.values) / pdf_ref >= accept_prob)"
   ]
  },
  {
   "cell_type": "markdown",
   "metadata": {},
   "source": [
    "## Save results"
   ]
  },
  {
   "cell_type": "code",
   "execution_count": 51,
   "metadata": {},
   "outputs": [
    {
     "data": {
      "text/html": [
       "<div>\n",
       "<style scoped>\n",
       "    .dataframe tbody tr th:only-of-type {\n",
       "        vertical-align: middle;\n",
       "    }\n",
       "\n",
       "    .dataframe tbody tr th {\n",
       "        vertical-align: top;\n",
       "    }\n",
       "\n",
       "    .dataframe thead th {\n",
       "        text-align: right;\n",
       "    }\n",
       "</style>\n",
       "<table border=\"1\" class=\"dataframe\">\n",
       "  <thead>\n",
       "    <tr style=\"text-align: right;\">\n",
       "      <th></th>\n",
       "      <th>temp</th>\n",
       "      <th>ohu</th>\n",
       "      <th>co2</th>\n",
       "      <th>af</th>\n",
       "      <th>accept_prob</th>\n",
       "    </tr>\n",
       "  </thead>\n",
       "  <tbody>\n",
       "    <tr>\n",
       "      <th>0</th>\n",
       "      <td>0.136237</td>\n",
       "      <td>397.316364</td>\n",
       "      <td>419.263371</td>\n",
       "      <td>0.723033</td>\n",
       "      <td>0.808039</td>\n",
       "    </tr>\n",
       "  </tbody>\n",
       "</table>\n",
       "</div>"
      ],
      "text/plain": [
       "       temp         ohu         co2        af  accept_prob\n",
       "0  0.136237  397.316364  419.263371  0.723033     0.808039"
      ]
     },
     "execution_count": 51,
     "metadata": {},
     "output_type": "execute_result"
    }
   ],
   "source": [
    "df_ind.iloc[:1]"
   ]
  },
  {
   "cell_type": "code",
   "execution_count": 54,
   "metadata": {},
   "outputs": [
    {
     "name": "stderr",
     "output_type": "stream",
     "text": [
      "[2024-06-23 14:51:22 __main__] INFO:Old dataout/constraining_fair_indicators.nc is deleted\n",
      "[2024-06-23 14:51:22 __main__] INFO:dataout/constraining_fair_indicators.nc is created\n"
     ]
    }
   ],
   "source": [
    "path_out = './dataout/constraining_fair_indicators.nc'\n",
    "df2nc(\n",
    "    path_out,\n",
    "    df_ind.iloc[:1].rename_axis('Member').rename_axis(columns='Variable'),\n",
    "    {}, gatts=gatts,\n",
    ")\n",
    "ncf = Dataset(path_out, 'r+')"
   ]
  },
  {
   "cell_type": "code",
   "execution_count": 55,
   "metadata": {},
   "outputs": [],
   "source": [
    "ncf.variables['Member'][:] = df_ind.index.values\n",
    "\n",
    "for name, d1 in df_ind.items():\n",
    "    ncf.variables[name][:] = d1.values"
   ]
  },
  {
   "cell_type": "code",
   "execution_count": 56,
   "metadata": {},
   "outputs": [],
   "source": [
    "ncf.close()"
   ]
  },
  {
   "cell_type": "code",
   "execution_count": 66,
   "metadata": {},
   "outputs": [
    {
     "data": {
      "text/html": [
       "<div>\n",
       "<style scoped>\n",
       "    .dataframe tbody tr th:only-of-type {\n",
       "        vertical-align: middle;\n",
       "    }\n",
       "\n",
       "    .dataframe tbody tr th {\n",
       "        vertical-align: top;\n",
       "    }\n",
       "\n",
       "    .dataframe thead th {\n",
       "        text-align: right;\n",
       "    }\n",
       "</style>\n",
       "<table border=\"1\" class=\"dataframe\">\n",
       "  <thead>\n",
       "    <tr style=\"text-align: right;\">\n",
       "      <th></th>\n",
       "      <th>temp</th>\n",
       "      <th>ohu</th>\n",
       "      <th>co2</th>\n",
       "      <th>temp_ohu_co2</th>\n",
       "      <th>af_combined</th>\n",
       "      <th>af_single</th>\n",
       "    </tr>\n",
       "  </thead>\n",
       "  <tbody>\n",
       "    <tr>\n",
       "      <th>0</th>\n",
       "      <td>False</td>\n",
       "      <td>True</td>\n",
       "      <td>False</td>\n",
       "      <td>False</td>\n",
       "      <td>False</td>\n",
       "      <td>False</td>\n",
       "    </tr>\n",
       "    <tr>\n",
       "      <th>1</th>\n",
       "      <td>False</td>\n",
       "      <td>False</td>\n",
       "      <td>False</td>\n",
       "      <td>False</td>\n",
       "      <td>False</td>\n",
       "      <td>True</td>\n",
       "    </tr>\n",
       "    <tr>\n",
       "      <th>2</th>\n",
       "      <td>False</td>\n",
       "      <td>True</td>\n",
       "      <td>False</td>\n",
       "      <td>False</td>\n",
       "      <td>False</td>\n",
       "      <td>True</td>\n",
       "    </tr>\n",
       "    <tr>\n",
       "      <th>3</th>\n",
       "      <td>False</td>\n",
       "      <td>False</td>\n",
       "      <td>False</td>\n",
       "      <td>False</td>\n",
       "      <td>False</td>\n",
       "      <td>False</td>\n",
       "    </tr>\n",
       "    <tr>\n",
       "      <th>4</th>\n",
       "      <td>True</td>\n",
       "      <td>True</td>\n",
       "      <td>False</td>\n",
       "      <td>False</td>\n",
       "      <td>False</td>\n",
       "      <td>False</td>\n",
       "    </tr>\n",
       "    <tr>\n",
       "      <th>...</th>\n",
       "      <td>...</td>\n",
       "      <td>...</td>\n",
       "      <td>...</td>\n",
       "      <td>...</td>\n",
       "      <td>...</td>\n",
       "      <td>...</td>\n",
       "    </tr>\n",
       "    <tr>\n",
       "      <th>999995</th>\n",
       "      <td>True</td>\n",
       "      <td>False</td>\n",
       "      <td>False</td>\n",
       "      <td>False</td>\n",
       "      <td>False</td>\n",
       "      <td>True</td>\n",
       "    </tr>\n",
       "    <tr>\n",
       "      <th>999996</th>\n",
       "      <td>True</td>\n",
       "      <td>True</td>\n",
       "      <td>False</td>\n",
       "      <td>False</td>\n",
       "      <td>False</td>\n",
       "      <td>True</td>\n",
       "    </tr>\n",
       "    <tr>\n",
       "      <th>999997</th>\n",
       "      <td>True</td>\n",
       "      <td>False</td>\n",
       "      <td>False</td>\n",
       "      <td>False</td>\n",
       "      <td>False</td>\n",
       "      <td>True</td>\n",
       "    </tr>\n",
       "    <tr>\n",
       "      <th>999998</th>\n",
       "      <td>True</td>\n",
       "      <td>True</td>\n",
       "      <td>False</td>\n",
       "      <td>False</td>\n",
       "      <td>False</td>\n",
       "      <td>True</td>\n",
       "    </tr>\n",
       "    <tr>\n",
       "      <th>999999</th>\n",
       "      <td>True</td>\n",
       "      <td>True</td>\n",
       "      <td>False</td>\n",
       "      <td>False</td>\n",
       "      <td>False</td>\n",
       "      <td>False</td>\n",
       "    </tr>\n",
       "  </tbody>\n",
       "</table>\n",
       "<p>1000000 rows × 6 columns</p>\n",
       "</div>"
      ],
      "text/plain": [
       "         temp    ohu    co2  temp_ohu_co2  af_combined  af_single\n",
       "0       False   True  False         False        False      False\n",
       "1       False  False  False         False        False       True\n",
       "2       False   True  False         False        False       True\n",
       "3       False  False  False         False        False      False\n",
       "4        True   True  False         False        False      False\n",
       "...       ...    ...    ...           ...          ...        ...\n",
       "999995   True  False  False         False        False       True\n",
       "999996   True   True  False         False        False       True\n",
       "999997   True  False  False         False        False       True\n",
       "999998   True   True  False         False        False       True\n",
       "999999   True   True  False         False        False      False\n",
       "\n",
       "[1000000 rows x 6 columns]"
      ]
     },
     "execution_count": 66,
     "metadata": {},
     "output_type": "execute_result"
    }
   ],
   "source": [
    "df_accept"
   ]
  },
  {
   "cell_type": "code",
   "execution_count": 67,
   "metadata": {},
   "outputs": [],
   "source": [
    "df_accept = df_accept.astype('int8')"
   ]
  },
  {
   "cell_type": "code",
   "execution_count": 68,
   "metadata": {},
   "outputs": [
    {
     "data": {
      "text/html": [
       "<div>\n",
       "<style scoped>\n",
       "    .dataframe tbody tr th:only-of-type {\n",
       "        vertical-align: middle;\n",
       "    }\n",
       "\n",
       "    .dataframe tbody tr th {\n",
       "        vertical-align: top;\n",
       "    }\n",
       "\n",
       "    .dataframe thead th {\n",
       "        text-align: right;\n",
       "    }\n",
       "</style>\n",
       "<table border=\"1\" class=\"dataframe\">\n",
       "  <thead>\n",
       "    <tr style=\"text-align: right;\">\n",
       "      <th></th>\n",
       "      <th>temp</th>\n",
       "      <th>ohu</th>\n",
       "      <th>co2</th>\n",
       "      <th>temp_ohu_co2</th>\n",
       "      <th>af_combined</th>\n",
       "      <th>af_single</th>\n",
       "    </tr>\n",
       "  </thead>\n",
       "  <tbody>\n",
       "    <tr>\n",
       "      <th>0</th>\n",
       "      <td>0</td>\n",
       "      <td>1</td>\n",
       "      <td>0</td>\n",
       "      <td>0</td>\n",
       "      <td>0</td>\n",
       "      <td>0</td>\n",
       "    </tr>\n",
       "    <tr>\n",
       "      <th>1</th>\n",
       "      <td>0</td>\n",
       "      <td>0</td>\n",
       "      <td>0</td>\n",
       "      <td>0</td>\n",
       "      <td>0</td>\n",
       "      <td>1</td>\n",
       "    </tr>\n",
       "    <tr>\n",
       "      <th>2</th>\n",
       "      <td>0</td>\n",
       "      <td>1</td>\n",
       "      <td>0</td>\n",
       "      <td>0</td>\n",
       "      <td>0</td>\n",
       "      <td>1</td>\n",
       "    </tr>\n",
       "    <tr>\n",
       "      <th>3</th>\n",
       "      <td>0</td>\n",
       "      <td>0</td>\n",
       "      <td>0</td>\n",
       "      <td>0</td>\n",
       "      <td>0</td>\n",
       "      <td>0</td>\n",
       "    </tr>\n",
       "    <tr>\n",
       "      <th>4</th>\n",
       "      <td>1</td>\n",
       "      <td>1</td>\n",
       "      <td>0</td>\n",
       "      <td>0</td>\n",
       "      <td>0</td>\n",
       "      <td>0</td>\n",
       "    </tr>\n",
       "    <tr>\n",
       "      <th>...</th>\n",
       "      <td>...</td>\n",
       "      <td>...</td>\n",
       "      <td>...</td>\n",
       "      <td>...</td>\n",
       "      <td>...</td>\n",
       "      <td>...</td>\n",
       "    </tr>\n",
       "    <tr>\n",
       "      <th>999995</th>\n",
       "      <td>1</td>\n",
       "      <td>0</td>\n",
       "      <td>0</td>\n",
       "      <td>0</td>\n",
       "      <td>0</td>\n",
       "      <td>1</td>\n",
       "    </tr>\n",
       "    <tr>\n",
       "      <th>999996</th>\n",
       "      <td>1</td>\n",
       "      <td>1</td>\n",
       "      <td>0</td>\n",
       "      <td>0</td>\n",
       "      <td>0</td>\n",
       "      <td>1</td>\n",
       "    </tr>\n",
       "    <tr>\n",
       "      <th>999997</th>\n",
       "      <td>1</td>\n",
       "      <td>0</td>\n",
       "      <td>0</td>\n",
       "      <td>0</td>\n",
       "      <td>0</td>\n",
       "      <td>1</td>\n",
       "    </tr>\n",
       "    <tr>\n",
       "      <th>999998</th>\n",
       "      <td>1</td>\n",
       "      <td>1</td>\n",
       "      <td>0</td>\n",
       "      <td>0</td>\n",
       "      <td>0</td>\n",
       "      <td>1</td>\n",
       "    </tr>\n",
       "    <tr>\n",
       "      <th>999999</th>\n",
       "      <td>1</td>\n",
       "      <td>1</td>\n",
       "      <td>0</td>\n",
       "      <td>0</td>\n",
       "      <td>0</td>\n",
       "      <td>0</td>\n",
       "    </tr>\n",
       "  </tbody>\n",
       "</table>\n",
       "<p>1000000 rows × 6 columns</p>\n",
       "</div>"
      ],
      "text/plain": [
       "        temp  ohu  co2  temp_ohu_co2  af_combined  af_single\n",
       "0          0    1    0             0            0          0\n",
       "1          0    0    0             0            0          1\n",
       "2          0    1    0             0            0          1\n",
       "3          0    0    0             0            0          0\n",
       "4          1    1    0             0            0          0\n",
       "...      ...  ...  ...           ...          ...        ...\n",
       "999995     1    0    0             0            0          1\n",
       "999996     1    1    0             0            0          1\n",
       "999997     1    0    0             0            0          1\n",
       "999998     1    1    0             0            0          1\n",
       "999999     1    1    0             0            0          0\n",
       "\n",
       "[1000000 rows x 6 columns]"
      ]
     },
     "execution_count": 68,
     "metadata": {},
     "output_type": "execute_result"
    }
   ],
   "source": [
    "df_accept"
   ]
  },
  {
   "cell_type": "code",
   "execution_count": 69,
   "metadata": {},
   "outputs": [
    {
     "name": "stderr",
     "output_type": "stream",
     "text": [
      "[2024-06-23 14:56:31 __main__] INFO:Old dataout/constraining_fair_accept.nc is deleted\n",
      "[2024-06-23 14:56:31 __main__] INFO:dataout/constraining_fair_accept.nc is created\n"
     ]
    }
   ],
   "source": [
    "path_out = './dataout/constraining_fair_accept.nc'\n",
    "df2nc(\n",
    "    path_out,\n",
    "    df_accept.iloc[:1].rename_axis('Member').rename_axis(columns='Variable'),\n",
    "    {},\n",
    ")\n",
    "ncf = Dataset(path_out, 'r+')"
   ]
  },
  {
   "cell_type": "code",
   "execution_count": 70,
   "metadata": {},
   "outputs": [],
   "source": [
    "ncf.variables['Member'][:] = df_accept.index.values\n",
    "\n",
    "for name, d1 in df_accept.items():\n",
    "    ncf.variables[name][:] = d1.values"
   ]
  },
  {
   "cell_type": "code",
   "execution_count": 71,
   "metadata": {},
   "outputs": [],
   "source": [
    "ncf.close()"
   ]
  },
  {
   "cell_type": "markdown",
   "metadata": {},
   "source": [
    "## Consistency check"
   ]
  },
  {
   "cell_type": "code",
   "execution_count": 92,
   "metadata": {},
   "outputs": [],
   "source": [
    "ncf_accept = Dataset('./dataout/constraining_fair_accept.nc')\n",
    "ncf_ind = Dataset('./dataout/constraining_fair_indicators.nc')"
   ]
  },
  {
   "cell_type": "code",
   "execution_count": 100,
   "metadata": {},
   "outputs": [
    {
     "data": {
      "text/plain": [
       "True"
      ]
     },
     "execution_count": 100,
     "metadata": {},
     "output_type": "execute_result"
    }
   ],
   "source": [
    "d1 = ncf_ind.variables['temp'][:].filled()\n",
    "rmse_temp_crit = ncf_ind.getncattr('rmse_temp_crit')\n",
    "np.all(\n",
    "    (d1 < rmse_temp_crit)\n",
    "    == ncf_accept['temp'][:].filled().astype('bool')\n",
    ")"
   ]
  },
  {
   "cell_type": "code",
   "execution_count": 107,
   "metadata": {},
   "outputs": [
    {
     "data": {
      "text/plain": [
       "True"
      ]
     },
     "execution_count": 107,
     "metadata": {},
     "output_type": "execute_result"
    }
   ],
   "source": [
    "ohu_rate, ohu_obs, ohu_obs_unc = (\n",
    "    ncf_ind.getncattr('ohu_rate'),\n",
    "    ncf_ind.getncattr('ohu_obs'),\n",
    "    ncf_ind.getncattr('ohu_obs_unc'),\n",
    ")\n",
    "d1 = ncf_ind.variables['ohu'][:].filled()\n",
    "np.all(\n",
    "    np.logical_and(\n",
    "        ohu_rate * d1 > (ohu_obs - ohu_obs_unc),\n",
    "        ohu_rate * d1 < (ohu_obs + ohu_obs_unc),\n",
    "    )\n",
    "    == ncf_accept['ohu'][:].filled().astype('bool')\n",
    ")"
   ]
  },
  {
   "cell_type": "code",
   "execution_count": 110,
   "metadata": {},
   "outputs": [
    {
     "data": {
      "text/plain": [
       "True"
      ]
     },
     "execution_count": 110,
     "metadata": {},
     "output_type": "execute_result"
    }
   ],
   "source": [
    "co2_obs, co2_obs_unc = (\n",
    "    ncf_ind.getncattr('co2_obs'),\n",
    "    ncf_ind.getncattr('co2_obs_unc'),\n",
    ")\n",
    "d1 = ncf_ind.variables['co2'][:].filled()\n",
    "np.all(\n",
    "    np.logical_and(\n",
    "        d1 > co2_obs - co2_obs_unc,\n",
    "        d1 < co2_obs + co2_obs_unc,\n",
    "    )\n",
    "    == ncf_accept['co2'][:].filled().astype('bool')\n",
    ")"
   ]
  },
  {
   "cell_type": "code",
   "execution_count": 112,
   "metadata": {},
   "outputs": [],
   "source": [
    "accept_prob = ncf_ind.variables['accept_prob'][:].filled()\n",
    "norm_af140 = stats.norm(loc=.597, scale=.049)\n",
    "pdf_ref = norm_af140.pdf(0.597)"
   ]
  },
  {
   "cell_type": "code",
   "execution_count": 115,
   "metadata": {},
   "outputs": [
    {
     "data": {
      "text/plain": [
       "True"
      ]
     },
     "execution_count": 115,
     "metadata": {},
     "output_type": "execute_result"
    }
   ],
   "source": [
    "d1 = ncf_ind.variables['af'][:].filled()\n",
    "np.all(\n",
    "    (norm_af140.pdf(d1) / pdf_ref >= accept_prob)\n",
    "    == ncf_accept['af_single'][:].filled().astype('bool')\n",
    ")"
   ]
  },
  {
   "cell_type": "code",
   "execution_count": 124,
   "metadata": {},
   "outputs": [
    {
     "data": {
      "text/plain": [
       "True"
      ]
     },
     "execution_count": 124,
     "metadata": {},
     "output_type": "execute_result"
    }
   ],
   "source": [
    "bl = ncf_accept.variables['temp_ohu_co2'][:].filled().astype('bool')\n",
    "np.all(\n",
    "    (norm_af140.pdf(d1[bl]) / pdf_ref >= accept_prob[:len(d1[bl])])\n",
    "    == ncf_accept['af_combined'][:].filled().astype('bool')[bl]\n",
    ")"
   ]
  },
  {
   "cell_type": "code",
   "execution_count": 126,
   "metadata": {},
   "outputs": [
    {
     "data": {
      "text/plain": [
       "{'temp': 311968,\n",
       " 'ohu': 322738,\n",
       " 'co2': 21560,\n",
       " 'temp_ohu_co2': 3751,\n",
       " 'af_single': 442554,\n",
       " 'af_combined': 2237}"
      ]
     },
     "execution_count": 126,
     "metadata": {},
     "output_type": "execute_result"
    }
   ],
   "source": [
    "{\n",
    "    k: ncf_accept[k][:].sum()\n",
    "    for k in ['temp', 'ohu', 'co2', 'temp_ohu_co2', 'af_single', 'af_combined']\n",
    "}"
   ]
  },
  {
   "cell_type": "code",
   "execution_count": null,
   "metadata": {},
   "outputs": [],
   "source": [
    "ncf_ind.close()\n",
    "ncf_accept.close()"
   ]
  }
 ],
 "metadata": {
  "kernelspec": {
   "display_name": "minimal_ds",
   "language": "python",
   "name": "python3"
  },
  "language_info": {
   "codemirror_mode": {
    "name": "ipython",
    "version": 3
   },
   "file_extension": ".py",
   "mimetype": "text/x-python",
   "name": "python",
   "nbconvert_exporter": "python",
   "pygments_lexer": "ipython3",
   "version": "3.7.10"
  }
 },
 "nbformat": 4,
 "nbformat_minor": 2
}

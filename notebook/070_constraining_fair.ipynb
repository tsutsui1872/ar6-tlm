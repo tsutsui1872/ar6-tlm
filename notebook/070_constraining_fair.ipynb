{
 "cells": [
  {
   "cell_type": "markdown",
   "metadata": {},
   "source": [
    "# Constraining FaIR\n",
    "\n",
    "Replicate WGI Chapter 7 method based on notebooks/160_WG3_constrain_fair_samples.ipynb\n",
    "at https://github.com/IPCC-WG1/Chapter-7\n",
    "and apply the alternative MH sampler\n",
    "\n",
    "The results from the Chapter 7 code are required\n",
    "and here assumed to be available as the following HDF5 file.\n",
    "```\n",
    "./datain/fair_samples_unconstrained.h5\n",
    "```\n",
    "\n",
    "Output\n",
    "- `dataout/constraining_fair_indicators.nc` Indicators used in the Chapter 7 method\n",
    "- `dataout/constraining_fair_accept.nc` Results from the Chapter 7 constraining\n",
    "- `dataout/constraining_fair_indicators_alt.nc` Indicators used in the MH sampler\n",
    "- `dataout/constraining_fair_mhout.h5` Results from the MH constraining"
   ]
  },
  {
   "cell_type": "code",
   "execution_count": 1,
   "metadata": {},
   "outputs": [],
   "source": [
    "import json\n",
    "import numpy as np\n",
    "import pandas as pd\n",
    "import scipy.stats as stats\n",
    "import openpyxl\n",
    "import h5py\n",
    "from netCDF4 import Dataset"
   ]
  },
  {
   "cell_type": "code",
   "execution_count": 2,
   "metadata": {},
   "outputs": [],
   "source": [
    "from src.util import RetrieveGitHub, retrieve_url, dffilter, df2nc\n",
    "from src.stats import sampling, asymmetric_gaussian"
   ]
  },
  {
   "cell_type": "code",
   "execution_count": 3,
   "metadata": {},
   "outputs": [],
   "source": [
    "owner = 'IPCC-WG1'\n",
    "repo = 'Chapter-7'\n",
    "repo_ch7 = RetrieveGitHub(owner, repo, './datain')"
   ]
  },
  {
   "cell_type": "markdown",
   "metadata": {},
   "source": [
    "## Reference data"
   ]
  },
  {
   "cell_type": "code",
   "execution_count": 4,
   "metadata": {},
   "outputs": [
    {
     "name": "stderr",
     "output_type": "stream",
     "text": [
      "[2024-07-22 08:34:49 src.util] INFO:Use local file datain/IPCC-WG1/Chapter-7/data_input/observations/AR6 FGD assessment time series - GMST and GSAT.xlsx retrieved from https://github.com/IPCC-WG1/Chapter-7/raw/main/data_input/observations/AR6%20FGD%20assessment%20time%20series%20-%20GMST%20and%20GSAT.xlsx on 2024-06-20\n"
     ]
    }
   ],
   "source": [
    "path = 'data_input/observations/AR6 FGD assessment time series - GMST and GSAT.xlsx'\n",
    "path = repo_ch7.retrieve(path)"
   ]
  },
  {
   "cell_type": "code",
   "execution_count": 5,
   "metadata": {},
   "outputs": [],
   "source": [
    "wb = openpyxl.load_workbook(path, read_only=True, data_only=True)\n",
    "ws = wb['GMST data sets and changes']\n",
    "rows = ws.iter_rows(\n",
    "    min_row=2, # 1-based index\n",
    "    max_row=2+(2020 - 1850 + 1),\n",
    "    min_col=12,\n",
    "    max_col=20,\n",
    "    values_only=True,\n",
    ")\n",
    "columns = next(rows)\n",
    "df_gmst_obs = (\n",
    "    pd.DataFrame(list(rows), columns=('Year',) + columns[1:])\n",
    "    .dropna(axis=1)\n",
    "    .set_index('Year')\n",
    ")\n",
    "wb.close()"
   ]
  },
  {
   "cell_type": "code",
   "execution_count": 6,
   "metadata": {},
   "outputs": [
    {
     "name": "stderr",
     "output_type": "stream",
     "text": [
      "[2024-07-22 08:34:54 src.util] INFO:Use local file datain/IPCC-WG1/Chapter-7/data_input/observations/AR6_OHC_ensemble_FGDprelim.csv retrieved from https://github.com/IPCC-WG1/Chapter-7/raw/main/data_input/observations/AR6_OHC_ensemble_FGDprelim.csv on 2024-06-20\n"
     ]
    }
   ],
   "source": [
    "path = 'data_input/observations/AR6_OHC_ensemble_FGDprelim.csv'\n",
    "path = repo_ch7.retrieve(path)"
   ]
  },
  {
   "cell_type": "code",
   "execution_count": 7,
   "metadata": {},
   "outputs": [],
   "source": [
    "df_ohc_obs = pd.read_csv(path, skiprows=1, index_col=0)"
   ]
  },
  {
   "cell_type": "markdown",
   "metadata": {},
   "source": [
    "## Original constraining"
   ]
  },
  {
   "cell_type": "markdown",
   "metadata": {},
   "source": [
    "### 1. GSAT 1995-2014"
   ]
  },
  {
   "cell_type": "code",
   "execution_count": 8,
   "metadata": {},
   "outputs": [],
   "source": [
    "f_in = h5py.File('./datain/fair_samples_unconstrained.h5')"
   ]
  },
  {
   "cell_type": "code",
   "execution_count": 9,
   "metadata": {},
   "outputs": [],
   "source": [
    "idx_year = pd.Index(f_in['/historical/year'][:])"
   ]
  },
  {
   "cell_type": "code",
   "execution_count": 10,
   "metadata": {},
   "outputs": [],
   "source": [
    "# The followings are redundant, but do so for consistency with the previous code\n",
    "dset = f_in['/historical/T']\n",
    "data = np.zeros(dset.shape[::-1])\n",
    "data[:] = dset[:].T"
   ]
  },
  {
   "cell_type": "code",
   "execution_count": 11,
   "metadata": {},
   "outputs": [],
   "source": [
    "slc = slice(idx_year.get_loc(1850), idx_year.get_loc(1900)+1)\n",
    "gsat = data - data[slc].mean(axis=0)"
   ]
  },
  {
   "cell_type": "code",
   "execution_count": 12,
   "metadata": {},
   "outputs": [],
   "source": [
    "slc = slice(idx_year.get_loc(1850), idx_year.get_loc(2014) + 1)\n",
    "diff = gsat[slc] - df_gmst_obs.loc[1850:2014, '4-set mean'].values[:, None]\n",
    "rmse_temp = np.sqrt((diff ** 2).sum(axis=0) / diff.shape[0])"
   ]
  },
  {
   "cell_type": "code",
   "execution_count": 13,
   "metadata": {},
   "outputs": [
    {
     "data": {
      "text/plain": [
       "311968"
      ]
     },
     "execution_count": 13,
     "metadata": {},
     "output_type": "execute_result"
    }
   ],
   "source": [
    "rmse_temp_crit = 0.135\n",
    "accept_temp = rmse_temp < rmse_temp_crit\n",
    "accept_temp.sum()"
   ]
  },
  {
   "cell_type": "code",
   "execution_count": 14,
   "metadata": {},
   "outputs": [],
   "source": [
    "df_ind = pd.DataFrame({'temp': rmse_temp})\n",
    "df_accept = pd.DataFrame({'temp': accept_temp})\n",
    "gatts = {'rmse_temp_crit': rmse_temp_crit}"
   ]
  },
  {
   "cell_type": "markdown",
   "metadata": {},
   "source": [
    "### 2. Ocean heat uptake from 1971 to 2018"
   ]
  },
  {
   "cell_type": "code",
   "execution_count": 15,
   "metadata": {},
   "outputs": [],
   "source": [
    "d_ohu = pd.Series(\n",
    "    f_in['/historical/OHU'][:, idx_year.get_loc(2018)]\n",
    "    - f_in['/historical/OHU'][:, idx_year.get_loc(1971)]\n",
    ") * 1e-21"
   ]
  },
  {
   "cell_type": "code",
   "execution_count": 16,
   "metadata": {},
   "outputs": [],
   "source": [
    "name_central = 'Central Estimate Full-depth'\n",
    "name_unc = 'Full-depth Uncertainty (1-sigma)'\n",
    "d_ohu_obs = (df_ohc_obs.loc[2018.5, name_central] - df_ohc_obs.loc[1971.5, name_central])\n",
    "d_ohu_obs_unc = np.sqrt(\n",
    "    df_ohc_obs.loc[1971.5, name_unc]**2 + df_ohc_obs.loc[2018.5, name_unc]**2\n",
    ")"
   ]
  },
  {
   "cell_type": "code",
   "execution_count": 17,
   "metadata": {},
   "outputs": [
    {
     "data": {
      "text/plain": [
       "322738"
      ]
     },
     "execution_count": 17,
     "metadata": {},
     "output_type": "execute_result"
    }
   ],
   "source": [
    "ohu_rate = 0.90 # Use an assumed factor of 0.90\n",
    "accept_ohu = np.logical_and(\n",
    "    ohu_rate * d_ohu > (d_ohu_obs - d_ohu_obs_unc),\n",
    "    ohu_rate * d_ohu < (d_ohu_obs + d_ohu_obs_unc),\n",
    ")\n",
    "accept_ohu.sum()"
   ]
  },
  {
   "cell_type": "code",
   "execution_count": 18,
   "metadata": {},
   "outputs": [],
   "source": [
    "df_ind['ohu'] = d_ohu\n",
    "df_accept['ohu'] = accept_ohu\n",
    "gatts.update({\n",
    "    'ohu_rate': ohu_rate,\n",
    "    'ohu_obs': d_ohu_obs,\n",
    "    'ohu_obs_unc': d_ohu_obs_unc,\n",
    "})"
   ]
  },
  {
   "cell_type": "markdown",
   "metadata": {},
   "source": [
    "### 3. CO2 concentrations in 2014"
   ]
  },
  {
   "cell_type": "code",
   "execution_count": 19,
   "metadata": {},
   "outputs": [
    {
     "name": "stderr",
     "output_type": "stream",
     "text": [
      "[2024-07-22 08:37:34 src.util] INFO:Use local file datain/rcmip/rcmip-concentrations-annual-means-v5-1-0.csv retrieved from https://rcmip-protocols-au.s3-ap-southeast-2.amazonaws.com/v5.1.0/rcmip-concentrations-annual-means-v5-1-0.csv on 2024-06-20\n"
     ]
    }
   ],
   "source": [
    "fn = 'rcmip-concentrations-annual-means-v5-1-0.csv'\n",
    "path = retrieve_url(\n",
    "    f'./datain/rcmip/{fn}',\n",
    "    f'https://rcmip-protocols-au.s3-ap-southeast-2.amazonaws.com/v5.1.0/{fn}',\n",
    ")"
   ]
  },
  {
   "cell_type": "code",
   "execution_count": 20,
   "metadata": {},
   "outputs": [],
   "source": [
    "df = pd.read_csv(path)"
   ]
  },
  {
   "cell_type": "code",
   "execution_count": 21,
   "metadata": {},
   "outputs": [],
   "source": [
    "id_vars = df.columns[:7].to_list()\n",
    "df = df.set_index(id_vars).rename(columns=int)"
   ]
  },
  {
   "cell_type": "code",
   "execution_count": 22,
   "metadata": {},
   "outputs": [
    {
     "data": {
      "text/plain": [
       "397.5469792683919"
      ]
     },
     "execution_count": 22,
     "metadata": {},
     "output_type": "execute_result"
    }
   ],
   "source": [
    "co2_obs_2014 = dffilter(\n",
    "    df,\n",
    "    Scenario='ssp245',\n",
    "    Region='World',\n",
    "    Variable=lambda x: x.endswith('CO2'),\n",
    ").loc[:, 2014].squeeze()\n",
    "co2_obs_2014"
   ]
  },
  {
   "cell_type": "code",
   "execution_count": 23,
   "metadata": {},
   "outputs": [],
   "source": [
    "d_co2_2014 = pd.Series(f_in['/historical/C_CO2'][:, idx_year.get_loc(2014)])"
   ]
  },
  {
   "cell_type": "code",
   "execution_count": 24,
   "metadata": {},
   "outputs": [
    {
     "data": {
      "text/plain": [
       "21560"
      ]
     },
     "execution_count": 24,
     "metadata": {},
     "output_type": "execute_result"
    }
   ],
   "source": [
    "co2_obs_2014_unc = 0.36\n",
    "accept_co2 = np.logical_and(\n",
    "    d_co2_2014 > co2_obs_2014 - co2_obs_2014_unc,\n",
    "    d_co2_2014 < co2_obs_2014 + co2_obs_2014_unc,\n",
    ")\n",
    "accept_co2.sum()"
   ]
  },
  {
   "cell_type": "code",
   "execution_count": 25,
   "metadata": {},
   "outputs": [],
   "source": [
    "df_ind['co2'] = d_co2_2014\n",
    "df_accept['co2'] = accept_co2\n",
    "gatts.update({\n",
    "    'co2_obs': co2_obs_2014,\n",
    "    'co2_obs_unc': co2_obs_2014_unc,\n",
    "})"
   ]
  },
  {
   "cell_type": "markdown",
   "metadata": {},
   "source": [
    "### 4. Airborne fraction"
   ]
  },
  {
   "cell_type": "code",
   "execution_count": 26,
   "metadata": {},
   "outputs": [],
   "source": [
    "df_accept['temp_ohu_co2'] = pd.Series(\n",
    "    df_accept['temp'].values\n",
    "    * df_accept['ohu'].values\n",
    "    * df_accept['co2'].values\n",
    ")"
   ]
  },
  {
   "cell_type": "code",
   "execution_count": 27,
   "metadata": {},
   "outputs": [
    {
     "data": {
      "text/plain": [
       "3751"
      ]
     },
     "execution_count": 27,
     "metadata": {},
     "output_type": "execute_result"
    }
   ],
   "source": [
    "df_accept['temp_ohu_co2'].sum()"
   ]
  },
  {
   "cell_type": "code",
   "execution_count": 28,
   "metadata": {},
   "outputs": [
    {
     "data": {
      "text/plain": [
       "3751"
      ]
     },
     "execution_count": 28,
     "metadata": {},
     "output_type": "execute_result"
    }
   ],
   "source": [
    "d1 = df_accept['temp_ohu_co2']\n",
    "accept_inds = d1.loc[d1].index.values\n",
    "len(accept_inds)"
   ]
  },
  {
   "cell_type": "code",
   "execution_count": 29,
   "metadata": {},
   "outputs": [
    {
     "name": "stderr",
     "output_type": "stream",
     "text": [
      "[2024-07-22 08:38:11 src.util] INFO:Use local file datain/IPCC-WG1/Chapter-7/data_input/random_seeds.json retrieved from https://github.com/IPCC-WG1/Chapter-7/raw/main/data_input/random_seeds.json on 2024-06-12\n"
     ]
    }
   ],
   "source": [
    "path = repo_ch7.retrieve('data_input/random_seeds.json')"
   ]
  },
  {
   "cell_type": "code",
   "execution_count": 30,
   "metadata": {},
   "outputs": [],
   "source": [
    "with path.open() as f1:\n",
    "    SEEDS = json.load(f1)"
   ]
  },
  {
   "cell_type": "code",
   "execution_count": 31,
   "metadata": {},
   "outputs": [],
   "source": [
    "d_af140 = pd.Series(f_in['/1pctCO2/af140'][:])"
   ]
  },
  {
   "cell_type": "code",
   "execution_count": 32,
   "metadata": {},
   "outputs": [
    {
     "data": {
      "text/plain": [
       "1000000"
      ]
     },
     "execution_count": 32,
     "metadata": {},
     "output_type": "execute_result"
    }
   ],
   "source": [
    "SAMPLES = len(d_af140)\n",
    "SAMPLES"
   ]
  },
  {
   "cell_type": "code",
   "execution_count": 33,
   "metadata": {},
   "outputs": [],
   "source": [
    "accept_prob = stats.uniform.rvs(loc=0, scale=1, size=SAMPLES, random_state=SEEDS[79])\n",
    "norm_af140 = stats.norm(loc=.597, scale=.049)\n",
    "pdf_ref = norm_af140.pdf(0.597)\n",
    "\n",
    "accept_af = (\n",
    "    norm_af140.pdf(d_af140.loc[accept_inds].values) / pdf_ref\n",
    "    >= accept_prob[:len(accept_inds)]\n",
    ")"
   ]
  },
  {
   "cell_type": "code",
   "execution_count": 34,
   "metadata": {},
   "outputs": [
    {
     "data": {
      "text/plain": [
       "2237"
      ]
     },
     "execution_count": 34,
     "metadata": {},
     "output_type": "execute_result"
    }
   ],
   "source": [
    "accept_af.sum()"
   ]
  },
  {
   "cell_type": "code",
   "execution_count": 35,
   "metadata": {},
   "outputs": [
    {
     "data": {
      "text/plain": [
       "2237"
      ]
     },
     "execution_count": 35,
     "metadata": {},
     "output_type": "execute_result"
    }
   ],
   "source": [
    "d1 = df_accept['temp_ohu_co2'].copy()\n",
    "d1.loc[d1] = accept_af\n",
    "d1.sum()"
   ]
  },
  {
   "cell_type": "code",
   "execution_count": 36,
   "metadata": {},
   "outputs": [],
   "source": [
    "df_ind['af'] = d_af140\n",
    "df_ind['accept_prob'] = accept_prob\n",
    "df_accept['af_combined'] = d1"
   ]
  },
  {
   "cell_type": "markdown",
   "metadata": {},
   "source": [
    "The following is not in the Chapter 7 approach, but included for a consistent comparison."
   ]
  },
  {
   "cell_type": "code",
   "execution_count": 37,
   "metadata": {},
   "outputs": [],
   "source": [
    "df_accept['af_single'] = pd.Series(norm_af140.pdf(d_af140.values) / pdf_ref >= accept_prob)"
   ]
  },
  {
   "cell_type": "code",
   "execution_count": 38,
   "metadata": {},
   "outputs": [],
   "source": [
    "f_in.close()"
   ]
  },
  {
   "cell_type": "markdown",
   "metadata": {},
   "source": [
    "## Alternative constraining"
   ]
  },
  {
   "cell_type": "code",
   "execution_count": 39,
   "metadata": {},
   "outputs": [],
   "source": [
    "slc = slice(idx_year.get_loc(1995), idx_year.get_loc(2014) + 1)\n",
    "df_ind_alt = {\n",
    "    'temp': gsat[slc].mean(axis=0),\n",
    "    'ohu': pd.Series(d_ohu * ohu_rate),\n",
    "    'co2': d_co2_2014,\n",
    "    'af': d_af140,\n",
    "}\n",
    "\n",
    "NINETY_TO_ONESIGMA = stats.norm.ppf(0.95)\n",
    "\n",
    "map_rv = {\n",
    "    'temp': # GSAT 1995-2014\n",
    "    pd.Series(asymmetric_gaussian(0.85, (0.67, 0.98))),\n",
    "    'ohu': # OHU 2018 relto 1971\n",
    "    stats.norm(loc=396.0, scale=0.5*(506.2 - 285.7)/NINETY_TO_ONESIGMA),\n",
    "    'co2': # CO2 2014\n",
    "    # Use the RCMIP central value of 397.547 ppm for consistency\n",
    "    # instead of 397.1 ppm\n",
    "    stats.norm(loc=co2_obs_2014, scale=0.4/NINETY_TO_ONESIGMA),\n",
    "    'af': # AF 140\n",
    "    norm_af140,\n",
    "}\n",
    "\n",
    "# Additional constraint\n",
    "slc = slice(idx_year.get_loc(1961), idx_year.get_loc(1990) + 1)\n",
    "df_ind_alt['temp_trend'] = df_ind_alt['temp'] - gsat[slc].mean(axis=0)\n",
    "map_rv['temp_trend'] = (\n",
    "    stats.norm(\n",
    "        loc=0.85 - 0.36,\n",
    "        scale=np.sqrt(\n",
    "            asymmetric_gaussian(0.36, (0.22, 0.45)).var(ddof=1)\n",
    "            + asymmetric_gaussian(0.85, (0.67, 0.98)).var(ddof=1)\n",
    "        ),\n",
    "    )\n",
    ")\n",
    "\n",
    "df_ind_alt = pd.DataFrame(df_ind_alt)"
   ]
  },
  {
   "cell_type": "code",
   "execution_count": 40,
   "metadata": {},
   "outputs": [
    {
     "data": {
      "text/plain": [
       "(0.008907285310997317, 0.008907285310997317)"
      ]
     },
     "execution_count": 40,
     "metadata": {},
     "output_type": "execute_result"
    }
   ],
   "source": [
    "# ensure unbiased variance \n",
    "map_rv['temp'].var(), map_rv['temp'].var(ddof=1)"
   ]
  },
  {
   "cell_type": "code",
   "execution_count": 41,
   "metadata": {},
   "outputs": [],
   "source": [
    "def wrap_sampling(df, rv, seed=0, maxlen=10000, maxout=2000):\n",
    "    if df.ndim == 1:\n",
    "        mean = rv.mean()\n",
    "        sig2 = rv.var()\n",
    "        ret = sampling(df, mean, sig2, seed=seed, maxlen=maxlen)\n",
    "    else:\n",
    "        mean = np.array([rv[k].mean() for k in df])\n",
    "        sig2 = np.array([rv[k].var() for k in df])\n",
    "        # Target covariance is assumed to be scaled from input covariance\n",
    "        # with the ratio of target variance to input variance\n",
    "        cov = df.cov().values\n",
    "        scale = np.sqrt(sig2 / cov.diagonal())\n",
    "        scale = scale * scale.reshape((-1, 1))\n",
    "        ret = sampling(df, mean, cov * scale, seed=seed, maxlen=maxlen)\n",
    "\n",
    "    mhout = pd.Series(df.index[ret])\n",
    "    member = (\n",
    "        mhout.loc[np.random.randint(0, len(df), maxout)]\n",
    "        .reset_index(drop=True)\n",
    "    )\n",
    "\n",
    "    return mhout, member"
   ]
  },
  {
   "cell_type": "markdown",
   "metadata": {},
   "source": [
    "### Individual constraints"
   ]
  },
  {
   "cell_type": "code",
   "execution_count": 42,
   "metadata": {},
   "outputs": [
    {
     "name": "stderr",
     "output_type": "stream",
     "text": [
      "[2024-07-22 08:40:29 src.stats] INFO:acceptance rate 0.36235\n",
      "[2024-07-22 08:40:33 src.stats] INFO:acceptance rate 0.48\n",
      "/home/tsutsui/samba/project/ar6-tlm/src/stats.py:56: RuntimeWarning: divide by zero encountered in double_scalars\n",
      "  if ft[ip] * fp[i] / (ft[i] * fp[ip]) > r:\n",
      "[2024-07-22 08:40:37 src.stats] INFO:acceptance rate 0.0248\n",
      "[2024-07-22 08:40:41 src.stats] INFO:acceptance rate 0.57245\n",
      "[2024-07-22 08:40:45 src.stats] INFO:acceptance rate 0.71215\n"
     ]
    }
   ],
   "source": [
    "mhout = {}\n",
    "member_rand = {}\n",
    "\n",
    "len_input = 20000\n",
    "\n",
    "for k, v in df_ind_alt.items():\n",
    "    _mhout, _member = wrap_sampling(v.iloc[:len_input], map_rv[k])\n",
    "    mhout[f'{k}__single'] = _mhout\n",
    "    member_rand[f'{k}__single'] = _member"
   ]
  },
  {
   "cell_type": "markdown",
   "metadata": {},
   "source": [
    "### GSAT constraints including trends"
   ]
  },
  {
   "cell_type": "code",
   "execution_count": 43,
   "metadata": {},
   "outputs": [
    {
     "name": "stderr",
     "output_type": "stream",
     "text": [
      "[2024-07-22 08:41:33 src.stats] INFO:acceptance rate 0.18885\n"
     ]
    }
   ],
   "source": [
    "len_input = 20000\n",
    "inds = ['temp', 'temp_trend']\n",
    "_mhout, _member = wrap_sampling(df_ind_alt[inds].iloc[:len_input], map_rv)"
   ]
  },
  {
   "cell_type": "code",
   "execution_count": 44,
   "metadata": {},
   "outputs": [],
   "source": [
    "mhout['temp_&_temp_trend'] = _mhout\n",
    "member_rand['temp_&_temp_trend'] = _member"
   ]
  },
  {
   "cell_type": "markdown",
   "metadata": {},
   "source": [
    "### GSAT and OHU constraints"
   ]
  },
  {
   "cell_type": "code",
   "execution_count": 45,
   "metadata": {},
   "outputs": [
    {
     "name": "stderr",
     "output_type": "stream",
     "text": [
      "[2024-07-22 08:41:57 src.stats] INFO:acceptance rate 0.08992\n"
     ]
    }
   ],
   "source": [
    "len_input = 50000\n",
    "inds = ['temp', 'temp_trend', 'ohu']\n",
    "_mhout, _member = wrap_sampling(df_ind_alt[inds].iloc[:len_input], map_rv)"
   ]
  },
  {
   "cell_type": "code",
   "execution_count": 46,
   "metadata": {},
   "outputs": [],
   "source": [
    "mhout['temp_&_temp_trend_&_ohu'] = _mhout\n",
    "member_rand['temp_&_temp_trend_&_ohu'] = _member"
   ]
  },
  {
   "cell_type": "markdown",
   "metadata": {},
   "source": [
    "### All constraints\n",
    "\n",
    "First, roughly constrain input series in terms of CO2 2014. The central value is shifted to from 397.1 ppm to 397.55 ppm."
   ]
  },
  {
   "cell_type": "code",
   "execution_count": 47,
   "metadata": {},
   "outputs": [
    {
     "data": {
      "text/plain": [
       "(397.5469792683919, array([397.14697927, 397.54697927, 397.94697927]))"
      ]
     },
     "execution_count": 47,
     "metadata": {},
     "output_type": "execute_result"
    }
   ],
   "source": [
    "# use the central value from RCMIP (397.55 ppm)\n",
    "co2_obs_2014, map_rv['co2'].ppf([0.05, 0.5, 0.95])"
   ]
  },
  {
   "cell_type": "code",
   "execution_count": 48,
   "metadata": {},
   "outputs": [
    {
     "name": "stderr",
     "output_type": "stream",
     "text": [
      "[2024-07-22 08:45:41 src.stats] INFO:acceptance rate 0.11577\n"
     ]
    }
   ],
   "source": [
    "scale_factor = 5.\n",
    "rv = stats.norm(loc=co2_obs_2014, scale=0.4/NINETY_TO_ONESIGMA * scale_factor)\n",
    "_mhout, _member = wrap_sampling(df_ind_alt['co2'], rv, maxout=100000)"
   ]
  },
  {
   "cell_type": "code",
   "execution_count": 49,
   "metadata": {},
   "outputs": [],
   "source": [
    "mhout['co2_pre'] = _mhout\n",
    "member_rand['co2_pre'] = _member"
   ]
  },
  {
   "cell_type": "markdown",
   "metadata": {},
   "source": [
    "Then, apply all the constraints."
   ]
  },
  {
   "cell_type": "code",
   "execution_count": 50,
   "metadata": {},
   "outputs": [
    {
     "name": "stderr",
     "output_type": "stream",
     "text": [
      "[2024-07-22 08:47:10 src.stats] INFO:acceptance rate 0.02832\n"
     ]
    }
   ],
   "source": [
    "_mhout, _member = wrap_sampling(\n",
    "    df_ind_alt.iloc[member_rand['co2_pre']].reset_index(drop=True),\n",
    "    map_rv, maxout=10000,\n",
    ")"
   ]
  },
  {
   "cell_type": "code",
   "execution_count": 51,
   "metadata": {},
   "outputs": [],
   "source": [
    "mhout['all'] = _mhout\n",
    "member_rand['all'] = _member"
   ]
  },
  {
   "cell_type": "markdown",
   "metadata": {},
   "source": [
    "## Save results"
   ]
  },
  {
   "cell_type": "code",
   "execution_count": 53,
   "metadata": {},
   "outputs": [
    {
     "name": "stderr",
     "output_type": "stream",
     "text": [
      "/home/tsutsui/samba/project/ar6-tlm/src/util.py:158: UserWarning: endian-ness of dtype and endian kwarg do not match, using endian kwarg\n",
      "  fill_value=getattr(data, 'fill_value', None),\n",
      "[2024-07-22 08:48:55 src.util] INFO:dataout/constraining_fair_indicators.nc is created\n"
     ]
    }
   ],
   "source": [
    "path_out = './dataout/constraining_fair_indicators.nc'\n",
    "df2nc(\n",
    "    path_out,\n",
    "    df_ind.rename_axis('Member').rename_axis(columns='Variable'),\n",
    "    {}, gatts=gatts,\n",
    ")\n",
    "\n",
    "ncf = Dataset(path_out, 'r+')\n",
    "\n",
    "for name, d1 in df_ind.items():\n",
    "    ncf.variables[name][:] = d1.values\n",
    "\n",
    "ncf.close()"
   ]
  },
  {
   "cell_type": "code",
   "execution_count": 54,
   "metadata": {},
   "outputs": [
    {
     "data": {
      "text/html": [
       "<div>\n",
       "<style scoped>\n",
       "    .dataframe tbody tr th:only-of-type {\n",
       "        vertical-align: middle;\n",
       "    }\n",
       "\n",
       "    .dataframe tbody tr th {\n",
       "        vertical-align: top;\n",
       "    }\n",
       "\n",
       "    .dataframe thead th {\n",
       "        text-align: right;\n",
       "    }\n",
       "</style>\n",
       "<table border=\"1\" class=\"dataframe\">\n",
       "  <thead>\n",
       "    <tr style=\"text-align: right;\">\n",
       "      <th></th>\n",
       "      <th>temp</th>\n",
       "      <th>ohu</th>\n",
       "      <th>co2</th>\n",
       "      <th>temp_ohu_co2</th>\n",
       "      <th>af_combined</th>\n",
       "      <th>af_single</th>\n",
       "    </tr>\n",
       "  </thead>\n",
       "  <tbody>\n",
       "    <tr>\n",
       "      <th>0</th>\n",
       "      <td>False</td>\n",
       "      <td>True</td>\n",
       "      <td>False</td>\n",
       "      <td>False</td>\n",
       "      <td>False</td>\n",
       "      <td>False</td>\n",
       "    </tr>\n",
       "    <tr>\n",
       "      <th>1</th>\n",
       "      <td>False</td>\n",
       "      <td>False</td>\n",
       "      <td>False</td>\n",
       "      <td>False</td>\n",
       "      <td>False</td>\n",
       "      <td>True</td>\n",
       "    </tr>\n",
       "    <tr>\n",
       "      <th>2</th>\n",
       "      <td>False</td>\n",
       "      <td>True</td>\n",
       "      <td>False</td>\n",
       "      <td>False</td>\n",
       "      <td>False</td>\n",
       "      <td>True</td>\n",
       "    </tr>\n",
       "    <tr>\n",
       "      <th>3</th>\n",
       "      <td>False</td>\n",
       "      <td>False</td>\n",
       "      <td>False</td>\n",
       "      <td>False</td>\n",
       "      <td>False</td>\n",
       "      <td>False</td>\n",
       "    </tr>\n",
       "    <tr>\n",
       "      <th>4</th>\n",
       "      <td>True</td>\n",
       "      <td>True</td>\n",
       "      <td>False</td>\n",
       "      <td>False</td>\n",
       "      <td>False</td>\n",
       "      <td>False</td>\n",
       "    </tr>\n",
       "    <tr>\n",
       "      <th>...</th>\n",
       "      <td>...</td>\n",
       "      <td>...</td>\n",
       "      <td>...</td>\n",
       "      <td>...</td>\n",
       "      <td>...</td>\n",
       "      <td>...</td>\n",
       "    </tr>\n",
       "    <tr>\n",
       "      <th>999995</th>\n",
       "      <td>True</td>\n",
       "      <td>False</td>\n",
       "      <td>False</td>\n",
       "      <td>False</td>\n",
       "      <td>False</td>\n",
       "      <td>True</td>\n",
       "    </tr>\n",
       "    <tr>\n",
       "      <th>999996</th>\n",
       "      <td>True</td>\n",
       "      <td>True</td>\n",
       "      <td>False</td>\n",
       "      <td>False</td>\n",
       "      <td>False</td>\n",
       "      <td>True</td>\n",
       "    </tr>\n",
       "    <tr>\n",
       "      <th>999997</th>\n",
       "      <td>True</td>\n",
       "      <td>False</td>\n",
       "      <td>False</td>\n",
       "      <td>False</td>\n",
       "      <td>False</td>\n",
       "      <td>True</td>\n",
       "    </tr>\n",
       "    <tr>\n",
       "      <th>999998</th>\n",
       "      <td>True</td>\n",
       "      <td>True</td>\n",
       "      <td>False</td>\n",
       "      <td>False</td>\n",
       "      <td>False</td>\n",
       "      <td>True</td>\n",
       "    </tr>\n",
       "    <tr>\n",
       "      <th>999999</th>\n",
       "      <td>True</td>\n",
       "      <td>True</td>\n",
       "      <td>False</td>\n",
       "      <td>False</td>\n",
       "      <td>False</td>\n",
       "      <td>False</td>\n",
       "    </tr>\n",
       "  </tbody>\n",
       "</table>\n",
       "<p>1000000 rows × 6 columns</p>\n",
       "</div>"
      ],
      "text/plain": [
       "         temp    ohu    co2  temp_ohu_co2  af_combined  af_single\n",
       "0       False   True  False         False        False      False\n",
       "1       False  False  False         False        False       True\n",
       "2       False   True  False         False        False       True\n",
       "3       False  False  False         False        False      False\n",
       "4        True   True  False         False        False      False\n",
       "...       ...    ...    ...           ...          ...        ...\n",
       "999995   True  False  False         False        False       True\n",
       "999996   True   True  False         False        False       True\n",
       "999997   True  False  False         False        False       True\n",
       "999998   True   True  False         False        False       True\n",
       "999999   True   True  False         False        False      False\n",
       "\n",
       "[1000000 rows x 6 columns]"
      ]
     },
     "execution_count": 54,
     "metadata": {},
     "output_type": "execute_result"
    }
   ],
   "source": [
    "df_accept"
   ]
  },
  {
   "cell_type": "code",
   "execution_count": 55,
   "metadata": {},
   "outputs": [
    {
     "data": {
      "text/html": [
       "<div>\n",
       "<style scoped>\n",
       "    .dataframe tbody tr th:only-of-type {\n",
       "        vertical-align: middle;\n",
       "    }\n",
       "\n",
       "    .dataframe tbody tr th {\n",
       "        vertical-align: top;\n",
       "    }\n",
       "\n",
       "    .dataframe thead th {\n",
       "        text-align: right;\n",
       "    }\n",
       "</style>\n",
       "<table border=\"1\" class=\"dataframe\">\n",
       "  <thead>\n",
       "    <tr style=\"text-align: right;\">\n",
       "      <th></th>\n",
       "      <th>temp</th>\n",
       "      <th>ohu</th>\n",
       "      <th>co2</th>\n",
       "      <th>temp_ohu_co2</th>\n",
       "      <th>af_combined</th>\n",
       "      <th>af_single</th>\n",
       "    </tr>\n",
       "  </thead>\n",
       "  <tbody>\n",
       "    <tr>\n",
       "      <th>0</th>\n",
       "      <td>0</td>\n",
       "      <td>1</td>\n",
       "      <td>0</td>\n",
       "      <td>0</td>\n",
       "      <td>0</td>\n",
       "      <td>0</td>\n",
       "    </tr>\n",
       "    <tr>\n",
       "      <th>1</th>\n",
       "      <td>0</td>\n",
       "      <td>0</td>\n",
       "      <td>0</td>\n",
       "      <td>0</td>\n",
       "      <td>0</td>\n",
       "      <td>1</td>\n",
       "    </tr>\n",
       "    <tr>\n",
       "      <th>2</th>\n",
       "      <td>0</td>\n",
       "      <td>1</td>\n",
       "      <td>0</td>\n",
       "      <td>0</td>\n",
       "      <td>0</td>\n",
       "      <td>1</td>\n",
       "    </tr>\n",
       "    <tr>\n",
       "      <th>3</th>\n",
       "      <td>0</td>\n",
       "      <td>0</td>\n",
       "      <td>0</td>\n",
       "      <td>0</td>\n",
       "      <td>0</td>\n",
       "      <td>0</td>\n",
       "    </tr>\n",
       "    <tr>\n",
       "      <th>4</th>\n",
       "      <td>1</td>\n",
       "      <td>1</td>\n",
       "      <td>0</td>\n",
       "      <td>0</td>\n",
       "      <td>0</td>\n",
       "      <td>0</td>\n",
       "    </tr>\n",
       "    <tr>\n",
       "      <th>...</th>\n",
       "      <td>...</td>\n",
       "      <td>...</td>\n",
       "      <td>...</td>\n",
       "      <td>...</td>\n",
       "      <td>...</td>\n",
       "      <td>...</td>\n",
       "    </tr>\n",
       "    <tr>\n",
       "      <th>999995</th>\n",
       "      <td>1</td>\n",
       "      <td>0</td>\n",
       "      <td>0</td>\n",
       "      <td>0</td>\n",
       "      <td>0</td>\n",
       "      <td>1</td>\n",
       "    </tr>\n",
       "    <tr>\n",
       "      <th>999996</th>\n",
       "      <td>1</td>\n",
       "      <td>1</td>\n",
       "      <td>0</td>\n",
       "      <td>0</td>\n",
       "      <td>0</td>\n",
       "      <td>1</td>\n",
       "    </tr>\n",
       "    <tr>\n",
       "      <th>999997</th>\n",
       "      <td>1</td>\n",
       "      <td>0</td>\n",
       "      <td>0</td>\n",
       "      <td>0</td>\n",
       "      <td>0</td>\n",
       "      <td>1</td>\n",
       "    </tr>\n",
       "    <tr>\n",
       "      <th>999998</th>\n",
       "      <td>1</td>\n",
       "      <td>1</td>\n",
       "      <td>0</td>\n",
       "      <td>0</td>\n",
       "      <td>0</td>\n",
       "      <td>1</td>\n",
       "    </tr>\n",
       "    <tr>\n",
       "      <th>999999</th>\n",
       "      <td>1</td>\n",
       "      <td>1</td>\n",
       "      <td>0</td>\n",
       "      <td>0</td>\n",
       "      <td>0</td>\n",
       "      <td>0</td>\n",
       "    </tr>\n",
       "  </tbody>\n",
       "</table>\n",
       "<p>1000000 rows × 6 columns</p>\n",
       "</div>"
      ],
      "text/plain": [
       "        temp  ohu  co2  temp_ohu_co2  af_combined  af_single\n",
       "0          0    1    0             0            0          0\n",
       "1          0    0    0             0            0          1\n",
       "2          0    1    0             0            0          1\n",
       "3          0    0    0             0            0          0\n",
       "4          1    1    0             0            0          0\n",
       "...      ...  ...  ...           ...          ...        ...\n",
       "999995     1    0    0             0            0          1\n",
       "999996     1    1    0             0            0          1\n",
       "999997     1    0    0             0            0          1\n",
       "999998     1    1    0             0            0          1\n",
       "999999     1    1    0             0            0          0\n",
       "\n",
       "[1000000 rows x 6 columns]"
      ]
     },
     "execution_count": 55,
     "metadata": {},
     "output_type": "execute_result"
    }
   ],
   "source": [
    "df_accept = df_accept.astype('int8')\n",
    "df_accept"
   ]
  },
  {
   "cell_type": "code",
   "execution_count": 56,
   "metadata": {},
   "outputs": [
    {
     "name": "stderr",
     "output_type": "stream",
     "text": [
      "[2024-07-22 08:49:51 src.util] INFO:dataout/constraining_fair_accept.nc is created\n"
     ]
    }
   ],
   "source": [
    "path_out = './dataout/constraining_fair_accept.nc'\n",
    "df2nc(\n",
    "    path_out,\n",
    "    df_accept.rename_axis('Member').rename_axis(columns='Variable'),\n",
    "    {},\n",
    ")\n",
    "\n",
    "ncf = Dataset(path_out, 'r+')\n",
    "\n",
    "for name, d1 in df_accept.items():\n",
    "    ncf.variables[name][:] = d1.values\n",
    "\n",
    "ncf.close()"
   ]
  },
  {
   "cell_type": "code",
   "execution_count": 57,
   "metadata": {},
   "outputs": [
    {
     "name": "stderr",
     "output_type": "stream",
     "text": [
      "[2024-07-22 08:50:49 src.util] INFO:dataout/constraining_fair_indicators_alt.nc is created\n"
     ]
    }
   ],
   "source": [
    "path_out = './dataout/constraining_fair_indicators_alt.nc'\n",
    "df2nc(\n",
    "    path_out,\n",
    "    df_ind_alt.rename_axis('Member').rename_axis(columns='Variable'),\n",
    "    {}, gatts=gatts,\n",
    ")\n",
    "\n",
    "ncf = Dataset(path_out, 'r+')\n",
    "\n",
    "for name, d1 in df_ind_alt.items():\n",
    "    ncf.variables[name][:] = d1.values\n",
    "\n",
    "ncf.close()"
   ]
  },
  {
   "cell_type": "code",
   "execution_count": 62,
   "metadata": {},
   "outputs": [],
   "source": [
    "path_out = './dataout/constraining_fair_mhout.h5'\n",
    "f1 = h5py.File(path_out, 'w')"
   ]
  },
  {
   "cell_type": "code",
   "execution_count": 63,
   "metadata": {},
   "outputs": [],
   "source": [
    "grp = f1.create_group('mhout')\n",
    "\n",
    "for k, v in mhout.items():\n",
    "    grp.create_dataset(k, data=v.values)"
   ]
  },
  {
   "cell_type": "code",
   "execution_count": 64,
   "metadata": {},
   "outputs": [],
   "source": [
    "grp = f1.create_group('member')\n",
    "\n",
    "for k, v in member_rand.items():\n",
    "    grp.create_dataset(k, data=v.values)"
   ]
  },
  {
   "cell_type": "code",
   "execution_count": 65,
   "metadata": {},
   "outputs": [],
   "source": [
    "f1.close()"
   ]
  }
 ],
 "metadata": {
  "kernelspec": {
   "display_name": "Python 3",
   "language": "python",
   "name": "python3"
  },
  "language_info": {
   "codemirror_mode": {
    "name": "ipython",
    "version": 3
   },
   "file_extension": ".py",
   "mimetype": "text/x-python",
   "name": "python",
   "nbconvert_exporter": "python",
   "pygments_lexer": "ipython3",
   "version": "3.7.10"
  }
 },
 "nbformat": 4,
 "nbformat_minor": 2
}

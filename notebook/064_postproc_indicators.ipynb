{
 "cells": [
  {
   "cell_type": "markdown",
   "metadata": {},
   "source": [
    "# Post-process of constraining: indicators\n",
    "\n",
    "Input\n",
    "- `dataout/unconstrained_run.nc` Results from unconstrained historical runs from `050_unconstrained_run.ipynb`\n",
    "- `dataout/constraining_ind.nc` Indicators used in MH constraining from `060_constraining.ipynb`\n",
    "- `dataout/constraining_results.csv` Constrained 600 members from `060_constraining.ipynb`\n",
    "\n",
    "Output image data\n",
    "- `image/timeseries_gmst_ohu_cmp2` Time series plot: GSAT and OHC changes\n",
    "- `image/range_target_indicators` Range plot: target indicators"
   ]
  },
  {
   "cell_type": "code",
   "execution_count": 1,
   "metadata": {},
   "outputs": [],
   "source": [
    "import sys\n",
    "import numpy as np\n",
    "import pandas as pd\n",
    "import scipy.stats as stats\n",
    "import openpyxl\n",
    "from netCDF4 import Dataset\n",
    "import matplotlib as mpl"
   ]
  },
  {
   "cell_type": "code",
   "execution_count": 2,
   "metadata": {},
   "outputs": [],
   "source": [
    "# mce is available in https://github.com/tsutsui1872/mce \n",
    "sys.path.append('../mce')"
   ]
  },
  {
   "cell_type": "code",
   "execution_count": 3,
   "metadata": {},
   "outputs": [],
   "source": [
    "from src.util import RetrieveGitHub\n",
    "from src.stats import asymmetric_gaussian\n",
    "from src.plot import MyPlot # depends on mce module"
   ]
  },
  {
   "cell_type": "code",
   "execution_count": 4,
   "metadata": {},
   "outputs": [],
   "source": [
    "owner = 'IPCC-WG1'\n",
    "repo = 'Chapter-7'\n",
    "repo_ch7 = RetrieveGitHub(owner, repo, './datain')"
   ]
  },
  {
   "cell_type": "markdown",
   "metadata": {},
   "source": [
    "## Reference data"
   ]
  },
  {
   "cell_type": "code",
   "execution_count": 5,
   "metadata": {},
   "outputs": [
    {
     "name": "stderr",
     "output_type": "stream",
     "text": [
      "[2024-07-22 08:28:47 src.util] INFO:Use local file datain/IPCC-WG1/Chapter-7/data_input/observations/AR6 FGD assessment time series - GMST and GSAT.xlsx retrieved from https://github.com/IPCC-WG1/Chapter-7/raw/main/data_input/observations/AR6%20FGD%20assessment%20time%20series%20-%20GMST%20and%20GSAT.xlsx on 2024-06-20\n"
     ]
    }
   ],
   "source": [
    "path = 'data_input/observations/AR6 FGD assessment time series - GMST and GSAT.xlsx'\n",
    "path = repo_ch7.retrieve(path)"
   ]
  },
  {
   "cell_type": "code",
   "execution_count": 6,
   "metadata": {},
   "outputs": [],
   "source": [
    "wb = openpyxl.load_workbook(path, read_only=True, data_only=True)\n",
    "ws = wb['GMST data sets and changes']\n",
    "rows = ws.iter_rows(\n",
    "    min_row=2, # 1-based index\n",
    "    max_row=2+(2020 - 1850 + 1),\n",
    "    min_col=12,\n",
    "    max_col=20,\n",
    "    values_only=True,\n",
    ")\n",
    "columns = next(rows)\n",
    "df_gmst_obs = (\n",
    "    pd.DataFrame(list(rows), columns=('Year',) + columns[1:])\n",
    "    .dropna(axis=1)\n",
    "    .set_index('Year')\n",
    ")\n",
    "wb.close()"
   ]
  },
  {
   "cell_type": "code",
   "execution_count": 7,
   "metadata": {},
   "outputs": [
    {
     "name": "stderr",
     "output_type": "stream",
     "text": [
      "[2024-07-22 08:28:47 src.util] INFO:Use local file datain/IPCC-WG1/Chapter-7/data_input/observations/AR6_OHC_ensemble_FGDprelim.csv retrieved from https://github.com/IPCC-WG1/Chapter-7/raw/main/data_input/observations/AR6_OHC_ensemble_FGDprelim.csv on 2024-06-20\n"
     ]
    }
   ],
   "source": [
    "path = 'data_input/observations/AR6_OHC_ensemble_FGDprelim.csv'\n",
    "path = repo_ch7.retrieve(path)"
   ]
  },
  {
   "cell_type": "code",
   "execution_count": 8,
   "metadata": {},
   "outputs": [],
   "source": [
    "df_ohc_obs = pd.read_csv(path, skiprows=1, index_col=0)"
   ]
  },
  {
   "cell_type": "code",
   "execution_count": 9,
   "metadata": {},
   "outputs": [],
   "source": [
    "name_central = 'Central Estimate Full-depth'\n",
    "name_unc = 'Full-depth Uncertainty (1-sigma)'\n",
    "d_ohu_obs = (df_ohc_obs.loc[2018.5, name_central] - df_ohc_obs.loc[1971.5, name_central])\n",
    "d_ohu_obs_unc = np.sqrt(\n",
    "    df_ohc_obs.loc[1971.5, name_unc]**2 + df_ohc_obs.loc[2018.5, name_unc]**2\n",
    ")"
   ]
  },
  {
   "cell_type": "markdown",
   "metadata": {},
   "source": [
    "## Read results"
   ]
  },
  {
   "cell_type": "markdown",
   "metadata": {},
   "source": [
    "### Unconstrained historical runs"
   ]
  },
  {
   "cell_type": "code",
   "execution_count": 10,
   "metadata": {},
   "outputs": [],
   "source": [
    "# Output of 050_unconstrained_run.ipynb\n",
    "ncf = Dataset('dataout/unconstrained_run.nc')"
   ]
  },
  {
   "cell_type": "code",
   "execution_count": 11,
   "metadata": {},
   "outputs": [
    {
     "data": {
      "text/plain": [
       "['Member', 'Method', 'Year', 'ohc', 'tg']"
      ]
     },
     "execution_count": 11,
     "metadata": {},
     "output_type": "execute_result"
    }
   ],
   "source": [
    "list(ncf.variables)"
   ]
  },
  {
   "cell_type": "code",
   "execution_count": 12,
   "metadata": {},
   "outputs": [
    {
     "data": {
      "text/plain": [
       "['ar6', 'ar6_orig', 'mce-2l', 's21']"
      ]
     },
     "execution_count": 12,
     "metadata": {},
     "output_type": "execute_result"
    }
   ],
   "source": [
    "method_order = ncf.variables['Method'][:].tolist()\n",
    "method_order"
   ]
  },
  {
   "cell_type": "code",
   "execution_count": 13,
   "metadata": {},
   "outputs": [
    {
     "data": {
      "text/plain": [
       "Int64Index([1750, 1751, 1752, 1753, 1754, 1755, 1756, 1757, 1758, 1759,\n",
       "            ...\n",
       "            2010, 2011, 2012, 2013, 2014, 2015, 2016, 2017, 2018, 2019],\n",
       "           dtype='int64', length=270)"
      ]
     },
     "execution_count": 13,
     "metadata": {},
     "output_type": "execute_result"
    }
   ],
   "source": [
    "idx_year = pd.Index(ncf.variables['Year'][:])\n",
    "idx_year"
   ]
  },
  {
   "cell_type": "code",
   "execution_count": 14,
   "metadata": {},
   "outputs": [
    {
     "data": {
      "text/plain": [
       "50000"
      ]
     },
     "execution_count": 14,
     "metadata": {},
     "output_type": "execute_result"
    }
   ],
   "source": [
    "nsize = ncf.dimensions['Member'].size\n",
    "nsize"
   ]
  },
  {
   "cell_type": "code",
   "execution_count": 15,
   "metadata": {},
   "outputs": [
    {
     "data": {
      "text/plain": [
       "('Member', 'Method', 'Year')"
      ]
     },
     "execution_count": 15,
     "metadata": {},
     "output_type": "execute_result"
    }
   ],
   "source": [
    "ncf.variables['tg'].dimensions"
   ]
  },
  {
   "cell_type": "code",
   "execution_count": 16,
   "metadata": {},
   "outputs": [],
   "source": [
    "mi = pd.MultiIndex.from_product([method_order, idx_year])"
   ]
  },
  {
   "cell_type": "code",
   "execution_count": 17,
   "metadata": {},
   "outputs": [],
   "source": [
    "df = pd.DataFrame(\n",
    "    ncf.variables['tg'][:].reshape((nsize, -1)),\n",
    "    columns=mi,\n",
    ")"
   ]
  },
  {
   "cell_type": "code",
   "execution_count": 18,
   "metadata": {},
   "outputs": [],
   "source": [
    "df_base = df.loc[:, (slice(None), slice(1850, 1900))].mean(axis=1, level=0)"
   ]
  },
  {
   "cell_type": "code",
   "execution_count": 19,
   "metadata": {},
   "outputs": [],
   "source": [
    "df_gsat = pd.concat([\n",
    "    v.sub(df_base[k], axis=0)\n",
    "    for k, v in df.groupby(level=0, axis=1)\n",
    "], axis=1)"
   ]
  },
  {
   "cell_type": "code",
   "execution_count": 20,
   "metadata": {},
   "outputs": [],
   "source": [
    "df_ohc = pd.DataFrame(\n",
    "    ncf.variables['ohc'][:].reshape((nsize, -1)),\n",
    "    columns=mi,\n",
    ")"
   ]
  },
  {
   "cell_type": "code",
   "execution_count": 21,
   "metadata": {},
   "outputs": [],
   "source": [
    "ncf.close()"
   ]
  },
  {
   "cell_type": "code",
   "execution_count": 22,
   "metadata": {},
   "outputs": [],
   "source": [
    "ohu_rate = 0.90 # Use an assumed factor of 0.90\n",
    "\n",
    "df_ohu_1971_2018 = (\n",
    "    df_ohc.loc[:, (slice(None), 2018)].droplevel(level=1, axis=1)\n",
    "    .sub(df_ohc.loc[:, (slice(None), 1971)].droplevel(level=1, axis=1))\n",
    "    .mul(ohu_rate)\n",
    ")"
   ]
  },
  {
   "cell_type": "code",
   "execution_count": 23,
   "metadata": {},
   "outputs": [],
   "source": [
    "# Normalize the heat content values by\n",
    "# subtracting 2018 values,\n",
    "# multiplying the ratio of the ocean to the entire system heat content\n",
    "# and adding an observed 2018 value\n",
    "df_ohc_norm = (\n",
    "    pd.concat([\n",
    "        v.sub(df_ohc.loc[:, (k, 2018)], axis=0)\n",
    "        for k, v in df_ohc.groupby(level=0, axis=1)\n",
    "    ], axis=1).mul(ohu_rate).add(df_ohc_obs.loc[2018.5, name_central])\n",
    ")"
   ]
  },
  {
   "cell_type": "markdown",
   "metadata": {},
   "source": [
    "### Constraint indicators\n",
    "\n",
    "Output of 060_constraining.ipynb"
   ]
  },
  {
   "cell_type": "code",
   "execution_count": 24,
   "metadata": {},
   "outputs": [],
   "source": [
    "ncf = Dataset('./dataout/constraining_ind.nc')"
   ]
  },
  {
   "cell_type": "code",
   "execution_count": 25,
   "metadata": {},
   "outputs": [
    {
     "data": {
      "text/plain": [
       "['Member', 'Method', 'GSAT_1995_2014', 'GSAT_recent_trend', 'OHU_1971_2018']"
      ]
     },
     "execution_count": 25,
     "metadata": {},
     "output_type": "execute_result"
    }
   ],
   "source": [
    "list(ncf.variables)"
   ]
  },
  {
   "cell_type": "code",
   "execution_count": 26,
   "metadata": {},
   "outputs": [
    {
     "data": {
      "text/plain": [
       "['ar6', 'ar6_orig', 'mce-2l', 's21']"
      ]
     },
     "execution_count": 26,
     "metadata": {},
     "output_type": "execute_result"
    }
   ],
   "source": [
    "method_order = ncf.variables['Method'][:].tolist()\n",
    "method_order"
   ]
  },
  {
   "cell_type": "code",
   "execution_count": 27,
   "metadata": {},
   "outputs": [
    {
     "data": {
      "text/plain": [
       "50000"
      ]
     },
     "execution_count": 27,
     "metadata": {},
     "output_type": "execute_result"
    }
   ],
   "source": [
    "ncf.dimensions['Member'].size"
   ]
  },
  {
   "cell_type": "code",
   "execution_count": 28,
   "metadata": {},
   "outputs": [
    {
     "data": {
      "text/plain": [
       "('Member', 'Method')"
      ]
     },
     "execution_count": 28,
     "metadata": {},
     "output_type": "execute_result"
    }
   ],
   "source": [
    "ncf.variables['GSAT_1995_2014'].dimensions"
   ]
  },
  {
   "cell_type": "code",
   "execution_count": 29,
   "metadata": {},
   "outputs": [],
   "source": [
    "df_inds = pd.concat({\n",
    "    k: pd.DataFrame(ncf.variables[k][:], columns=method_order)\n",
    "    for k in ncf.variables if k not in ncf.dimensions\n",
    "}, axis=1)"
   ]
  },
  {
   "cell_type": "code",
   "execution_count": 30,
   "metadata": {},
   "outputs": [],
   "source": [
    "ncf.close()"
   ]
  },
  {
   "cell_type": "markdown",
   "metadata": {},
   "source": [
    "### Constrained members\n",
    "\n",
    "Output of 060_constraining.ipynb\n",
    "\n",
    "Constrained with the MH sampler, except for the AR6 original case"
   ]
  },
  {
   "cell_type": "code",
   "execution_count": 31,
   "metadata": {},
   "outputs": [],
   "source": [
    "df_members = pd.read_csv(\n",
    "    './dataout/constraining_results.csv',\n",
    "    header=[0, 1], index_col=0,\n",
    ")\n",
    "mi = [({'ar6_orig': 'ar6_chapter7'}.get(k, 'mh_sampler'), k) for k in method_order]\n",
    "df_members = df_members[mi].droplevel(0, axis=1)"
   ]
  },
  {
   "cell_type": "code",
   "execution_count": 32,
   "metadata": {},
   "outputs": [],
   "source": [
    "df_gsat_constrained = pd.concat({\n",
    "    method:\n",
    "    df_gsat[method].loc[df_members[method]].reset_index(drop=True)\n",
    "    for method in method_order\n",
    "}, axis=1)"
   ]
  },
  {
   "cell_type": "code",
   "execution_count": 33,
   "metadata": {},
   "outputs": [],
   "source": [
    "df_ohc_norm_constrained = pd.concat({\n",
    "    method:\n",
    "    df_ohc_norm[method].loc[df_members[method]].reset_index(drop=True)\n",
    "    for method in method_order\n",
    "}, axis=1)"
   ]
  },
  {
   "cell_type": "code",
   "execution_count": 34,
   "metadata": {},
   "outputs": [],
   "source": [
    "df_inds_constrained = pd.concat([\n",
    "    v.loc[df_members[k]].reset_index(drop=True)\n",
    "    for k, v in df_inds.groupby(level=1, axis=1)\n",
    "], axis=1).sort_index(axis=1)"
   ]
  },
  {
   "cell_type": "markdown",
   "metadata": {},
   "source": [
    "## Reference indicators"
   ]
  },
  {
   "cell_type": "code",
   "execution_count": 35,
   "metadata": {},
   "outputs": [],
   "source": [
    "# Same as those in 060_constraining.ipynb\n",
    "map_rv = {\n",
    "    'GSAT_1995_2014': asymmetric_gaussian(0.85, (0.67, 0.98)),\n",
    "    'GSAT_recent_trend': stats.norm(\n",
    "        loc=0.85 - 0.36,\n",
    "        scale=np.sqrt(\n",
    "            asymmetric_gaussian(0.36, (0.22, 0.45)).var()\n",
    "            +\n",
    "            asymmetric_gaussian(0.85, (0.67, 0.98)).var()\n",
    "        ),\n",
    "    ),\n",
    "    'OHU_1971_2018': stats.norm(loc=d_ohu_obs, scale=d_ohu_obs_unc),\n",
    "}"
   ]
  },
  {
   "cell_type": "markdown",
   "metadata": {},
   "source": [
    "## Plot settings"
   ]
  },
  {
   "cell_type": "code",
   "execution_count": 36,
   "metadata": {},
   "outputs": [],
   "source": [
    "plt = MyPlot()"
   ]
  },
  {
   "cell_type": "code",
   "execution_count": 37,
   "metadata": {},
   "outputs": [
    {
     "data": {
      "text/plain": [
       "{'ar6_orig': '#0 EBM-ε AR6 orig',\n",
       " 'ar6': '#1 EBM-ε AR6',\n",
       " 's21': '#2 EBM-ε S21',\n",
       " 'mce-2l': '#3 MCE-2l'}"
      ]
     },
     "execution_count": 37,
     "metadata": {},
     "output_type": "execute_result"
    }
   ],
   "source": [
    "map_method = plt.map_method\n",
    "map_method"
   ]
  },
  {
   "cell_type": "code",
   "execution_count": 38,
   "metadata": {},
   "outputs": [
    {
     "data": {
      "text/plain": [
       "{'Constrained CMIP6': 'C7',\n",
       " 'ECS-TCR mapped emulator': 'C6',\n",
       " '#0 EBM-ε AR6 orig': 'C9',\n",
       " '#1 EBM-ε AR6': 'C0',\n",
       " '#2 EBM-ε S21': 'C2',\n",
       " '#3 MCE-2l': 'C1',\n",
       " 'Reference': 'C3',\n",
       " 'ar6': 'C0',\n",
       " 'ar6_orig': 'C9',\n",
       " 'mce-2l': 'C1',\n",
       " 's21': 'C2',\n",
       " 'Observation': 'C6'}"
      ]
     },
     "execution_count": 38,
     "metadata": {},
     "output_type": "execute_result"
    }
   ],
   "source": [
    "map_color = plt.map_color.copy()\n",
    "map_color.update({\n",
    "    k: map_color[map_method[k]] for k in method_order\n",
    "})\n",
    "map_color['Observation'] = 'C6'\n",
    "map_color"
   ]
  },
  {
   "cell_type": "code",
   "execution_count": 39,
   "metadata": {},
   "outputs": [
    {
     "data": {
      "text/plain": [
       "({0.05: 'very_likely__lower',\n",
       "  0.17: 'likely__lower',\n",
       "  0.5: 'central',\n",
       "  0.83: 'likely__upper',\n",
       "  0.95: 'very_likely__upper'},\n",
       " [0.05, 0.17, 0.5, 0.83, 0.95])"
      ]
     },
     "execution_count": 39,
     "metadata": {},
     "output_type": "execute_result"
    }
   ],
   "source": [
    "map_probability = plt.map_probability\n",
    "prob_values = list(map_probability)\n",
    "map_probability, prob_values"
   ]
  },
  {
   "cell_type": "code",
   "execution_count": 40,
   "metadata": {},
   "outputs": [],
   "source": [
    "# for presentation\n",
    "method_case_order = ['ar6_orig', 'ar6', 's21', 'mce-2l']"
   ]
  },
  {
   "cell_type": "markdown",
   "metadata": {},
   "source": [
    "## Time series plot: GSAT and OHC changes"
   ]
  },
  {
   "cell_type": "code",
   "execution_count": 41,
   "metadata": {},
   "outputs": [],
   "source": [
    "dfqset_gsat = [\n",
    "    df_gsat.quantile(prob_values),\n",
    "    df_gsat_constrained.quantile(prob_values),\n",
    "]\n",
    "dfqset_ohc_norm = [\n",
    "    df_ohc_norm.quantile(prob_values),\n",
    "    df_ohc_norm_constrained.quantile(prob_values),\n",
    "]"
   ]
  },
  {
   "cell_type": "code",
   "execution_count": 42,
   "metadata": {},
   "outputs": [
    {
     "data": {
      "text/html": [
       "<div>\n",
       "<style scoped>\n",
       "    .dataframe tbody tr th:only-of-type {\n",
       "        vertical-align: middle;\n",
       "    }\n",
       "\n",
       "    .dataframe tbody tr th {\n",
       "        vertical-align: top;\n",
       "    }\n",
       "\n",
       "    .dataframe thead tr th {\n",
       "        text-align: left;\n",
       "    }\n",
       "</style>\n",
       "<table border=\"1\" class=\"dataframe\">\n",
       "  <thead>\n",
       "    <tr>\n",
       "      <th></th>\n",
       "      <th colspan=\"10\" halign=\"left\">ar6</th>\n",
       "      <th>...</th>\n",
       "      <th colspan=\"10\" halign=\"left\">s21</th>\n",
       "    </tr>\n",
       "    <tr>\n",
       "      <th></th>\n",
       "      <th>1850</th>\n",
       "      <th>1851</th>\n",
       "      <th>1852</th>\n",
       "      <th>1853</th>\n",
       "      <th>1854</th>\n",
       "      <th>1855</th>\n",
       "      <th>1856</th>\n",
       "      <th>1857</th>\n",
       "      <th>1858</th>\n",
       "      <th>1859</th>\n",
       "      <th>...</th>\n",
       "      <th>2010</th>\n",
       "      <th>2011</th>\n",
       "      <th>2012</th>\n",
       "      <th>2013</th>\n",
       "      <th>2014</th>\n",
       "      <th>2015</th>\n",
       "      <th>2016</th>\n",
       "      <th>2017</th>\n",
       "      <th>2018</th>\n",
       "      <th>2019</th>\n",
       "    </tr>\n",
       "  </thead>\n",
       "  <tbody>\n",
       "    <tr>\n",
       "      <th>0.05</th>\n",
       "      <td>-0.093479</td>\n",
       "      <td>-0.069078</td>\n",
       "      <td>-0.047385</td>\n",
       "      <td>-0.040032</td>\n",
       "      <td>-0.047016</td>\n",
       "      <td>-0.047746</td>\n",
       "      <td>-0.040242</td>\n",
       "      <td>-0.043407</td>\n",
       "      <td>-0.045850</td>\n",
       "      <td>-0.033341</td>\n",
       "      <td>...</td>\n",
       "      <td>0.553891</td>\n",
       "      <td>0.582558</td>\n",
       "      <td>0.610539</td>\n",
       "      <td>0.645185</td>\n",
       "      <td>0.681693</td>\n",
       "      <td>0.713514</td>\n",
       "      <td>0.746447</td>\n",
       "      <td>0.778595</td>\n",
       "      <td>0.808206</td>\n",
       "      <td>0.834550</td>\n",
       "    </tr>\n",
       "    <tr>\n",
       "      <th>0.17</th>\n",
       "      <td>-0.039776</td>\n",
       "      <td>-0.021874</td>\n",
       "      <td>-0.006789</td>\n",
       "      <td>-0.005243</td>\n",
       "      <td>-0.017423</td>\n",
       "      <td>-0.021554</td>\n",
       "      <td>-0.016611</td>\n",
       "      <td>-0.022516</td>\n",
       "      <td>-0.026698</td>\n",
       "      <td>-0.015762</td>\n",
       "      <td>...</td>\n",
       "      <td>0.737641</td>\n",
       "      <td>0.766482</td>\n",
       "      <td>0.795151</td>\n",
       "      <td>0.830107</td>\n",
       "      <td>0.866642</td>\n",
       "      <td>0.899117</td>\n",
       "      <td>0.930481</td>\n",
       "      <td>0.962435</td>\n",
       "      <td>0.992274</td>\n",
       "      <td>1.020625</td>\n",
       "    </tr>\n",
       "    <tr>\n",
       "      <th>0.50</th>\n",
       "      <td>-0.001935</td>\n",
       "      <td>0.010721</td>\n",
       "      <td>0.021678</td>\n",
       "      <td>0.019888</td>\n",
       "      <td>0.005572</td>\n",
       "      <td>-0.000322</td>\n",
       "      <td>0.003470</td>\n",
       "      <td>-0.003353</td>\n",
       "      <td>-0.008938</td>\n",
       "      <td>0.000557</td>\n",
       "      <td>...</td>\n",
       "      <td>1.048006</td>\n",
       "      <td>1.080218</td>\n",
       "      <td>1.112584</td>\n",
       "      <td>1.152364</td>\n",
       "      <td>1.193278</td>\n",
       "      <td>1.230292</td>\n",
       "      <td>1.266660</td>\n",
       "      <td>1.303180</td>\n",
       "      <td>1.338196</td>\n",
       "      <td>1.371750</td>\n",
       "    </tr>\n",
       "    <tr>\n",
       "      <th>0.83</th>\n",
       "      <td>0.021447</td>\n",
       "      <td>0.033585</td>\n",
       "      <td>0.044969</td>\n",
       "      <td>0.043058</td>\n",
       "      <td>0.027483</td>\n",
       "      <td>0.020657</td>\n",
       "      <td>0.024075</td>\n",
       "      <td>0.016565</td>\n",
       "      <td>0.009910</td>\n",
       "      <td>0.018546</td>\n",
       "      <td>...</td>\n",
       "      <td>1.501515</td>\n",
       "      <td>1.541947</td>\n",
       "      <td>1.582395</td>\n",
       "      <td>1.631095</td>\n",
       "      <td>1.681944</td>\n",
       "      <td>1.727917</td>\n",
       "      <td>1.773033</td>\n",
       "      <td>1.818338</td>\n",
       "      <td>1.865156</td>\n",
       "      <td>1.908392</td>\n",
       "    </tr>\n",
       "    <tr>\n",
       "      <th>0.95</th>\n",
       "      <td>0.040136</td>\n",
       "      <td>0.052878</td>\n",
       "      <td>0.065072</td>\n",
       "      <td>0.063472</td>\n",
       "      <td>0.047376</td>\n",
       "      <td>0.040017</td>\n",
       "      <td>0.043176</td>\n",
       "      <td>0.035240</td>\n",
       "      <td>0.027723</td>\n",
       "      <td>0.036060</td>\n",
       "      <td>...</td>\n",
       "      <td>1.942801</td>\n",
       "      <td>1.991004</td>\n",
       "      <td>2.040385</td>\n",
       "      <td>2.094768</td>\n",
       "      <td>2.156152</td>\n",
       "      <td>2.211767</td>\n",
       "      <td>2.264466</td>\n",
       "      <td>2.315673</td>\n",
       "      <td>2.369534</td>\n",
       "      <td>2.423587</td>\n",
       "    </tr>\n",
       "  </tbody>\n",
       "</table>\n",
       "<p>5 rows × 680 columns</p>\n",
       "</div>"
      ],
      "text/plain": [
       "           ar6                                                              \\\n",
       "          1850      1851      1852      1853      1854      1855      1856   \n",
       "0.05 -0.093479 -0.069078 -0.047385 -0.040032 -0.047016 -0.047746 -0.040242   \n",
       "0.17 -0.039776 -0.021874 -0.006789 -0.005243 -0.017423 -0.021554 -0.016611   \n",
       "0.50 -0.001935  0.010721  0.021678  0.019888  0.005572 -0.000322  0.003470   \n",
       "0.83  0.021447  0.033585  0.044969  0.043058  0.027483  0.020657  0.024075   \n",
       "0.95  0.040136  0.052878  0.065072  0.063472  0.047376  0.040017  0.043176   \n",
       "\n",
       "                                    ...       s21                      \\\n",
       "          1857      1858      1859  ...      2010      2011      2012   \n",
       "0.05 -0.043407 -0.045850 -0.033341  ...  0.553891  0.582558  0.610539   \n",
       "0.17 -0.022516 -0.026698 -0.015762  ...  0.737641  0.766482  0.795151   \n",
       "0.50 -0.003353 -0.008938  0.000557  ...  1.048006  1.080218  1.112584   \n",
       "0.83  0.016565  0.009910  0.018546  ...  1.501515  1.541947  1.582395   \n",
       "0.95  0.035240  0.027723  0.036060  ...  1.942801  1.991004  2.040385   \n",
       "\n",
       "                                                                            \n",
       "          2013      2014      2015      2016      2017      2018      2019  \n",
       "0.05  0.645185  0.681693  0.713514  0.746447  0.778595  0.808206  0.834550  \n",
       "0.17  0.830107  0.866642  0.899117  0.930481  0.962435  0.992274  1.020625  \n",
       "0.50  1.152364  1.193278  1.230292  1.266660  1.303180  1.338196  1.371750  \n",
       "0.83  1.631095  1.681944  1.727917  1.773033  1.818338  1.865156  1.908392  \n",
       "0.95  2.094768  2.156152  2.211767  2.264466  2.315673  2.369534  2.423587  \n",
       "\n",
       "[5 rows x 680 columns]"
      ]
     },
     "execution_count": 42,
     "metadata": {},
     "output_type": "execute_result"
    }
   ],
   "source": [
    "dfqset_gsat[0].loc[:, (slice(None), slice(1850, None))]"
   ]
  },
  {
   "cell_type": "code",
   "execution_count": 43,
   "metadata": {},
   "outputs": [
    {
     "data": {
      "text/html": [
       "<div>\n",
       "<style scoped>\n",
       "    .dataframe tbody tr th:only-of-type {\n",
       "        vertical-align: middle;\n",
       "    }\n",
       "\n",
       "    .dataframe tbody tr th {\n",
       "        vertical-align: top;\n",
       "    }\n",
       "\n",
       "    .dataframe thead tr th {\n",
       "        text-align: left;\n",
       "    }\n",
       "</style>\n",
       "<table border=\"1\" class=\"dataframe\">\n",
       "  <thead>\n",
       "    <tr>\n",
       "      <th></th>\n",
       "      <th colspan=\"10\" halign=\"left\">ar6</th>\n",
       "      <th>...</th>\n",
       "      <th colspan=\"10\" halign=\"left\">s21</th>\n",
       "    </tr>\n",
       "    <tr>\n",
       "      <th></th>\n",
       "      <th>1850</th>\n",
       "      <th>1851</th>\n",
       "      <th>1852</th>\n",
       "      <th>1853</th>\n",
       "      <th>1854</th>\n",
       "      <th>1855</th>\n",
       "      <th>1856</th>\n",
       "      <th>1857</th>\n",
       "      <th>1858</th>\n",
       "      <th>1859</th>\n",
       "      <th>...</th>\n",
       "      <th>2010</th>\n",
       "      <th>2011</th>\n",
       "      <th>2012</th>\n",
       "      <th>2013</th>\n",
       "      <th>2014</th>\n",
       "      <th>2015</th>\n",
       "      <th>2016</th>\n",
       "      <th>2017</th>\n",
       "      <th>2018</th>\n",
       "      <th>2019</th>\n",
       "    </tr>\n",
       "  </thead>\n",
       "  <tbody>\n",
       "    <tr>\n",
       "      <th>0.05</th>\n",
       "      <td>-0.020609</td>\n",
       "      <td>-0.009786</td>\n",
       "      <td>-0.002325</td>\n",
       "      <td>-0.007010</td>\n",
       "      <td>-0.024274</td>\n",
       "      <td>-0.027489</td>\n",
       "      <td>-0.020572</td>\n",
       "      <td>-0.027740</td>\n",
       "      <td>-0.030309</td>\n",
       "      <td>-0.018156</td>\n",
       "      <td>...</td>\n",
       "      <td>0.852333</td>\n",
       "      <td>0.872565</td>\n",
       "      <td>0.895197</td>\n",
       "      <td>0.922264</td>\n",
       "      <td>0.948263</td>\n",
       "      <td>0.967240</td>\n",
       "      <td>0.986657</td>\n",
       "      <td>1.006070</td>\n",
       "      <td>1.025543</td>\n",
       "      <td>1.050863</td>\n",
       "    </tr>\n",
       "    <tr>\n",
       "      <th>0.17</th>\n",
       "      <td>-0.012901</td>\n",
       "      <td>-0.002499</td>\n",
       "      <td>0.004903</td>\n",
       "      <td>0.001148</td>\n",
       "      <td>-0.014409</td>\n",
       "      <td>-0.019034</td>\n",
       "      <td>-0.014898</td>\n",
       "      <td>-0.021443</td>\n",
       "      <td>-0.025299</td>\n",
       "      <td>-0.014339</td>\n",
       "      <td>...</td>\n",
       "      <td>0.918143</td>\n",
       "      <td>0.940174</td>\n",
       "      <td>0.962504</td>\n",
       "      <td>0.991061</td>\n",
       "      <td>1.021318</td>\n",
       "      <td>1.045478</td>\n",
       "      <td>1.069533</td>\n",
       "      <td>1.092335</td>\n",
       "      <td>1.113139</td>\n",
       "      <td>1.133649</td>\n",
       "    </tr>\n",
       "    <tr>\n",
       "      <th>0.50</th>\n",
       "      <td>-0.001830</td>\n",
       "      <td>0.009045</td>\n",
       "      <td>0.016944</td>\n",
       "      <td>0.012839</td>\n",
       "      <td>-0.001573</td>\n",
       "      <td>-0.007862</td>\n",
       "      <td>-0.004607</td>\n",
       "      <td>-0.011794</td>\n",
       "      <td>-0.017002</td>\n",
       "      <td>-0.007671</td>\n",
       "      <td>...</td>\n",
       "      <td>0.999294</td>\n",
       "      <td>1.024387</td>\n",
       "      <td>1.050601</td>\n",
       "      <td>1.081809</td>\n",
       "      <td>1.116299</td>\n",
       "      <td>1.144424</td>\n",
       "      <td>1.170720</td>\n",
       "      <td>1.196583</td>\n",
       "      <td>1.221372</td>\n",
       "      <td>1.246582</td>\n",
       "    </tr>\n",
       "    <tr>\n",
       "      <th>0.83</th>\n",
       "      <td>0.007693</td>\n",
       "      <td>0.019204</td>\n",
       "      <td>0.030786</td>\n",
       "      <td>0.027336</td>\n",
       "      <td>0.011403</td>\n",
       "      <td>0.004303</td>\n",
       "      <td>0.007232</td>\n",
       "      <td>0.000101</td>\n",
       "      <td>-0.006109</td>\n",
       "      <td>0.002835</td>\n",
       "      <td>...</td>\n",
       "      <td>1.108734</td>\n",
       "      <td>1.139061</td>\n",
       "      <td>1.170000</td>\n",
       "      <td>1.206165</td>\n",
       "      <td>1.244280</td>\n",
       "      <td>1.276476</td>\n",
       "      <td>1.308586</td>\n",
       "      <td>1.340436</td>\n",
       "      <td>1.371710</td>\n",
       "      <td>1.403059</td>\n",
       "    </tr>\n",
       "    <tr>\n",
       "      <th>0.95</th>\n",
       "      <td>0.017572</td>\n",
       "      <td>0.028690</td>\n",
       "      <td>0.039082</td>\n",
       "      <td>0.037379</td>\n",
       "      <td>0.021221</td>\n",
       "      <td>0.013276</td>\n",
       "      <td>0.016619</td>\n",
       "      <td>0.008941</td>\n",
       "      <td>0.001534</td>\n",
       "      <td>0.010211</td>\n",
       "      <td>...</td>\n",
       "      <td>1.185745</td>\n",
       "      <td>1.215294</td>\n",
       "      <td>1.252215</td>\n",
       "      <td>1.287331</td>\n",
       "      <td>1.328913</td>\n",
       "      <td>1.365816</td>\n",
       "      <td>1.405277</td>\n",
       "      <td>1.450115</td>\n",
       "      <td>1.488031</td>\n",
       "      <td>1.522270</td>\n",
       "    </tr>\n",
       "  </tbody>\n",
       "</table>\n",
       "<p>5 rows × 680 columns</p>\n",
       "</div>"
      ],
      "text/plain": [
       "           ar6                                                              \\\n",
       "          1850      1851      1852      1853      1854      1855      1856   \n",
       "0.05 -0.020609 -0.009786 -0.002325 -0.007010 -0.024274 -0.027489 -0.020572   \n",
       "0.17 -0.012901 -0.002499  0.004903  0.001148 -0.014409 -0.019034 -0.014898   \n",
       "0.50 -0.001830  0.009045  0.016944  0.012839 -0.001573 -0.007862 -0.004607   \n",
       "0.83  0.007693  0.019204  0.030786  0.027336  0.011403  0.004303  0.007232   \n",
       "0.95  0.017572  0.028690  0.039082  0.037379  0.021221  0.013276  0.016619   \n",
       "\n",
       "                                    ...       s21                      \\\n",
       "          1857      1858      1859  ...      2010      2011      2012   \n",
       "0.05 -0.027740 -0.030309 -0.018156  ...  0.852333  0.872565  0.895197   \n",
       "0.17 -0.021443 -0.025299 -0.014339  ...  0.918143  0.940174  0.962504   \n",
       "0.50 -0.011794 -0.017002 -0.007671  ...  0.999294  1.024387  1.050601   \n",
       "0.83  0.000101 -0.006109  0.002835  ...  1.108734  1.139061  1.170000   \n",
       "0.95  0.008941  0.001534  0.010211  ...  1.185745  1.215294  1.252215   \n",
       "\n",
       "                                                                            \n",
       "          2013      2014      2015      2016      2017      2018      2019  \n",
       "0.05  0.922264  0.948263  0.967240  0.986657  1.006070  1.025543  1.050863  \n",
       "0.17  0.991061  1.021318  1.045478  1.069533  1.092335  1.113139  1.133649  \n",
       "0.50  1.081809  1.116299  1.144424  1.170720  1.196583  1.221372  1.246582  \n",
       "0.83  1.206165  1.244280  1.276476  1.308586  1.340436  1.371710  1.403059  \n",
       "0.95  1.287331  1.328913  1.365816  1.405277  1.450115  1.488031  1.522270  \n",
       "\n",
       "[5 rows x 680 columns]"
      ]
     },
     "execution_count": 43,
     "metadata": {},
     "output_type": "execute_result"
    }
   ],
   "source": [
    "dfqset_gsat[1].loc[:, (slice(None), slice(1850, None))]"
   ]
  },
  {
   "cell_type": "code",
   "execution_count": 44,
   "metadata": {},
   "outputs": [
    {
     "data": {
      "text/html": [
       "<div>\n",
       "<style scoped>\n",
       "    .dataframe tbody tr th:only-of-type {\n",
       "        vertical-align: middle;\n",
       "    }\n",
       "\n",
       "    .dataframe tbody tr th {\n",
       "        vertical-align: top;\n",
       "    }\n",
       "\n",
       "    .dataframe thead tr th {\n",
       "        text-align: left;\n",
       "    }\n",
       "</style>\n",
       "<table border=\"1\" class=\"dataframe\">\n",
       "  <thead>\n",
       "    <tr>\n",
       "      <th></th>\n",
       "      <th colspan=\"10\" halign=\"left\">ar6</th>\n",
       "      <th>...</th>\n",
       "      <th colspan=\"10\" halign=\"left\">s21</th>\n",
       "    </tr>\n",
       "    <tr>\n",
       "      <th></th>\n",
       "      <th>1971</th>\n",
       "      <th>1972</th>\n",
       "      <th>1973</th>\n",
       "      <th>1974</th>\n",
       "      <th>1975</th>\n",
       "      <th>1976</th>\n",
       "      <th>1977</th>\n",
       "      <th>1978</th>\n",
       "      <th>1979</th>\n",
       "      <th>1980</th>\n",
       "      <th>...</th>\n",
       "      <th>2010</th>\n",
       "      <th>2011</th>\n",
       "      <th>2012</th>\n",
       "      <th>2013</th>\n",
       "      <th>2014</th>\n",
       "      <th>2015</th>\n",
       "      <th>2016</th>\n",
       "      <th>2017</th>\n",
       "      <th>2018</th>\n",
       "      <th>2019</th>\n",
       "    </tr>\n",
       "  </thead>\n",
       "  <tbody>\n",
       "    <tr>\n",
       "      <th>0.05</th>\n",
       "      <td>-190.351723</td>\n",
       "      <td>-184.771213</td>\n",
       "      <td>-177.650302</td>\n",
       "      <td>-170.200907</td>\n",
       "      <td>-165.311315</td>\n",
       "      <td>-160.107696</td>\n",
       "      <td>-152.399932</td>\n",
       "      <td>-142.656798</td>\n",
       "      <td>-132.155258</td>\n",
       "      <td>-121.699707</td>\n",
       "      <td>...</td>\n",
       "      <td>237.983644</td>\n",
       "      <td>255.873611</td>\n",
       "      <td>274.289852</td>\n",
       "      <td>293.706079</td>\n",
       "      <td>313.830204</td>\n",
       "      <td>333.861822</td>\n",
       "      <td>354.003886</td>\n",
       "      <td>374.541822</td>\n",
       "      <td>395.279454</td>\n",
       "      <td>404.776551</td>\n",
       "    </tr>\n",
       "    <tr>\n",
       "      <th>0.17</th>\n",
       "      <td>-90.628145</td>\n",
       "      <td>-86.847811</td>\n",
       "      <td>-81.231712</td>\n",
       "      <td>-75.631765</td>\n",
       "      <td>-72.318160</td>\n",
       "      <td>-68.720784</td>\n",
       "      <td>-62.238198</td>\n",
       "      <td>-54.248864</td>\n",
       "      <td>-45.562785</td>\n",
       "      <td>-36.887935</td>\n",
       "      <td>...</td>\n",
       "      <td>260.191839</td>\n",
       "      <td>275.457916</td>\n",
       "      <td>291.077736</td>\n",
       "      <td>307.717738</td>\n",
       "      <td>325.105400</td>\n",
       "      <td>342.293139</td>\n",
       "      <td>359.663922</td>\n",
       "      <td>377.389076</td>\n",
       "      <td>395.279454</td>\n",
       "      <td>406.803465</td>\n",
       "    </tr>\n",
       "    <tr>\n",
       "      <th>0.50</th>\n",
       "      <td>24.355422</td>\n",
       "      <td>26.383932</td>\n",
       "      <td>30.131071</td>\n",
       "      <td>33.916869</td>\n",
       "      <td>35.426011</td>\n",
       "      <td>37.322211</td>\n",
       "      <td>41.850691</td>\n",
       "      <td>47.742762</td>\n",
       "      <td>54.231954</td>\n",
       "      <td>60.492253</td>\n",
       "      <td>...</td>\n",
       "      <td>286.930480</td>\n",
       "      <td>299.036384</td>\n",
       "      <td>311.401319</td>\n",
       "      <td>324.823102</td>\n",
       "      <td>338.826790</td>\n",
       "      <td>352.640404</td>\n",
       "      <td>366.615697</td>\n",
       "      <td>380.893909</td>\n",
       "      <td>395.279454</td>\n",
       "      <td>409.690617</td>\n",
       "    </tr>\n",
       "    <tr>\n",
       "      <th>0.83</th>\n",
       "      <td>121.758986</td>\n",
       "      <td>122.055246</td>\n",
       "      <td>123.859799</td>\n",
       "      <td>125.956935</td>\n",
       "      <td>125.786964</td>\n",
       "      <td>125.900258</td>\n",
       "      <td>128.699903</td>\n",
       "      <td>132.816422</td>\n",
       "      <td>137.390155</td>\n",
       "      <td>141.887409</td>\n",
       "      <td>...</td>\n",
       "      <td>308.366699</td>\n",
       "      <td>317.995212</td>\n",
       "      <td>327.804003</td>\n",
       "      <td>338.619293</td>\n",
       "      <td>349.967787</td>\n",
       "      <td>361.028507</td>\n",
       "      <td>372.263071</td>\n",
       "      <td>383.741846</td>\n",
       "      <td>395.279454</td>\n",
       "      <td>413.253832</td>\n",
       "    </tr>\n",
       "    <tr>\n",
       "      <th>0.95</th>\n",
       "      <td>183.121426</td>\n",
       "      <td>182.251463</td>\n",
       "      <td>183.032802</td>\n",
       "      <td>183.764013</td>\n",
       "      <td>182.550447</td>\n",
       "      <td>181.695172</td>\n",
       "      <td>183.386678</td>\n",
       "      <td>186.321399</td>\n",
       "      <td>189.838078</td>\n",
       "      <td>193.228180</td>\n",
       "      <td>...</td>\n",
       "      <td>322.760157</td>\n",
       "      <td>330.746937</td>\n",
       "      <td>338.925820</td>\n",
       "      <td>348.046947</td>\n",
       "      <td>357.641942</td>\n",
       "      <td>366.868759</td>\n",
       "      <td>376.206994</td>\n",
       "      <td>385.735376</td>\n",
       "      <td>395.279454</td>\n",
       "      <td>416.155577</td>\n",
       "    </tr>\n",
       "  </tbody>\n",
       "</table>\n",
       "<p>5 rows × 196 columns</p>\n",
       "</div>"
      ],
      "text/plain": [
       "             ar6                                                              \\\n",
       "            1971        1972        1973        1974        1975        1976   \n",
       "0.05 -190.351723 -184.771213 -177.650302 -170.200907 -165.311315 -160.107696   \n",
       "0.17  -90.628145  -86.847811  -81.231712  -75.631765  -72.318160  -68.720784   \n",
       "0.50   24.355422   26.383932   30.131071   33.916869   35.426011   37.322211   \n",
       "0.83  121.758986  122.055246  123.859799  125.956935  125.786964  125.900258   \n",
       "0.95  183.121426  182.251463  183.032802  183.764013  182.550447  181.695172   \n",
       "\n",
       "                                                      ...         s21  \\\n",
       "            1977        1978        1979        1980  ...        2010   \n",
       "0.05 -152.399932 -142.656798 -132.155258 -121.699707  ...  237.983644   \n",
       "0.17  -62.238198  -54.248864  -45.562785  -36.887935  ...  260.191839   \n",
       "0.50   41.850691   47.742762   54.231954   60.492253  ...  286.930480   \n",
       "0.83  128.699903  132.816422  137.390155  141.887409  ...  308.366699   \n",
       "0.95  183.386678  186.321399  189.838078  193.228180  ...  322.760157   \n",
       "\n",
       "                                                                              \\\n",
       "            2011        2012        2013        2014        2015        2016   \n",
       "0.05  255.873611  274.289852  293.706079  313.830204  333.861822  354.003886   \n",
       "0.17  275.457916  291.077736  307.717738  325.105400  342.293139  359.663922   \n",
       "0.50  299.036384  311.401319  324.823102  338.826790  352.640404  366.615697   \n",
       "0.83  317.995212  327.804003  338.619293  349.967787  361.028507  372.263071   \n",
       "0.95  330.746937  338.925820  348.046947  357.641942  366.868759  376.206994   \n",
       "\n",
       "                                          \n",
       "            2017        2018        2019  \n",
       "0.05  374.541822  395.279454  404.776551  \n",
       "0.17  377.389076  395.279454  406.803465  \n",
       "0.50  380.893909  395.279454  409.690617  \n",
       "0.83  383.741846  395.279454  413.253832  \n",
       "0.95  385.735376  395.279454  416.155577  \n",
       "\n",
       "[5 rows x 196 columns]"
      ]
     },
     "execution_count": 44,
     "metadata": {},
     "output_type": "execute_result"
    }
   ],
   "source": [
    "dfqset_ohc_norm[0].loc[:, (slice(None), slice(1971, None))]"
   ]
  },
  {
   "cell_type": "code",
   "execution_count": 45,
   "metadata": {},
   "outputs": [
    {
     "data": {
      "text/html": [
       "<div>\n",
       "<style scoped>\n",
       "    .dataframe tbody tr th:only-of-type {\n",
       "        vertical-align: middle;\n",
       "    }\n",
       "\n",
       "    .dataframe tbody tr th {\n",
       "        vertical-align: top;\n",
       "    }\n",
       "\n",
       "    .dataframe thead tr th {\n",
       "        text-align: left;\n",
       "    }\n",
       "</style>\n",
       "<table border=\"1\" class=\"dataframe\">\n",
       "  <thead>\n",
       "    <tr>\n",
       "      <th></th>\n",
       "      <th colspan=\"10\" halign=\"left\">ar6</th>\n",
       "      <th>...</th>\n",
       "      <th colspan=\"10\" halign=\"left\">s21</th>\n",
       "    </tr>\n",
       "    <tr>\n",
       "      <th></th>\n",
       "      <th>1971</th>\n",
       "      <th>1972</th>\n",
       "      <th>1973</th>\n",
       "      <th>1974</th>\n",
       "      <th>1975</th>\n",
       "      <th>1976</th>\n",
       "      <th>1977</th>\n",
       "      <th>1978</th>\n",
       "      <th>1979</th>\n",
       "      <th>1980</th>\n",
       "      <th>...</th>\n",
       "      <th>2010</th>\n",
       "      <th>2011</th>\n",
       "      <th>2012</th>\n",
       "      <th>2013</th>\n",
       "      <th>2014</th>\n",
       "      <th>2015</th>\n",
       "      <th>2016</th>\n",
       "      <th>2017</th>\n",
       "      <th>2018</th>\n",
       "      <th>2019</th>\n",
       "    </tr>\n",
       "  </thead>\n",
       "  <tbody>\n",
       "    <tr>\n",
       "      <th>0.05</th>\n",
       "      <td>-124.762764</td>\n",
       "      <td>-119.753034</td>\n",
       "      <td>-112.900566</td>\n",
       "      <td>-106.121670</td>\n",
       "      <td>-101.942611</td>\n",
       "      <td>-98.121214</td>\n",
       "      <td>-91.132007</td>\n",
       "      <td>-82.991627</td>\n",
       "      <td>-73.049513</td>\n",
       "      <td>-63.769498</td>\n",
       "      <td>...</td>\n",
       "      <td>256.945434</td>\n",
       "      <td>272.551413</td>\n",
       "      <td>288.437120</td>\n",
       "      <td>305.622629</td>\n",
       "      <td>323.211720</td>\n",
       "      <td>340.844504</td>\n",
       "      <td>358.659471</td>\n",
       "      <td>376.868482</td>\n",
       "      <td>395.279454</td>\n",
       "      <td>405.675574</td>\n",
       "    </tr>\n",
       "    <tr>\n",
       "      <th>0.17</th>\n",
       "      <td>-79.437797</td>\n",
       "      <td>-76.125767</td>\n",
       "      <td>-69.919525</td>\n",
       "      <td>-63.809876</td>\n",
       "      <td>-60.206563</td>\n",
       "      <td>-55.465342</td>\n",
       "      <td>-48.509359</td>\n",
       "      <td>-40.052298</td>\n",
       "      <td>-31.085173</td>\n",
       "      <td>-23.351260</td>\n",
       "      <td>...</td>\n",
       "      <td>269.324055</td>\n",
       "      <td>283.478487</td>\n",
       "      <td>298.051671</td>\n",
       "      <td>313.827869</td>\n",
       "      <td>330.267261</td>\n",
       "      <td>346.233303</td>\n",
       "      <td>362.342489</td>\n",
       "      <td>378.748505</td>\n",
       "      <td>395.279454</td>\n",
       "      <td>407.199936</td>\n",
       "    </tr>\n",
       "    <tr>\n",
       "      <th>0.50</th>\n",
       "      <td>-17.955300</td>\n",
       "      <td>-13.933465</td>\n",
       "      <td>-8.801400</td>\n",
       "      <td>-3.568597</td>\n",
       "      <td>-0.233433</td>\n",
       "      <td>3.520871</td>\n",
       "      <td>9.970351</td>\n",
       "      <td>17.491742</td>\n",
       "      <td>25.648064</td>\n",
       "      <td>33.098102</td>\n",
       "      <td>...</td>\n",
       "      <td>286.344931</td>\n",
       "      <td>298.530868</td>\n",
       "      <td>311.551967</td>\n",
       "      <td>325.101012</td>\n",
       "      <td>339.399177</td>\n",
       "      <td>353.282470</td>\n",
       "      <td>367.069382</td>\n",
       "      <td>381.099072</td>\n",
       "      <td>395.279454</td>\n",
       "      <td>409.547732</td>\n",
       "    </tr>\n",
       "    <tr>\n",
       "      <th>0.83</th>\n",
       "      <td>37.235282</td>\n",
       "      <td>39.814609</td>\n",
       "      <td>44.694203</td>\n",
       "      <td>49.201696</td>\n",
       "      <td>51.473645</td>\n",
       "      <td>54.335100</td>\n",
       "      <td>60.028981</td>\n",
       "      <td>67.480619</td>\n",
       "      <td>75.140609</td>\n",
       "      <td>82.425005</td>\n",
       "      <td>...</td>\n",
       "      <td>302.821092</td>\n",
       "      <td>313.535406</td>\n",
       "      <td>324.451892</td>\n",
       "      <td>336.299792</td>\n",
       "      <td>348.557497</td>\n",
       "      <td>360.065317</td>\n",
       "      <td>371.677725</td>\n",
       "      <td>383.427502</td>\n",
       "      <td>395.279454</td>\n",
       "      <td>411.849524</td>\n",
       "    </tr>\n",
       "    <tr>\n",
       "      <th>0.95</th>\n",
       "      <td>78.294430</td>\n",
       "      <td>80.733739</td>\n",
       "      <td>84.669638</td>\n",
       "      <td>88.453978</td>\n",
       "      <td>90.247487</td>\n",
       "      <td>92.599733</td>\n",
       "      <td>98.093288</td>\n",
       "      <td>105.239884</td>\n",
       "      <td>112.847495</td>\n",
       "      <td>118.726612</td>\n",
       "      <td>...</td>\n",
       "      <td>313.801762</td>\n",
       "      <td>323.224149</td>\n",
       "      <td>332.925126</td>\n",
       "      <td>343.451919</td>\n",
       "      <td>354.330548</td>\n",
       "      <td>364.434336</td>\n",
       "      <td>374.468177</td>\n",
       "      <td>384.847698</td>\n",
       "      <td>395.279454</td>\n",
       "      <td>413.745395</td>\n",
       "    </tr>\n",
       "  </tbody>\n",
       "</table>\n",
       "<p>5 rows × 196 columns</p>\n",
       "</div>"
      ],
      "text/plain": [
       "             ar6                                                             \\\n",
       "            1971        1972        1973        1974        1975       1976   \n",
       "0.05 -124.762764 -119.753034 -112.900566 -106.121670 -101.942611 -98.121214   \n",
       "0.17  -79.437797  -76.125767  -69.919525  -63.809876  -60.206563 -55.465342   \n",
       "0.50  -17.955300  -13.933465   -8.801400   -3.568597   -0.233433   3.520871   \n",
       "0.83   37.235282   39.814609   44.694203   49.201696   51.473645  54.335100   \n",
       "0.95   78.294430   80.733739   84.669638   88.453978   90.247487  92.599733   \n",
       "\n",
       "                                                     ...         s21  \\\n",
       "           1977        1978        1979        1980  ...        2010   \n",
       "0.05 -91.132007  -82.991627  -73.049513  -63.769498  ...  256.945434   \n",
       "0.17 -48.509359  -40.052298  -31.085173  -23.351260  ...  269.324055   \n",
       "0.50   9.970351   17.491742   25.648064   33.098102  ...  286.344931   \n",
       "0.83  60.028981   67.480619   75.140609   82.425005  ...  302.821092   \n",
       "0.95  98.093288  105.239884  112.847495  118.726612  ...  313.801762   \n",
       "\n",
       "                                                                              \\\n",
       "            2011        2012        2013        2014        2015        2016   \n",
       "0.05  272.551413  288.437120  305.622629  323.211720  340.844504  358.659471   \n",
       "0.17  283.478487  298.051671  313.827869  330.267261  346.233303  362.342489   \n",
       "0.50  298.530868  311.551967  325.101012  339.399177  353.282470  367.069382   \n",
       "0.83  313.535406  324.451892  336.299792  348.557497  360.065317  371.677725   \n",
       "0.95  323.224149  332.925126  343.451919  354.330548  364.434336  374.468177   \n",
       "\n",
       "                                          \n",
       "            2017        2018        2019  \n",
       "0.05  376.868482  395.279454  405.675574  \n",
       "0.17  378.748505  395.279454  407.199936  \n",
       "0.50  381.099072  395.279454  409.547732  \n",
       "0.83  383.427502  395.279454  411.849524  \n",
       "0.95  384.847698  395.279454  413.745395  \n",
       "\n",
       "[5 rows x 196 columns]"
      ]
     },
     "execution_count": 45,
     "metadata": {},
     "output_type": "execute_result"
    }
   ],
   "source": [
    "dfqset_ohc_norm[1].loc[:, (slice(None), slice(1971, None))]"
   ]
  },
  {
   "cell_type": "code",
   "execution_count": 46,
   "metadata": {},
   "outputs": [
    {
     "name": "stderr",
     "output_type": "stream",
     "text": [
      "[2024-07-22 08:29:02 mce] INFO:saved to ./image/timeseries_gmst_ohu_cmp2.png\n"
     ]
    },
    {
     "data": {
      "image/png": "[encoded data removed]",
      "text/plain": [
       "<Figure size 741.6x604.8 with 4 Axes>"
      ]
     },
     "metadata": {
      "needs_background": "light"
     },
     "output_type": "display_data"
    }
   ],
   "source": [
    "plt.init_regular(4, col=2, kw_space={'hspace': 1.1})\n",
    "\n",
    "ax = plt(0)\n",
    "\n",
    "df_gmst_obs['4-set mean'].plot(\n",
    "    ax=ax, color=map_color['Observation'], label='Observation',\n",
    ")\n",
    "\n",
    "method_ref = 'ar6'\n",
    "kw_legend = {\n",
    "    'loc': 'upper left',\n",
    "    'labelspacing': 0.2,\n",
    "}\n",
    "\n",
    "for dfq, color, alpha, label in zip(\n",
    "    dfqset_gsat,\n",
    "    ['C7', map_color[method_ref]],\n",
    "    [0.3, 0.5],\n",
    "    ['Unconstrained', 'Constrained'],\n",
    "):\n",
    "    df = dfq[method_ref].loc[:, 1850:]\n",
    "    ax.fill_between(\n",
    "        df.columns.values, df.loc[0.95].values, df.loc[0.05].values,\n",
    "        color=color, alpha=alpha,\n",
    "    )\n",
    "    df.loc[0.5].plot(ax=ax, color=color, lw=2., label=label)\n",
    "\n",
    "handles, labels = ax.get_legend_handles_labels()\n",
    "labels = labels[:1] + [\n",
    "    '{} {}'.format(map_method[method_ref][:2], l1)\n",
    "    for l1 in labels[1:]\n",
    "]\n",
    "ax.legend(handles, labels, **kw_legend)\n",
    "handles_a = handles\n",
    "labels_a = labels\n",
    "\n",
    "ax.set_title('Median & 90%, relative to 1850–1900')\n",
    "ax.set_ylabel('Surface temperature change (°C)')\n",
    "ax.set_xlabel('')\n",
    "ax.grid()\n",
    "\n",
    "ax = plt(1)\n",
    "\n",
    "handles = [\n",
    "    mpl.lines.Line2D([0], [0], color=map_color['Observation']),\n",
    "] + [\n",
    "    mpl.lines.Line2D([0], [0], color=map_color[method], lw=1.5)\n",
    "    for method in method_case_order\n",
    "] + [\n",
    "    mpl.patches.Patch(alpha=0, linewidth=0),\n",
    "    mpl.lines.Line2D([0], [0], color='k', lw=1.5, ls='-'),\n",
    "    mpl.lines.Line2D([0], [0], color='k', lw=1.5, ls='-.'),\n",
    "    mpl.lines.Line2D([0], [0], color='k', lw=1.5, ls='--'),\n",
    "]\n",
    "labels = ['Observation'] + [\n",
    "    map_method[method] for method in method_case_order\n",
    "] + [\n",
    "    '', 'Median', '95%', '5%',\n",
    "]\n",
    "\n",
    "df_gmst_obs['4-set mean'].plot(\n",
    "    ax=ax, color=map_color['Observation'], label='Observation',\n",
    ")\n",
    "for prob, ls in zip([0.5, 0.95, 0.05], ['-', '-.', '--']):\n",
    "    dfqset_gsat[1].loc[prob].unstack(0).loc[1850:, method_case_order].plot(\n",
    "        ax=ax, legend=False, color=map_color, ls=ls, lw=1.5,\n",
    "    )\n",
    "\n",
    "ax.legend(handles, labels, **kw_legend)\n",
    "handles_b = handles\n",
    "labels_b = labels\n",
    "ax.set_title('Median & 90%, relative to 1850–1900')\n",
    "ax.set_xlabel('')\n",
    "ax.grid()\n",
    "\n",
    "ax = plt(2)\n",
    "\n",
    "ax.fill_between(\n",
    "    df_ohc_obs[name_central].index.values - 0.5,\n",
    "    df_ohc_obs[name_central].values - df_ohc_obs[name_unc].values,\n",
    "    df_ohc_obs[name_central].values + df_ohc_obs[name_unc].values,\n",
    "    color=map_color['Observation'], lw=0., alpha=0.3,\n",
    ")\n",
    "ax.plot(\n",
    "    df_ohc_obs[name_central].index.values - 0.5,\n",
    "    df_ohc_obs[name_central].values,\n",
    "    color=map_color['Observation'], label='Observation',\n",
    ")\n",
    "for dfq, color, alpha, label in zip(\n",
    "    dfqset_ohc_norm,\n",
    "    ['C7', map_color[method_ref]],\n",
    "    [0.3, 0.5],\n",
    "    ['Unconstrained', 'Constrained'],\n",
    "):\n",
    "    df = dfq[method_ref].loc[:, 1971:]\n",
    "    ax.fill_between(\n",
    "        df.columns.values, df.loc[0.83].values, df.loc[0.17].values,\n",
    "        color=color, alpha=alpha,\n",
    "    )\n",
    "    df.loc[0.5].plot(ax=ax, color=color, lw=2., label=label)\n",
    "\n",
    "ax.legend(handles_a, labels_a, **kw_legend)\n",
    "ax.set_title('Median & 66%, relative to 2018\\n(adjusted to observation)')\n",
    "ax.set_xlabel('Year')\n",
    "ax.set_ylabel('Ocean heat content change (ZJ)')\n",
    "ax.grid()\n",
    "\n",
    "ax = plt(3)\n",
    "\n",
    "ax.fill_between(\n",
    "    df_ohc_obs[name_central].index.values - 0.5,\n",
    "    df_ohc_obs[name_central].values - df_ohc_obs[name_unc].values,\n",
    "    df_ohc_obs[name_central].values + df_ohc_obs[name_unc].values,\n",
    "    color=map_color['Observation'], lw=0., alpha=0.3,\n",
    ")\n",
    "ax.plot(\n",
    "    df_ohc_obs[name_central].index.values - 0.5,\n",
    "    df_ohc_obs[name_central].values,\n",
    "    color=map_color['Observation'], label='Observation',\n",
    ")\n",
    "for prob, ls in zip([0.5, 0.83, 0.17], ['-', '-.', '--']):\n",
    "    dfqset_ohc_norm[1].loc[prob].unstack(0).loc[1971:, method_case_order].plot(\n",
    "        ax=ax, legend=False, color=map_color, ls=ls, lw=1.5,\n",
    "    )\n",
    "\n",
    "labels_b[-2:] = ['83%', '17%']\n",
    "ax.legend(handles_b, labels_b, **kw_legend)\n",
    "ax.set_title('Median & 66%, relative to 2018\\n(adjusted to observation)')\n",
    "ax.set_xlabel('Year')\n",
    "ax.grid()\n",
    "\n",
    "plt.panel_label()\n",
    "plt.savefig('./image/timeseries_gmst_ohu_cmp2.png')"
   ]
  },
  {
   "cell_type": "markdown",
   "metadata": {},
   "source": [
    "## Range plot: target indicators"
   ]
  },
  {
   "cell_type": "code",
   "execution_count": 47,
   "metadata": {},
   "outputs": [
    {
     "data": {
      "text/html": [
       "<div>\n",
       "<style scoped>\n",
       "    .dataframe tbody tr th:only-of-type {\n",
       "        vertical-align: middle;\n",
       "    }\n",
       "\n",
       "    .dataframe tbody tr th {\n",
       "        vertical-align: top;\n",
       "    }\n",
       "\n",
       "    .dataframe thead tr th {\n",
       "        text-align: left;\n",
       "    }\n",
       "</style>\n",
       "<table border=\"1\" class=\"dataframe\">\n",
       "  <thead>\n",
       "    <tr>\n",
       "      <th></th>\n",
       "      <th colspan=\"9\" halign=\"left\">GSAT_1995_2014</th>\n",
       "      <th colspan=\"3\" halign=\"left\">GSAT_recent_trend</th>\n",
       "      <th colspan=\"9\" halign=\"left\">OHU_1971_2018</th>\n",
       "    </tr>\n",
       "    <tr>\n",
       "      <th></th>\n",
       "      <th colspan=\"5\" halign=\"left\">Constrained</th>\n",
       "      <th colspan=\"4\" halign=\"left\">Unconstrained</th>\n",
       "      <th>Constrained</th>\n",
       "      <th>...</th>\n",
       "      <th>Unconstrained</th>\n",
       "      <th colspan=\"5\" halign=\"left\">Constrained</th>\n",
       "      <th colspan=\"4\" halign=\"left\">Unconstrained</th>\n",
       "    </tr>\n",
       "    <tr>\n",
       "      <th></th>\n",
       "      <th>#0 EBM-ε AR6 orig</th>\n",
       "      <th>#1 EBM-ε AR6</th>\n",
       "      <th>#2 EBM-ε S21</th>\n",
       "      <th>#3 MCE-2l</th>\n",
       "      <th>Reference</th>\n",
       "      <th>#0 EBM-ε AR6 orig</th>\n",
       "      <th>#1 EBM-ε AR6</th>\n",
       "      <th>#2 EBM-ε S21</th>\n",
       "      <th>#3 MCE-2l</th>\n",
       "      <th>#0 EBM-ε AR6 orig</th>\n",
       "      <th>...</th>\n",
       "      <th>#3 MCE-2l</th>\n",
       "      <th>#0 EBM-ε AR6 orig</th>\n",
       "      <th>#1 EBM-ε AR6</th>\n",
       "      <th>#2 EBM-ε S21</th>\n",
       "      <th>#3 MCE-2l</th>\n",
       "      <th>Reference</th>\n",
       "      <th>#0 EBM-ε AR6 orig</th>\n",
       "      <th>#1 EBM-ε AR6</th>\n",
       "      <th>#2 EBM-ε S21</th>\n",
       "      <th>#3 MCE-2l</th>\n",
       "    </tr>\n",
       "  </thead>\n",
       "  <tbody>\n",
       "    <tr>\n",
       "      <th>central</th>\n",
       "      <td>0.874992</td>\n",
       "      <td>0.872078</td>\n",
       "      <td>0.878957</td>\n",
       "      <td>0.878357</td>\n",
       "      <td>0.850668</td>\n",
       "      <td>0.819928</td>\n",
       "      <td>0.868437</td>\n",
       "      <td>0.887229</td>\n",
       "      <td>0.908051</td>\n",
       "      <td>0.572080</td>\n",
       "      <td>...</td>\n",
       "      <td>0.676432</td>\n",
       "      <td>377.177857</td>\n",
       "      <td>413.234755</td>\n",
       "      <td>421.597836</td>\n",
       "      <td>418.199690</td>\n",
       "      <td>395.279454</td>\n",
       "      <td>341.376573</td>\n",
       "      <td>370.924032</td>\n",
       "      <td>378.017134</td>\n",
       "      <td>378.089698</td>\n",
       "    </tr>\n",
       "    <tr>\n",
       "      <th>likely__lower</th>\n",
       "      <td>0.777257</td>\n",
       "      <td>0.795864</td>\n",
       "      <td>0.799772</td>\n",
       "      <td>0.789813</td>\n",
       "      <td>0.747173</td>\n",
       "      <td>0.570685</td>\n",
       "      <td>0.595811</td>\n",
       "      <td>0.604589</td>\n",
       "      <td>0.599581</td>\n",
       "      <td>0.496299</td>\n",
       "      <td>...</td>\n",
       "      <td>0.544829</td>\n",
       "      <td>345.368146</td>\n",
       "      <td>358.044173</td>\n",
       "      <td>358.743455</td>\n",
       "      <td>355.545006</td>\n",
       "      <td>331.281565</td>\n",
       "      <td>246.678806</td>\n",
       "      <td>273.520468</td>\n",
       "      <td>278.041383</td>\n",
       "      <td>267.675537</td>\n",
       "    </tr>\n",
       "    <tr>\n",
       "      <th>likely__upper</th>\n",
       "      <td>0.962534</td>\n",
       "      <td>0.957903</td>\n",
       "      <td>0.957711</td>\n",
       "      <td>0.948694</td>\n",
       "      <td>0.925369</td>\n",
       "      <td>1.158350</td>\n",
       "      <td>1.253911</td>\n",
       "      <td>1.284234</td>\n",
       "      <td>1.304256</td>\n",
       "      <td>0.655112</td>\n",
       "      <td>...</td>\n",
       "      <td>0.852897</td>\n",
       "      <td>426.625961</td>\n",
       "      <td>474.717251</td>\n",
       "      <td>476.196464</td>\n",
       "      <td>468.727749</td>\n",
       "      <td>459.277344</td>\n",
       "      <td>472.332817</td>\n",
       "      <td>485.907600</td>\n",
       "      <td>499.906083</td>\n",
       "      <td>504.299998</td>\n",
       "    </tr>\n",
       "    <tr>\n",
       "      <th>very_likely__lower</th>\n",
       "      <td>0.732129</td>\n",
       "      <td>0.745053</td>\n",
       "      <td>0.753373</td>\n",
       "      <td>0.739950</td>\n",
       "      <td>0.672764</td>\n",
       "      <td>0.421128</td>\n",
       "      <td>0.423112</td>\n",
       "      <td>0.425175</td>\n",
       "      <td>0.392289</td>\n",
       "      <td>0.455778</td>\n",
       "      <td>...</td>\n",
       "      <td>0.472493</td>\n",
       "      <td>332.036697</td>\n",
       "      <td>316.985025</td>\n",
       "      <td>317.291062</td>\n",
       "      <td>312.354964</td>\n",
       "      <td>284.955629</td>\n",
       "      <td>195.838375</td>\n",
       "      <td>212.158028</td>\n",
       "      <td>212.426959</td>\n",
       "      <td>193.814058</td>\n",
       "    </tr>\n",
       "    <tr>\n",
       "      <th>very_likely__upper</th>\n",
       "      <td>1.001088</td>\n",
       "      <td>1.041289</td>\n",
       "      <td>1.015134</td>\n",
       "      <td>1.004356</td>\n",
       "      <td>0.982209</td>\n",
       "      <td>1.512282</td>\n",
       "      <td>1.642517</td>\n",
       "      <td>1.676319</td>\n",
       "      <td>1.679737</td>\n",
       "      <td>0.691874</td>\n",
       "      <td>...</td>\n",
       "      <td>1.001792</td>\n",
       "      <td>449.945981</td>\n",
       "      <td>520.042219</td>\n",
       "      <td>513.761333</td>\n",
       "      <td>504.238991</td>\n",
       "      <td>505.603279</td>\n",
       "      <td>604.300762</td>\n",
       "      <td>585.631178</td>\n",
       "      <td>603.432848</td>\n",
       "      <td>608.079469</td>\n",
       "    </tr>\n",
       "  </tbody>\n",
       "</table>\n",
       "<p>5 rows × 27 columns</p>\n",
       "</div>"
      ],
      "text/plain": [
       "                      GSAT_1995_2014                                      \\\n",
       "                         Constrained                                       \n",
       "                   #0 EBM-ε AR6 orig #1 EBM-ε AR6 #2 EBM-ε S21 #3 MCE-2l   \n",
       "central                     0.874992     0.872078     0.878957  0.878357   \n",
       "likely__lower               0.777257     0.795864     0.799772  0.789813   \n",
       "likely__upper               0.962534     0.957903     0.957711  0.948694   \n",
       "very_likely__lower          0.732129     0.745053     0.753373  0.739950   \n",
       "very_likely__upper          1.001088     1.041289     1.015134  1.004356   \n",
       "\n",
       "                                                                          \\\n",
       "                                 Unconstrained                             \n",
       "                   Reference #0 EBM-ε AR6 orig #1 EBM-ε AR6 #2 EBM-ε S21   \n",
       "central             0.850668          0.819928     0.868437     0.887229   \n",
       "likely__lower       0.747173          0.570685     0.595811     0.604589   \n",
       "likely__upper       0.925369          1.158350     1.253911     1.284234   \n",
       "very_likely__lower  0.672764          0.421128     0.423112     0.425175   \n",
       "very_likely__upper  0.982209          1.512282     1.642517     1.676319   \n",
       "\n",
       "                             GSAT_recent_trend  ...                \\\n",
       "                                   Constrained  ... Unconstrained   \n",
       "                   #3 MCE-2l #0 EBM-ε AR6 orig  ...     #3 MCE-2l   \n",
       "central             0.908051          0.572080  ...      0.676432   \n",
       "likely__lower       0.599581          0.496299  ...      0.544829   \n",
       "likely__upper       1.304256          0.655112  ...      0.852897   \n",
       "very_likely__lower  0.392289          0.455778  ...      0.472493   \n",
       "very_likely__upper  1.679737          0.691874  ...      1.001792   \n",
       "\n",
       "                       OHU_1971_2018                                        \\\n",
       "                         Constrained                                         \n",
       "                   #0 EBM-ε AR6 orig #1 EBM-ε AR6 #2 EBM-ε S21   #3 MCE-2l   \n",
       "central                   377.177857   413.234755   421.597836  418.199690   \n",
       "likely__lower             345.368146   358.044173   358.743455  355.545006   \n",
       "likely__upper             426.625961   474.717251   476.196464  468.727749   \n",
       "very_likely__lower        332.036697   316.985025   317.291062  312.354964   \n",
       "very_likely__upper        449.945981   520.042219   513.761333  504.238991   \n",
       "\n",
       "                                                                            \\\n",
       "                                   Unconstrained                             \n",
       "                     Reference #0 EBM-ε AR6 orig #1 EBM-ε AR6 #2 EBM-ε S21   \n",
       "central             395.279454        341.376573   370.924032   378.017134   \n",
       "likely__lower       331.281565        246.678806   273.520468   278.041383   \n",
       "likely__upper       459.277344        472.332817   485.907600   499.906083   \n",
       "very_likely__lower  284.955629        195.838375   212.158028   212.426959   \n",
       "very_likely__upper  505.603279        604.300762   585.631178   603.432848   \n",
       "\n",
       "                                \n",
       "                                \n",
       "                     #3 MCE-2l  \n",
       "central             378.089698  \n",
       "likely__lower       267.675537  \n",
       "likely__upper       504.299998  \n",
       "very_likely__lower  193.814058  \n",
       "very_likely__upper  608.079469  \n",
       "\n",
       "[5 rows x 27 columns]"
      ]
     },
     "execution_count": 47,
     "metadata": {},
     "output_type": "execute_result"
    }
   ],
   "source": [
    "dfq = pd.concat([\n",
    "    pd.concat({\n",
    "        'Unconstrained':\n",
    "        df_inds.quantile(prob_values),\n",
    "        'Constrained':\n",
    "        df_inds_constrained.quantile(prob_values),\n",
    "    }, axis=1)\n",
    "    .reorder_levels([1, 0, 2], axis=1)\n",
    "    .rename(map_method, level=2, axis=1),\n",
    "    pd.DataFrame({\n",
    "        (k, 'Constrained', 'Reference'):\n",
    "        v.ppf(prob_values) if hasattr(v, 'ppf')\n",
    "        else np.quantile(v, prob_values)\n",
    "        for k, v in map_rv.items()\n",
    "    }, index=prob_values),\n",
    "], axis=1).sort_index(axis=1).rename(map_probability).sort_index()\n",
    "dfq"
   ]
  },
  {
   "cell_type": "code",
   "execution_count": 48,
   "metadata": {},
   "outputs": [
    {
     "name": "stderr",
     "output_type": "stream",
     "text": [
      "[2024-07-22 08:29:03 mce] INFO:saved to ./image/range_target_indicators.png\n"
     ]
    },
    {
     "data": {
      "image/png": "[encoded data removed]",
      "text/plain": [
       "<Figure size 349.2x518.4 with 3 Axes>"
      ]
     },
     "metadata": {
      "needs_background": "light"
     },
     "output_type": "display_data"
    }
   ],
   "source": [
    "map_name_unit = {\n",
    "    'GSAT_1995_2014': ('GSAT in 1995–2014 relative to 1850–1900', '°C'),\n",
    "    'GSAT_recent_trend': ('GSAT in 1995–2014 relative to 1961–1990', '°C'),\n",
    "    'OHU_1971_2018': ('OHU from 1971 to 2018', 'ZJ'),\n",
    "}\n",
    "\n",
    "plt.plot_quantile_range(\n",
    "    dfq,\n",
    "    group_order=['Unconstrained', 'Constrained'],\n",
    "    member_order=['Reference'] + [map_method[k] for k in method_case_order],\n",
    "    map_color=map_color,\n",
    "    map_name_unit=map_name_unit,\n",
    ")\n",
    "\n",
    "plt.panel_label(va='center', xytext=(8, 0))\n",
    "plt.savefig('./image/range_target_indicators.png')"
   ]
  }
 ],
 "metadata": {
  "kernelspec": {
   "display_name": "Python 3",
   "language": "python",
   "name": "python3"
  },
  "language_info": {
   "codemirror_mode": {
    "name": "ipython",
    "version": 3
   },
   "file_extension": ".py",
   "mimetype": "text/x-python",
   "name": "python",
   "nbconvert_exporter": "python",
   "pygments_lexer": "ipython3",
   "version": "3.7.10"
  }
 },
 "nbformat": 4,
 "nbformat_minor": 2
}

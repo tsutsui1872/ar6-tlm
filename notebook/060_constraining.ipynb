{
 "cells": [
  {
   "cell_type": "markdown",
   "metadata": {},
   "source": [
    "# Constraining process"
   ]
  },
  {
   "cell_type": "code",
   "execution_count": 1,
   "metadata": {},
   "outputs": [],
   "source": [
    "import yaml\n",
    "import numpy as np\n",
    "import pandas as pd\n",
    "import openpyxl\n",
    "import scipy.stats as stats\n",
    "from netCDF4 import Dataset"
   ]
  },
  {
   "cell_type": "code",
   "execution_count": 2,
   "metadata": {},
   "outputs": [],
   "source": [
    "from src.mh_sampler import sampling\n",
    "from src.util import RetrieveGitHub, df2nc"
   ]
  },
  {
   "cell_type": "code",
   "execution_count": 3,
   "metadata": {},
   "outputs": [],
   "source": [
    "owner = 'IPCC-WG1'\n",
    "repo = 'Chapter-7'\n",
    "repo_ch7 = RetrieveGitHub(owner, repo, './datain')"
   ]
  },
  {
   "cell_type": "markdown",
   "metadata": {},
   "source": [
    "## Reference data"
   ]
  },
  {
   "cell_type": "code",
   "execution_count": 4,
   "metadata": {},
   "outputs": [
    {
     "name": "stderr",
     "output_type": "stream",
     "text": [
      "[2024-07-07 14:51:12 src.util] INFO:Use local file datain/IPCC-WG1/Chapter-7/data_input/observations/AR6 FGD assessment time series - GMST and GSAT.xlsx retrieved from https://github.com/IPCC-WG1/Chapter-7/raw/main/data_input/observations/AR6%20FGD%20assessment%20time%20series%20-%20GMST%20and%20GSAT.xlsx on 2024-06-20\n"
     ]
    }
   ],
   "source": [
    "path = 'data_input/observations/AR6 FGD assessment time series - GMST and GSAT.xlsx'\n",
    "path = repo_ch7.retrieve(path)"
   ]
  },
  {
   "cell_type": "code",
   "execution_count": 5,
   "metadata": {},
   "outputs": [],
   "source": [
    "wb = openpyxl.load_workbook(path, read_only=True, data_only=True)\n",
    "ws = wb['GMST data sets and changes']\n",
    "rows = ws.iter_rows(\n",
    "    min_row=2, # 1-based index\n",
    "    max_row=2+(2020 - 1850 + 1),\n",
    "    min_col=12,\n",
    "    max_col=20,\n",
    "    values_only=True,\n",
    ")\n",
    "columns = next(rows)\n",
    "df_gmst_obs = (\n",
    "    pd.DataFrame(list(rows), columns=('Year',) + columns[1:])\n",
    "    .dropna(axis=1)\n",
    "    .set_index('Year')\n",
    ")\n",
    "wb.close()"
   ]
  },
  {
   "cell_type": "code",
   "execution_count": 6,
   "metadata": {},
   "outputs": [
    {
     "name": "stderr",
     "output_type": "stream",
     "text": [
      "[2024-07-07 14:51:18 src.util] INFO:Use local file datain/IPCC-WG1/Chapter-7/data_input/observations/AR6_OHC_ensemble_FGDprelim.csv retrieved from https://github.com/IPCC-WG1/Chapter-7/raw/main/data_input/observations/AR6_OHC_ensemble_FGDprelim.csv on 2024-06-20\n"
     ]
    }
   ],
   "source": [
    "path = 'data_input/observations/AR6_OHC_ensemble_FGDprelim.csv'\n",
    "path = repo_ch7.retrieve(path)"
   ]
  },
  {
   "cell_type": "code",
   "execution_count": 7,
   "metadata": {},
   "outputs": [],
   "source": [
    "df_ohc_obs = pd.read_csv(path, skiprows=1, index_col=0)"
   ]
  },
  {
   "cell_type": "code",
   "execution_count": 8,
   "metadata": {},
   "outputs": [],
   "source": [
    "name_central = 'Central Estimate Full-depth'\n",
    "name_unc = 'Full-depth Uncertainty (1-sigma)'\n",
    "d_ohu_obs = (df_ohc_obs.loc[2018.5, name_central] - df_ohc_obs.loc[1971.5, name_central])\n",
    "d_ohu_obs_unc = np.sqrt(\n",
    "    df_ohc_obs.loc[1971.5, name_unc]**2 + df_ohc_obs.loc[2018.5, name_unc]**2\n",
    ")"
   ]
  },
  {
   "cell_type": "markdown",
   "metadata": {},
   "source": [
    "## Results from the unconstrained runs"
   ]
  },
  {
   "cell_type": "code",
   "execution_count": 9,
   "metadata": {},
   "outputs": [],
   "source": [
    "ncf = Dataset('./dataout/unconstrained_run.nc')"
   ]
  },
  {
   "cell_type": "code",
   "execution_count": 10,
   "metadata": {},
   "outputs": [],
   "source": [
    "method_order = ncf.variables['Method'][:].tolist()\n",
    "columns = pd.Index(ncf.variables['Year'][:])\n",
    "index = pd.MultiIndex.from_product([ncf.variables['Member'][:], method_order])"
   ]
  },
  {
   "cell_type": "code",
   "execution_count": 11,
   "metadata": {},
   "outputs": [
    {
     "data": {
      "text/plain": [
       "['ar6', 'ar6_orig', 'mce-2l', 's21']"
      ]
     },
     "execution_count": 11,
     "metadata": {},
     "output_type": "execute_result"
    }
   ],
   "source": [
    "method_order"
   ]
  },
  {
   "cell_type": "code",
   "execution_count": 12,
   "metadata": {},
   "outputs": [],
   "source": [
    "df = pd.DataFrame(\n",
    "    ncf.variables['tg'][:].reshape((-1, len(columns))),\n",
    "    index=index, columns=columns,\n",
    ")\n",
    "df_gsat = df.sub(df.loc[:, 1850:1900].mean(axis=1), axis=0)"
   ]
  },
  {
   "cell_type": "code",
   "execution_count": 13,
   "metadata": {},
   "outputs": [],
   "source": [
    "df = pd.DataFrame(\n",
    "    ncf.variables['ohc'][:].reshape((-1, len(columns))),\n",
    "    index=index, columns=columns,\n",
    ")\n",
    "ohu_rate = 0.90 # Use an assumed factor of 0.90\n",
    "d_ohu = df[2018].sub(df[1971]).mul(ohu_rate)"
   ]
  },
  {
   "cell_type": "markdown",
   "metadata": {},
   "source": [
    "## Constraining based on AR6 Chapter 7"
   ]
  },
  {
   "cell_type": "code",
   "execution_count": 14,
   "metadata": {},
   "outputs": [],
   "source": [
    "df = df_gsat.loc[:, 1850:2014].sub(df_gmst_obs.loc[1850:2014, '4-set mean'])\n",
    "d_rmse_temp = np.sqrt((df**2).sum(axis=1).div(df.shape[1]))\n",
    "rmse_temp_crit = 0.135\n",
    "accept_temp = d_rmse_temp < rmse_temp_crit"
   ]
  },
  {
   "cell_type": "code",
   "execution_count": 15,
   "metadata": {},
   "outputs": [],
   "source": [
    "accept_ohu = (\n",
    "    (d_ohu > d_ohu_obs - d_ohu_obs_unc)\n",
    "    &\n",
    "    (d_ohu < d_ohu_obs + d_ohu_obs_unc)\n",
    ")"
   ]
  },
  {
   "cell_type": "code",
   "execution_count": 16,
   "metadata": {},
   "outputs": [],
   "source": [
    "df_accept = pd.concat([\n",
    "    accept_temp.to_frame('temp'),\n",
    "    accept_ohu.to_frame('ohu'),\n",
    "    np.logical_and(accept_temp, accept_ohu).to_frame('all'),\n",
    "], axis=1)"
   ]
  },
  {
   "cell_type": "code",
   "execution_count": 17,
   "metadata": {},
   "outputs": [
    {
     "data": {
      "text/html": [
       "<div>\n",
       "<style scoped>\n",
       "    .dataframe tbody tr th:only-of-type {\n",
       "        vertical-align: middle;\n",
       "    }\n",
       "\n",
       "    .dataframe tbody tr th {\n",
       "        vertical-align: top;\n",
       "    }\n",
       "\n",
       "    .dataframe thead th {\n",
       "        text-align: right;\n",
       "    }\n",
       "</style>\n",
       "<table border=\"1\" class=\"dataframe\">\n",
       "  <thead>\n",
       "    <tr style=\"text-align: right;\">\n",
       "      <th></th>\n",
       "      <th>temp</th>\n",
       "      <th>ohu</th>\n",
       "      <th>all</th>\n",
       "    </tr>\n",
       "  </thead>\n",
       "  <tbody>\n",
       "    <tr>\n",
       "      <th>ar6</th>\n",
       "      <td>11521</td>\n",
       "      <td>21843</td>\n",
       "      <td>8528</td>\n",
       "    </tr>\n",
       "    <tr>\n",
       "      <th>ar6_orig</th>\n",
       "      <td>13591</td>\n",
       "      <td>17925</td>\n",
       "      <td>8141</td>\n",
       "    </tr>\n",
       "    <tr>\n",
       "      <th>mce-2l</th>\n",
       "      <td>7925</td>\n",
       "      <td>20206</td>\n",
       "      <td>6078</td>\n",
       "    </tr>\n",
       "    <tr>\n",
       "      <th>s21</th>\n",
       "      <td>11241</td>\n",
       "      <td>21510</td>\n",
       "      <td>8257</td>\n",
       "    </tr>\n",
       "  </tbody>\n",
       "</table>\n",
       "</div>"
      ],
      "text/plain": [
       "           temp    ohu   all\n",
       "ar6       11521  21843  8528\n",
       "ar6_orig  13591  17925  8141\n",
       "mce-2l     7925  20206  6078\n",
       "s21       11241  21510  8257"
      ]
     },
     "execution_count": 17,
     "metadata": {},
     "output_type": "execute_result"
    }
   ],
   "source": [
    "df_accept.groupby(level=1).sum()"
   ]
  },
  {
   "cell_type": "code",
   "execution_count": 18,
   "metadata": {},
   "outputs": [],
   "source": [
    "df_accept.to_csv('./dataout/constraining_ar6_accept.csv')"
   ]
  },
  {
   "cell_type": "markdown",
   "metadata": {},
   "source": [
    "## Alternative MH independent sampler"
   ]
  },
  {
   "cell_type": "code",
   "execution_count": 19,
   "metadata": {},
   "outputs": [],
   "source": [
    "def asymmetric_gaussian(central, unc90, size=10000, random_state=1):\n",
    "    \"\"\"\n",
    "    Returns asymmetric gaussian series for a central value and 90% uncertainty range\n",
    "    \"\"\"\n",
    "    NINETY_TO_ONESIGMA = stats.norm.ppf(0.95)\n",
    "    d1 = stats.norm.rvs(\n",
    "        size=size,\n",
    "        loc=np.ones(size),\n",
    "        scale=np.ones(size) * (unc90[1]/central-1.) / NINETY_TO_ONESIGMA,\n",
    "        random_state=1,\n",
    "    )\n",
    "    d1 = pd.Series(d1)\n",
    "    d1 = d1.where(d1 > 1., (d1 - 1.) * ((central-unc90[0])/(unc90[1]-central)) + 1.)\n",
    "    return d1.mul(central)"
   ]
  },
  {
   "cell_type": "code",
   "execution_count": 20,
   "metadata": {},
   "outputs": [],
   "source": [
    "df_ind = []\n",
    "map_rv = {}\n",
    "\n",
    "# Based on AR6-assessed GSAT ranges shown in Cross Chapter Box 2.3, Table 1\n",
    "name = 'GSAT_1995_2014'\n",
    "df_ind.append(df_gsat.loc[:, 1995:2014].mean(axis=1).rename(name))\n",
    "map_rv[name] = asymmetric_gaussian(0.85, (0.67, 0.98))\n",
    "\n",
    "name = 'GSAT_recent_trend'\n",
    "df_ind.append(\n",
    "    df_gsat.loc[:, 1995:2014].mean(axis=1).sub(\n",
    "        df_gsat.loc[:, 1961:1990].mean(axis=1)\n",
    "    ).rename(name)\n",
    ")\n",
    "map_rv[name] = stats.norm(\n",
    "    loc=0.85 - 0.36,\n",
    "    scale=np.sqrt(\n",
    "        asymmetric_gaussian(0.36, (0.22, 0.45)).var()\n",
    "        +\n",
    "        asymmetric_gaussian(0.85, (0.67, 0.98)).var()\n",
    "    ),\n",
    ")\n",
    "\n",
    "name = 'OHU_1971_2018'\n",
    "df_ind.append(d_ohu.rename(name))\n",
    "map_rv[name] = stats.norm(loc=d_ohu_obs, scale=d_ohu_obs_unc)\n",
    "\n",
    "df_ind = pd.DataFrame(df_ind).T"
   ]
  },
  {
   "cell_type": "code",
   "execution_count": 21,
   "metadata": {},
   "outputs": [],
   "source": [
    "def wrap_sampling(df, rv, seed):\n",
    "    name = df.name\n",
    "    print(name)\n",
    "    df = df.droplevel(1)\n",
    "    df1 = df.squeeze()\n",
    "\n",
    "    if df1.ndim == 1:\n",
    "        mean = rv[df1.name].mean()\n",
    "        sig2 = rv[df1.name].var()\n",
    "        ret = sampling(df1, mean, sig2, seed=seed)\n",
    "    else:\n",
    "        mean = np.array([rv[name_ind].mean() for name_ind in df])\n",
    "        sig2 = np.array([rv[name_ind].var() for name_ind in df])\n",
    "        # Target covariance is assumed to be scaled from input covariance\n",
    "        # with the ratio of target variance to input variance\n",
    "        cov = df.cov().values\n",
    "        scale = np.sqrt(sig2 / cov.diagonal())\n",
    "        scale = scale * scale.reshape((-1, 1))\n",
    "        ret = sampling(df, mean, cov * scale, seed=seed)\n",
    "\n",
    "    return pd.Series(df.index[ret])"
   ]
  },
  {
   "cell_type": "code",
   "execution_count": 22,
   "metadata": {},
   "outputs": [],
   "source": [
    "map_seed = {\n",
    "    'mh': 102,\n",
    "    'mh_post': 103,\n",
    "}"
   ]
  },
  {
   "cell_type": "code",
   "execution_count": 23,
   "metadata": {},
   "outputs": [
    {
     "data": {
      "text/html": [
       "<div>\n",
       "<style scoped>\n",
       "    .dataframe tbody tr th:only-of-type {\n",
       "        vertical-align: middle;\n",
       "    }\n",
       "\n",
       "    .dataframe tbody tr th {\n",
       "        vertical-align: top;\n",
       "    }\n",
       "\n",
       "    .dataframe thead th {\n",
       "        text-align: right;\n",
       "    }\n",
       "</style>\n",
       "<table border=\"1\" class=\"dataframe\">\n",
       "  <thead>\n",
       "    <tr style=\"text-align: right;\">\n",
       "      <th></th>\n",
       "      <th>GSAT_1995_2014</th>\n",
       "      <th>GSAT_recent_trend</th>\n",
       "      <th>OHU_1971_2018</th>\n",
       "    </tr>\n",
       "  </thead>\n",
       "  <tbody>\n",
       "    <tr>\n",
       "      <th>0</th>\n",
       "      <td>1.070317</td>\n",
       "      <td>0.709512</td>\n",
       "      <td>514.376014</td>\n",
       "    </tr>\n",
       "    <tr>\n",
       "      <th>1</th>\n",
       "      <td>1.615536</td>\n",
       "      <td>1.184818</td>\n",
       "      <td>419.908844</td>\n",
       "    </tr>\n",
       "    <tr>\n",
       "      <th>2</th>\n",
       "      <td>0.899945</td>\n",
       "      <td>0.539019</td>\n",
       "      <td>444.462915</td>\n",
       "    </tr>\n",
       "    <tr>\n",
       "      <th>3</th>\n",
       "      <td>1.231196</td>\n",
       "      <td>0.788284</td>\n",
       "      <td>453.848101</td>\n",
       "    </tr>\n",
       "    <tr>\n",
       "      <th>4</th>\n",
       "      <td>1.046899</td>\n",
       "      <td>0.831918</td>\n",
       "      <td>414.474295</td>\n",
       "    </tr>\n",
       "    <tr>\n",
       "      <th>...</th>\n",
       "      <td>...</td>\n",
       "      <td>...</td>\n",
       "      <td>...</td>\n",
       "    </tr>\n",
       "    <tr>\n",
       "      <th>49995</th>\n",
       "      <td>0.280946</td>\n",
       "      <td>0.533467</td>\n",
       "      <td>176.515285</td>\n",
       "    </tr>\n",
       "    <tr>\n",
       "      <th>49996</th>\n",
       "      <td>1.057469</td>\n",
       "      <td>0.884918</td>\n",
       "      <td>457.181894</td>\n",
       "    </tr>\n",
       "    <tr>\n",
       "      <th>49997</th>\n",
       "      <td>0.987590</td>\n",
       "      <td>0.617667</td>\n",
       "      <td>439.979369</td>\n",
       "    </tr>\n",
       "    <tr>\n",
       "      <th>49998</th>\n",
       "      <td>1.352421</td>\n",
       "      <td>0.741100</td>\n",
       "      <td>589.054299</td>\n",
       "    </tr>\n",
       "    <tr>\n",
       "      <th>49999</th>\n",
       "      <td>0.769909</td>\n",
       "      <td>0.780195</td>\n",
       "      <td>346.509940</td>\n",
       "    </tr>\n",
       "  </tbody>\n",
       "</table>\n",
       "<p>50000 rows × 3 columns</p>\n",
       "</div>"
      ],
      "text/plain": [
       "       GSAT_1995_2014  GSAT_recent_trend  OHU_1971_2018\n",
       "0            1.070317           0.709512     514.376014\n",
       "1            1.615536           1.184818     419.908844\n",
       "2            0.899945           0.539019     444.462915\n",
       "3            1.231196           0.788284     453.848101\n",
       "4            1.046899           0.831918     414.474295\n",
       "...               ...                ...            ...\n",
       "49995        0.280946           0.533467     176.515285\n",
       "49996        1.057469           0.884918     457.181894\n",
       "49997        0.987590           0.617667     439.979369\n",
       "49998        1.352421           0.741100     589.054299\n",
       "49999        0.769909           0.780195     346.509940\n",
       "\n",
       "[50000 rows x 3 columns]"
      ]
     },
     "execution_count": 23,
     "metadata": {},
     "output_type": "execute_result"
    }
   ],
   "source": [
    "df_ind.groupby(level=1).get_group('ar6').droplevel(1)"
   ]
  },
  {
   "cell_type": "code",
   "execution_count": 24,
   "metadata": {},
   "outputs": [
    {
     "name": "stdout",
     "output_type": "stream",
     "text": [
      "ar6\n"
     ]
    },
    {
     "name": "stderr",
     "output_type": "stream",
     "text": [
      "[2024-07-07 14:54:38 src.mh_sampler] INFO:acceptance rate 0.11044\n"
     ]
    },
    {
     "name": "stdout",
     "output_type": "stream",
     "text": [
      "ar6_orig\n"
     ]
    },
    {
     "name": "stderr",
     "output_type": "stream",
     "text": [
      "[2024-07-07 14:55:31 src.mh_sampler] INFO:acceptance rate 0.09638\n"
     ]
    },
    {
     "name": "stdout",
     "output_type": "stream",
     "text": [
      "mce-2l\n"
     ]
    },
    {
     "name": "stderr",
     "output_type": "stream",
     "text": [
      "[2024-07-07 14:56:24 src.mh_sampler] INFO:acceptance rate 0.07396\n"
     ]
    },
    {
     "name": "stdout",
     "output_type": "stream",
     "text": [
      "s21\n"
     ]
    },
    {
     "name": "stderr",
     "output_type": "stream",
     "text": [
      "[2024-07-07 14:57:16 src.mh_sampler] INFO:acceptance rate 0.1096\n"
     ]
    }
   ],
   "source": [
    "df_mhout = (\n",
    "    df_ind\n",
    "    .groupby(level=1)\n",
    "    .apply(wrap_sampling, map_rv, map_seed['mh'])\n",
    ")"
   ]
  },
  {
   "cell_type": "code",
   "execution_count": 25,
   "metadata": {},
   "outputs": [],
   "source": [
    "with open('./src/variables.yml') as f1:\n",
    "    var_atts = yaml.safe_load(f1)"
   ]
  },
  {
   "cell_type": "code",
   "execution_count": 30,
   "metadata": {},
   "outputs": [],
   "source": [
    "df_ind = (\n",
    "    df_ind\n",
    "    .rename_axis(['Member', 'Method'])\n",
    "    .rename_axis(columns='Variable')\n",
    "    .unstack('Method')\n",
    ")"
   ]
  },
  {
   "cell_type": "code",
   "execution_count": 31,
   "metadata": {},
   "outputs": [
    {
     "name": "stderr",
     "output_type": "stream",
     "text": [
      "[2024-07-07 15:11:04 src.util] INFO:dataout/constraining_ind.nc is created\n"
     ]
    }
   ],
   "source": [
    "path_out = './dataout/constraining_ind.nc'\n",
    "df2nc(path_out, df_ind.iloc[:1], var_atts)"
   ]
  },
  {
   "cell_type": "code",
   "execution_count": 32,
   "metadata": {},
   "outputs": [],
   "source": [
    "ncf = Dataset(path_out, 'r+')"
   ]
  },
  {
   "cell_type": "code",
   "execution_count": 36,
   "metadata": {},
   "outputs": [],
   "source": [
    "ncf.variables['Member'][:] = df_ind.index.values"
   ]
  },
  {
   "cell_type": "code",
   "execution_count": 44,
   "metadata": {},
   "outputs": [],
   "source": [
    "method_order_file = ncf.variables['Method'][:].tolist()"
   ]
  },
  {
   "cell_type": "code",
   "execution_count": 49,
   "metadata": {},
   "outputs": [],
   "source": [
    "for k, v in df_ind.groupby('Variable', axis=1):\n",
    "    ncf.variables[k][:] = v.droplevel(0, axis=1)[method_order_file].values"
   ]
  },
  {
   "cell_type": "code",
   "execution_count": 50,
   "metadata": {},
   "outputs": [],
   "source": [
    "ncf.close()"
   ]
  },
  {
   "cell_type": "code",
   "execution_count": 51,
   "metadata": {},
   "outputs": [],
   "source": [
    "(\n",
    "    df_mhout\n",
    "    .rename_axis('Method')\n",
    "    .rename_axis(columns='Member')\n",
    "    .T\n",
    "    .to_csv('./dataout/constraining_mhout.csv')\n",
    ")"
   ]
  },
  {
   "cell_type": "markdown",
   "metadata": {},
   "source": [
    "## Post processing\n",
    "\n",
    "Reducing the constrained member size to 600"
   ]
  },
  {
   "cell_type": "code",
   "execution_count": 52,
   "metadata": {},
   "outputs": [],
   "source": [
    "df_member_1 = pd.DataFrame({\n",
    "    method:\n",
    "    d1.loc[d1].iloc[:600].index.get_level_values(0).values\n",
    "    for method, d1 in df_accept['all'].groupby(level=1)\n",
    "})"
   ]
  },
  {
   "cell_type": "code",
   "execution_count": 53,
   "metadata": {},
   "outputs": [
    {
     "data": {
      "text/html": [
       "<div>\n",
       "<style scoped>\n",
       "    .dataframe tbody tr th:only-of-type {\n",
       "        vertical-align: middle;\n",
       "    }\n",
       "\n",
       "    .dataframe tbody tr th {\n",
       "        vertical-align: top;\n",
       "    }\n",
       "\n",
       "    .dataframe thead th {\n",
       "        text-align: right;\n",
       "    }\n",
       "</style>\n",
       "<table border=\"1\" class=\"dataframe\">\n",
       "  <thead>\n",
       "    <tr style=\"text-align: right;\">\n",
       "      <th></th>\n",
       "      <th>ar6</th>\n",
       "      <th>ar6_orig</th>\n",
       "      <th>mce-2l</th>\n",
       "      <th>s21</th>\n",
       "    </tr>\n",
       "  </thead>\n",
       "  <tbody>\n",
       "    <tr>\n",
       "      <th>0</th>\n",
       "      <td>2</td>\n",
       "      <td>7</td>\n",
       "      <td>11</td>\n",
       "      <td>7</td>\n",
       "    </tr>\n",
       "    <tr>\n",
       "      <th>1</th>\n",
       "      <td>13</td>\n",
       "      <td>11</td>\n",
       "      <td>15</td>\n",
       "      <td>12</td>\n",
       "    </tr>\n",
       "    <tr>\n",
       "      <th>2</th>\n",
       "      <td>16</td>\n",
       "      <td>15</td>\n",
       "      <td>22</td>\n",
       "      <td>13</td>\n",
       "    </tr>\n",
       "    <tr>\n",
       "      <th>3</th>\n",
       "      <td>22</td>\n",
       "      <td>16</td>\n",
       "      <td>37</td>\n",
       "      <td>15</td>\n",
       "    </tr>\n",
       "    <tr>\n",
       "      <th>4</th>\n",
       "      <td>24</td>\n",
       "      <td>24</td>\n",
       "      <td>38</td>\n",
       "      <td>16</td>\n",
       "    </tr>\n",
       "    <tr>\n",
       "      <th>...</th>\n",
       "      <td>...</td>\n",
       "      <td>...</td>\n",
       "      <td>...</td>\n",
       "      <td>...</td>\n",
       "    </tr>\n",
       "    <tr>\n",
       "      <th>595</th>\n",
       "      <td>3707</td>\n",
       "      <td>3460</td>\n",
       "      <td>4942</td>\n",
       "      <td>3444</td>\n",
       "    </tr>\n",
       "    <tr>\n",
       "      <th>596</th>\n",
       "      <td>3724</td>\n",
       "      <td>3477</td>\n",
       "      <td>4957</td>\n",
       "      <td>3451</td>\n",
       "    </tr>\n",
       "    <tr>\n",
       "      <th>597</th>\n",
       "      <td>3727</td>\n",
       "      <td>3481</td>\n",
       "      <td>4961</td>\n",
       "      <td>3458</td>\n",
       "    </tr>\n",
       "    <tr>\n",
       "      <th>598</th>\n",
       "      <td>3736</td>\n",
       "      <td>3483</td>\n",
       "      <td>4983</td>\n",
       "      <td>3462</td>\n",
       "    </tr>\n",
       "    <tr>\n",
       "      <th>599</th>\n",
       "      <td>3741</td>\n",
       "      <td>3489</td>\n",
       "      <td>4989</td>\n",
       "      <td>3471</td>\n",
       "    </tr>\n",
       "  </tbody>\n",
       "</table>\n",
       "<p>600 rows × 4 columns</p>\n",
       "</div>"
      ],
      "text/plain": [
       "      ar6  ar6_orig  mce-2l   s21\n",
       "0       2         7      11     7\n",
       "1      13        11      15    12\n",
       "2      16        15      22    13\n",
       "3      22        16      37    15\n",
       "4      24        24      38    16\n",
       "..    ...       ...     ...   ...\n",
       "595  3707      3460    4942  3444\n",
       "596  3724      3477    4957  3451\n",
       "597  3727      3481    4961  3458\n",
       "598  3736      3483    4983  3462\n",
       "599  3741      3489    4989  3471\n",
       "\n",
       "[600 rows x 4 columns]"
      ]
     },
     "execution_count": 53,
     "metadata": {},
     "output_type": "execute_result"
    }
   ],
   "source": [
    "df_member_1"
   ]
  },
  {
   "cell_type": "code",
   "execution_count": 54,
   "metadata": {},
   "outputs": [],
   "source": [
    "# Randomize the constrained members and reduce the size to 600\n",
    "df_member = {}\n",
    "np.random.seed(map_seed['mh_post'])\n",
    "\n",
    "# order changed for consistency with the previous run\n",
    "for method in ['ar6_orig', 'ar6', 's21', 'mce-2l']:\n",
    "    d1 = df_mhout.loc[method]\n",
    "    df_member[method] = pd.Series(np.array(d1)[np.random.randint(0, len(d1), 600)])\n",
    "\n",
    "df_member = pd.DataFrame(df_member)"
   ]
  },
  {
   "cell_type": "code",
   "execution_count": 55,
   "metadata": {},
   "outputs": [
    {
     "data": {
      "text/html": [
       "<div>\n",
       "<style scoped>\n",
       "    .dataframe tbody tr th:only-of-type {\n",
       "        vertical-align: middle;\n",
       "    }\n",
       "\n",
       "    .dataframe tbody tr th {\n",
       "        vertical-align: top;\n",
       "    }\n",
       "\n",
       "    .dataframe thead th {\n",
       "        text-align: right;\n",
       "    }\n",
       "</style>\n",
       "<table border=\"1\" class=\"dataframe\">\n",
       "  <thead>\n",
       "    <tr style=\"text-align: right;\">\n",
       "      <th></th>\n",
       "      <th>ar6_orig</th>\n",
       "      <th>ar6</th>\n",
       "      <th>s21</th>\n",
       "      <th>mce-2l</th>\n",
       "    </tr>\n",
       "  </thead>\n",
       "  <tbody>\n",
       "    <tr>\n",
       "      <th>0</th>\n",
       "      <td>24312</td>\n",
       "      <td>7796</td>\n",
       "      <td>22342</td>\n",
       "      <td>9649</td>\n",
       "    </tr>\n",
       "    <tr>\n",
       "      <th>1</th>\n",
       "      <td>23899</td>\n",
       "      <td>10266</td>\n",
       "      <td>24905</td>\n",
       "      <td>34909</td>\n",
       "    </tr>\n",
       "    <tr>\n",
       "      <th>2</th>\n",
       "      <td>46289</td>\n",
       "      <td>12618</td>\n",
       "      <td>38955</td>\n",
       "      <td>17814</td>\n",
       "    </tr>\n",
       "    <tr>\n",
       "      <th>3</th>\n",
       "      <td>16155</td>\n",
       "      <td>25845</td>\n",
       "      <td>6674</td>\n",
       "      <td>45096</td>\n",
       "    </tr>\n",
       "    <tr>\n",
       "      <th>4</th>\n",
       "      <td>13573</td>\n",
       "      <td>17894</td>\n",
       "      <td>48938</td>\n",
       "      <td>30940</td>\n",
       "    </tr>\n",
       "    <tr>\n",
       "      <th>...</th>\n",
       "      <td>...</td>\n",
       "      <td>...</td>\n",
       "      <td>...</td>\n",
       "      <td>...</td>\n",
       "    </tr>\n",
       "    <tr>\n",
       "      <th>595</th>\n",
       "      <td>11904</td>\n",
       "      <td>46701</td>\n",
       "      <td>36618</td>\n",
       "      <td>8243</td>\n",
       "    </tr>\n",
       "    <tr>\n",
       "      <th>596</th>\n",
       "      <td>32570</td>\n",
       "      <td>44151</td>\n",
       "      <td>4038</td>\n",
       "      <td>46505</td>\n",
       "    </tr>\n",
       "    <tr>\n",
       "      <th>597</th>\n",
       "      <td>11207</td>\n",
       "      <td>30470</td>\n",
       "      <td>47393</td>\n",
       "      <td>41679</td>\n",
       "    </tr>\n",
       "    <tr>\n",
       "      <th>598</th>\n",
       "      <td>32012</td>\n",
       "      <td>6294</td>\n",
       "      <td>37515</td>\n",
       "      <td>8265</td>\n",
       "    </tr>\n",
       "    <tr>\n",
       "      <th>599</th>\n",
       "      <td>30559</td>\n",
       "      <td>44240</td>\n",
       "      <td>4269</td>\n",
       "      <td>20166</td>\n",
       "    </tr>\n",
       "  </tbody>\n",
       "</table>\n",
       "<p>600 rows × 4 columns</p>\n",
       "</div>"
      ],
      "text/plain": [
       "     ar6_orig    ar6    s21  mce-2l\n",
       "0       24312   7796  22342    9649\n",
       "1       23899  10266  24905   34909\n",
       "2       46289  12618  38955   17814\n",
       "3       16155  25845   6674   45096\n",
       "4       13573  17894  48938   30940\n",
       "..        ...    ...    ...     ...\n",
       "595     11904  46701  36618    8243\n",
       "596     32570  44151   4038   46505\n",
       "597     11207  30470  47393   41679\n",
       "598     32012   6294  37515    8265\n",
       "599     30559  44240   4269   20166\n",
       "\n",
       "[600 rows x 4 columns]"
      ]
     },
     "execution_count": 55,
     "metadata": {},
     "output_type": "execute_result"
    }
   ],
   "source": [
    "df_member"
   ]
  },
  {
   "cell_type": "code",
   "execution_count": 56,
   "metadata": {},
   "outputs": [
    {
     "data": {
      "text/plain": [
       "ar6_orig    515\n",
       "ar6         512\n",
       "s21         543\n",
       "mce-2l      488\n",
       "dtype: int64"
      ]
     },
     "execution_count": 56,
     "metadata": {},
     "output_type": "execute_result"
    }
   ],
   "source": [
    "# Number of unique members\n",
    "df_member.agg(lambda d1: len(pd.unique(d1)))"
   ]
  },
  {
   "cell_type": "code",
   "execution_count": 57,
   "metadata": {},
   "outputs": [],
   "source": [
    "df = pd.concat(\n",
    "    [df_member_1[method_order], df_member[method_order]],\n",
    "    axis=1,\n",
    ")\n",
    "df.columns = pd.MultiIndex.from_product(\n",
    "    [['ar6_chapter7', 'mh_sampler'], method_order],\n",
    ")"
   ]
  },
  {
   "cell_type": "code",
   "execution_count": 58,
   "metadata": {},
   "outputs": [],
   "source": [
    "(\n",
    "    df\n",
    "    .rename_axis('Sequence')\n",
    "    .rename_axis(columns=['Constraining', 'Sampling'])\n",
    "    .to_csv('./dataout/constraining_results.csv')\n",
    ")"
   ]
  }
 ],
 "metadata": {
  "kernelspec": {
   "display_name": "Python 3",
   "language": "python",
   "name": "python3"
  },
  "language_info": {
   "codemirror_mode": {
    "name": "ipython",
    "version": 3
   },
   "file_extension": ".py",
   "mimetype": "text/x-python",
   "name": "python",
   "nbconvert_exporter": "python",
   "pygments_lexer": "ipython3",
   "version": "3.7.10"
  }
 },
 "nbformat": 4,
 "nbformat_minor": 2
}
